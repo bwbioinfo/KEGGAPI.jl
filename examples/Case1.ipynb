{
  "cells": [
    {
      "cell_type": "markdown",
      "metadata": {
        "id": "gEUClGc1JTAY"
      },
      "source": [
        "# <img src=\"https://github.com/JuliaLang/julia-logo-graphics/raw/master/images/julia-logo-color.png\" height=\"100\" /> _Colab Notebook Template_\n",
        "\n",
        "## Instructions\n",
        "1. Work on a copy of this notebook: _File_ > _Save a copy in Drive_ (you will need a Google account). Alternatively, you can download the notebook using _File_ > _Download .ipynb_, then upload it to [Colab](https://colab.research.google.com/).\n",
        "2. If you need a GPU: _Runtime_ > _Change runtime type_ > _Hardware accelerator_ = _GPU_.\n",
        "3. Execute the following cell (click on it and press Ctrl+Enter) to install Julia, IJulia and other packages (if needed, update `JULIA_VERSION` and the other parameters). This takes a couple of minutes.\n",
        "4. Reload this page (press Ctrl+R, or ⌘+R, or the F5 key) and continue to the next section.\n",
        "\n",
        "_Notes_:\n",
        "* If your Colab Runtime gets reset (e.g., due to inactivity), repeat steps 2, 3 and 4.\n",
        "* After installation, if you want to change the Julia version or activate/deactivate the GPU, you will need to reset the Runtime: _Runtime_ > _Factory reset runtime_ and repeat steps 3 and 4."
      ]
    },
    {
      "cell_type": "code",
      "execution_count": null,
      "metadata": {
        "id": "ZC527yn-JRaI"
      },
      "outputs": [],
      "source": [
        "%%shell\n",
        "set -e\n",
        "\n",
        "#---------------------------------------------------#\n",
        "JULIA_VERSION=\"1.8.2\" # any version ≥ 0.7.0\n",
        "JULIA_PACKAGES=\"IJulia BenchmarkTools\"\n",
        "JULIA_PACKAGES_IF_GPU=\"CUDA\" # or CuArrays for older Julia versions\n",
        "JULIA_NUM_THREADS=2\n",
        "#---------------------------------------------------#\n",
        "\n",
        "if [ -z `which julia` ]; then\n",
        "  # Install Julia\n",
        "  JULIA_VER=`cut -d '.' -f -2 <<< \"$JULIA_VERSION\"`\n",
        "  echo \"Installing Julia $JULIA_VERSION on the current Colab Runtime...\"\n",
        "  BASE_URL=\"https://julialang-s3.julialang.org/bin/linux/x64\"\n",
        "  URL=\"$BASE_URL/$JULIA_VER/julia-$JULIA_VERSION-linux-x86_64.tar.gz\"\n",
        "  wget -nv $URL -O /tmp/julia.tar.gz # -nv means \"not verbose\"\n",
        "  tar -x -f /tmp/julia.tar.gz -C /usr/local --strip-components 1\n",
        "  rm /tmp/julia.tar.gz\n",
        "\n",
        "  # Install Packages\n",
        "  nvidia-smi -L &> /dev/null && export GPU=1 || export GPU=0\n",
        "  if [ $GPU -eq 1 ]; then\n",
        "    JULIA_PACKAGES=\"$JULIA_PACKAGES $JULIA_PACKAGES_IF_GPU\"\n",
        "  fi\n",
        "  for PKG in `echo $JULIA_PACKAGES`; do\n",
        "    echo \"Installing Julia package $PKG...\"\n",
        "    julia -e 'using Pkg; pkg\"add '$PKG'; precompile;\"' &> /dev/null\n",
        "  done\n",
        "\n",
        "  # Install kernel and rename it to \"julia\"\n",
        "  echo \"Installing IJulia kernel...\"\n",
        "  julia -e 'using IJulia; IJulia.installkernel(\"julia\", env=Dict(\n",
        "      \"JULIA_NUM_THREADS\"=>\"'\"$JULIA_NUM_THREADS\"'\"))'\n",
        "  KERNEL_DIR=`julia -e \"using IJulia; print(IJulia.kerneldir())\"`\n",
        "  KERNEL_NAME=`ls -d \"$KERNEL_DIR\"/julia*`\n",
        "  mv -f $KERNEL_NAME \"$KERNEL_DIR\"/julia\n",
        "\n",
        "  echo ''\n",
        "  echo \"Successfully installed `julia -v`!\"\n",
        "  echo \"Please reload this page (press Ctrl+R, ⌘+R, or the F5 key) then\"\n",
        "  echo \"jump to the 'Checking the Installation' section.\"\n",
        "fi"
      ]
    },
    {
      "cell_type": "code",
      "execution_count": null,
      "metadata": {
        "id": "aHkU6NpPJgBi"
      },
      "outputs": [],
      "source": [
        "versioninfo()"
      ]
    },
    {
      "cell_type": "code",
      "execution_count": null,
      "metadata": {
        "id": "Ff0GHbJoJjG6"
      },
      "outputs": [],
      "source": [
        "using Pkg"
      ]
    },
    {
      "cell_type": "code",
      "execution_count": null,
      "metadata": {
        "id": "_HDCtvfPJodU"
      },
      "outputs": [],
      "source": [
        "Pkg.add(\"Revise\")\n",
        "Pkg.add(\"DataFrames\")\n",
        "Pkg.add(\"CSV\")\n",
        "Pkg.add(\"BenchmarkTools\")\n",
        "Pkg.add(\"FastaIO\")\n",
        "Pkg.add(url=\"https://github.com/bwbioinfo/KEGGAPI.jl\")"
      ]
    },
    {
      "cell_type": "code",
      "execution_count": null,
      "metadata": {
        "id": "nu1xa60HLsF9"
      },
      "outputs": [],
      "source": [
        "using Revise\n",
        "using DataFrames\n",
        "using CSV\n",
        "using FastaIO\n",
        "using BenchmarkTools\n",
        "using KEGGAPI"
      ]
    },
    {
      "cell_type": "markdown",
      "metadata": {
        "id": "6NZMFaIwKabP"
      },
      "source": [
        "# Case 1: From Swissprot ID to Kegg information"
      ]
    },
    {
      "cell_type": "markdown",
      "metadata": {
        "id": "V9h88j2GKpu5"
      },
      "source": [
        "### 1. Convert outside Database ID to Kegg ID and vice versa\n"
      ]
    },
    {
      "cell_type": "markdown",
      "source": [
        "\n",
        "| Database       | DB Identifier\n",
        "|:---------------|:-----------------|\n",
        "|Uniprot ID      | \"uniprotid\"      |\n",
        "|NCBI Gene ID    | \"ncbi-geneid\"    |\n",
        "|NCBI Protein ID | \"ncbi-proteinid\" |\n",
        "|KEGG ID         | \"genes\"          |\n",
        "    "
      ],
      "metadata": {
        "id": "PObI5fbwPTuz"
      }
    },
    {
      "cell_type": "markdown",
      "source": [
        "### 1.1 Outside identifiers directly use as input\n",
        "\n",
        "To determine if a protein/gene is in KEGG database, the function conv uses as input the KEGG identifier and the gene of interest with the DB identifier.\n",
        "\n",
        "Only those outside identifiers with a hit in KEGG database are return"
      ],
      "metadata": {
        "id": "LhP60aGNNabw"
      }
    },
    {
      "cell_type": "code",
      "execution_count": null,
      "metadata": {
        "id": "olX5LvJJKhec"
      },
      "outputs": [],
      "source": [
        "@time kegg_conv_uniprot = KEGGAPI.conv(\"genes\", \"uniprot:A0A072UR65\")\n",
        "DataFrame(\n",
        "    kegg_conv_uniprot.data,\n",
        "    kegg_conv_uniprot.colnames\n",
        "    )"
      ]
    },
    {
      "cell_type": "markdown",
      "source": [
        "### 1.2 Outside database identifiers from a file as input\n",
        "\n",
        "Several identifiers from the same database can be run at once. Either as input from a file or several identifiers join by \"+\" sign.\n",
        "\n",
        "Only those outside identifiers with a hit in KEGG database are return.\n",
        "\n",
        "The selected dataset belong to Uniprot proteins Review dataset. User can download the data and upload it to their session. https://www.kaggle.com/datasets/andreylovyagin/uniprot-proteins-reviewed-swissprot?select=data.csv"
      ],
      "metadata": {
        "id": "H-RZzmNHL6VS"
      }
    },
    {
      "cell_type": "code",
      "source": [
        "df = DataFrame(CSV.File(\"subset_data.csv\", header=1, delim=\",\"));"
      ],
      "metadata": {
        "id": "dmGoXiKgIkMT"
      },
      "execution_count": null,
      "outputs": []
    },
    {
      "cell_type": "markdown",
      "source": [
        "Entry identifiers in sample file belong to Uniprot Database"
      ],
      "metadata": {
        "id": "6WIdrfuPQJsj"
      }
    },
    {
      "cell_type": "code",
      "source": [
        "db = \"uniprot:\"\n",
        "dbentry = string.(db, df.Entry)\n",
        "entry = join(dbentry, \"+\")\n",
        "\n",
        "kegg_conv_uniprot = KEGGAPI.conv(\"genes\", entry)\n",
        "DataFrame(\n",
        "  kegg_conv_uniprot.data,\n",
        "  kegg_conv_uniprot.colnames\n",
        ")"
      ],
      "metadata": {
        "id": "12ovg35x-e6M"
      },
      "execution_count": null,
      "outputs": []
    },
    {
      "cell_type": "markdown",
      "source": [
        "### 1.3 Convert KEGG identifiers to outside database\n",
        "\n",
        "To obtain the outside database identifier of a KEGG protein the function conv uses the DB identifier of the desire database and the KEGG gene identifier.\n",
        "\n",
        "Several identifiers from the same database can be run at once.\n",
        "\n",
        "Only those identifiers with a hit in the database are return."
      ],
      "metadata": {
        "id": "X4NA3_KXOBvx"
      }
    },
    {
      "cell_type": "code",
      "source": [
        "@time ncbi_conv_kegg = KEGGAPI.conv(\"ncbi-proteinid\", \"mtr:25493984\")\n",
        "DataFrame(\n",
        "  ncbi_conv_kegg.data,\n",
        "  ncbi_conv_kegg.colnames\n",
        ")"
      ],
      "metadata": {
        "id": "lNE_AQe-1Rf-"
      },
      "execution_count": null,
      "outputs": []
    },
    {
      "cell_type": "markdown",
      "metadata": {
        "id": "PkPJ2EYNRq9L"
      },
      "source": [
        "### 2. Gene gene information\n",
        "\n",
        "To obtain gene information at KEGG database the function \"find\" uses the string \"genes\" and the KEGG gene identifier."
      ]
    },
    {
      "cell_type": "code",
      "execution_count": null,
      "metadata": {
        "id": "bS7fvW57RzIA"
      },
      "outputs": [],
      "source": [
        "@time kegg_find_genes = KEGGAPI.find(\"genes\", \"mtr:25493984\")\n",
        "DataFrame(\n",
        "  kegg_find_genes.data,\n",
        "  kegg_find_genes.colnames\n",
        ")"
      ]
    },
    {
      "cell_type": "markdown",
      "metadata": {
        "id": "CRRA4WoYUE2N"
      },
      "source": [
        "### 3. Get Enzyme sequences, nucleotide and amino acid."
      ]
    },
    {
      "cell_type": "markdown",
      "source": [
        "#### 3.1 Get nucleotide sequence and save to fasta file\n",
        "\n",
        "With the \"kegg_get\" function user can get nucleotide sequence of one or more gene using an array with KEGG protein id and the string \"ntseq\".\n",
        "\n",
        "The output of the function can be save to file using the function FastaWriter from the FastaOI package."
      ],
      "metadata": {
        "id": "L85F_gDZArMP"
      }
    },
    {
      "cell_type": "code",
      "execution_count": null,
      "metadata": {
        "id": "TFmbRV3QUK-7"
      },
      "outputs": [],
      "source": [
        "# Nucleotide sequence\n",
        "@time kegg_ntseq = KEGGAPI.kegg_get([\"mtr:25493984\", \"shz:shn_30305\"], \"ntseq\")\n",
        "\n",
        "@time FastaWriter(\"ntseq.fasta\") do fw\n",
        "    for ch in kegg_ntseq[2]\n",
        "        write(fw, ch)\n",
        "    end\n",
        "end"
      ]
    },
    {
      "cell_type": "markdown",
      "source": [
        "#### 3.2 Get amino acid sequence and save to fasta file\n",
        "\n",
        "With the \"kegg_get\" function user can get amino acid sequence of one or more gene using an array with KEGG protein id and the string \"aaseq\".\n",
        "\n",
        "The output of the function can be save to file using the function FastaWriter from the FastaOI package."
      ],
      "metadata": {
        "id": "PLL86q8TDGXJ"
      }
    },
    {
      "cell_type": "code",
      "source": [
        "@time kegg_aaseq = KEGGAPI.kegg_get([\"mtr:25493984\", \"shz:shn_30305\"], \"aaseq\")\n",
        "\n",
        "@time FastaWriter(\"aaseq.fasta\") do fw\n",
        "    for ch in kegg_aaseq[2]\n",
        "        write(fw, ch)\n",
        "    end\n",
        "end"
      ],
      "metadata": {
        "id": "ITw2upzC7gZz"
      },
      "execution_count": null,
      "outputs": []
    },
    {
      "cell_type": "markdown",
      "metadata": {
        "id": "bdFRKq9rmCJm"
      },
      "source": [
        "### 4. Ortholog group\n",
        "\n",
        "To identify the ortholog related to the enzyme of interest, the function link takes as input the string \"ko\", and the KEGG gene identifier."
      ]
    },
    {
      "cell_type": "code",
      "execution_count": null,
      "metadata": {
        "id": "sqHLBoPXlcdo"
      },
      "outputs": [],
      "source": [
        "@time kegg_ko = KEGGAPI.link(\"ko\", \"mtr:25493984\")\n",
        "DataFrame(\n",
        "  kegg_ko.data,\n",
        "  kegg_ko.colnames\n",
        ")"
      ]
    },
    {
      "cell_type": "markdown",
      "metadata": {
        "id": "F7qyez2zm63f"
      },
      "source": [
        "### 5. Reaction(s) catalyzed by gene of interest\n",
        "\n",
        "To obtain the reactions associated to a gene, and a KEGG orthogroup, the input of the \"link\" function are the string \"reaction\", and KEGG ortholog number as \"KXXXXX\"."
      ]
    },
    {
      "cell_type": "code",
      "execution_count": null,
      "metadata": {
        "id": "p9yYxzWIlnJk"
      },
      "outputs": [],
      "source": [
        "@time kegg_reaction = KEGGAPI.link(\"reaction\", \"K01183\")\n",
        "DataFrame(\n",
        "  kegg_reaction.data,\n",
        "  kegg_reaction.colnames\n",
        ")"
      ]
    },
    {
      "cell_type": "markdown",
      "source": [
        "### 6. Reaction information\n",
        "\n",
        "To obtain the reactions information, the \"kegg_get\" function requires an array of reaction KEGG identifier as \"rn:RXXXXX\""
      ],
      "metadata": {
        "id": "2dl_tODz-Plh"
      }
    },
    {
      "cell_type": "code",
      "execution_count": null,
      "metadata": {
        "id": "OfzKtE12sHZv"
      },
      "outputs": [],
      "source": [
        "@time kegg_reaction_info = KEGGAPI.kegg_get([kegg_reaction.data[2][1]])\n",
        "split(kegg_reaction_info[2][1], \"\\n\")"
      ]
    },
    {
      "cell_type": "markdown",
      "metadata": {
        "id": "6CRIqMnlUocC"
      },
      "source": [
        "### 7. Pathway(s) including by gene of interest\n",
        "\n",
        "To obtain pathways associated to a gene the input of the \"link\" function are the string \"pathway\", and KEGG gene identifier."
      ]
    },
    {
      "cell_type": "code",
      "execution_count": null,
      "metadata": {
        "id": "N5RsRiXGU0Yk"
      },
      "outputs": [],
      "source": [
        "@time kegg_pathways = KEGGAPI.link(\"pathway\", \"mtr:25493984\")\n",
        "DataFrame(\n",
        "  kegg_pathways.data,\n",
        "  kegg_pathways.colnames\n",
        ")"
      ]
    },
    {
      "cell_type": "markdown",
      "source": [
        "### 8. Obtain pathway information\n",
        "\n",
        "To collect information about a pathway, the function find requieres as input the string \"pathway\" and the KEGG pathway identifer as \"path:mapXXXXX\"."
      ],
      "metadata": {
        "id": "BC5c3R47yg8Q"
      }
    },
    {
      "cell_type": "code",
      "execution_count": null,
      "metadata": {
        "id": "lpNGpuKXvz2J"
      },
      "outputs": [],
      "source": [
        "@time kegg_pathway_find = KEGGAPI.find(\"pathway\", \"path:map00520\")\n",
        "DataFrame(\n",
        "  kegg_pathway_find.data,\n",
        "  kegg_pathway_find.colnames\n",
        ")"
      ]
    },
    {
      "cell_type": "markdown",
      "source": [
        "### 9. Download pathway of interest.\n",
        "\n",
        "The get_image function is to download a any image, the imput is the pathway number as path:mapXXXXX\n",
        "\n",
        "The save_image function is to save the figure in a png file. The input is a string wiht the name of the file and the extension \".png\""
      ],
      "metadata": {
        "id": "NRBETF35zJvd"
      }
    },
    {
      "cell_type": "code",
      "execution_count": null,
      "metadata": {
        "id": "5tloIfcrADrB"
      },
      "outputs": [],
      "source": [
        "@time kegg_image = KEGGAPI.get_image(\"path:map00520\")\n",
        "@time KEGGAPI.save_image(kegg_image, \"aminoacid.png\")"
      ]
    },
    {
      "cell_type": "markdown",
      "source": [
        "### 10. Visualize saved pathway"
      ],
      "metadata": {
        "id": "ZP3H-DB14Alj"
      }
    },
    {
      "cell_type": "code",
      "execution_count": null,
      "metadata": {
        "id": "7lH90PuIAuCe"
      },
      "outputs": [],
      "source": [
        "Pkg.add(\"TestImages\")\n",
        "Pkg.add(\"Images\")\n",
        "Pkg.add(\"FileIO\")\n",
        "Pkg.add(\"Colors\")"
      ]
    },
    {
      "cell_type": "code",
      "execution_count": null,
      "metadata": {
        "id": "kjwejygRBPxV"
      },
      "outputs": [],
      "source": [
        "using Images, TestImages, Colors\n",
        "img = load(\"aminoacid.png\")"
      ]
    },
    {
      "cell_type": "markdown",
      "metadata": {
        "id": "59081rvC_sxD"
      },
      "source": [
        "### 11. Ortholog genes\n",
        "\n",
        "Identify all genes related to the KEGG ortholog group using the link function. The input is the string \"genes\" and the KEGG ortholog group as \"KXXXXX\"."
      ]
    },
    {
      "cell_type": "code",
      "execution_count": null,
      "metadata": {
        "id": "l5dj0_xe_f6l"
      },
      "outputs": [],
      "source": [
        "@time kegg_ko_genes = KEGGAPI.link(\"genes\", \"K01183\")\n",
        "DataFrame(\n",
        "  kegg_ko_genes.data,\n",
        "  kegg_ko_genes.colnames\n",
        ")"
      ]
    },
    {
      "cell_type": "markdown",
      "source": [
        "### 12. Save to file ortholog genes sequence for downstream analysis."
      ],
      "metadata": {
        "id": "NSnTR3h_0cMD"
      }
    },
    {
      "cell_type": "markdown",
      "source": [
        "#### 12.1 Get nucleotide sequence and save to fasta file\n",
        "\n",
        "With the \"kegg_get\" function user can get nucleotide sequence of one or more gene using an array with KEGG protein id and the string \"ntseq\".\n",
        "\n",
        "The output of the function can be save to file using the function FastaWriter from the FastaOI package."
      ],
      "metadata": {
        "id": "DfBpGvgxWPeh"
      }
    },
    {
      "cell_type": "code",
      "source": [
        "@time kegg_ntseq = KEGGAPI.kegg_get(kegg_ko_genes.data[2][1:50], \"ntseq\")\n",
        "\n",
        "@time FastaWriter(\"MSA_ntseq.fasta\") do fw\n",
        "    for ch in kegg_ntseq[2]\n",
        "        write(fw, ch)\n",
        "    end\n",
        "end"
      ],
      "metadata": {
        "id": "azwkzYxsVXxD"
      },
      "execution_count": null,
      "outputs": []
    },
    {
      "cell_type": "markdown",
      "source": [
        "#### 12.2 Get amino acid sequence and save to fasta file\n",
        "\n",
        "With the \"kegg_get\" function user can get amino acid sequence of one or more gene using an array with KEGG protein id and the string \"aaseq\".\n",
        "The output of the function can be save to file using the function FastaWriter from the FastaOI package."
      ],
      "metadata": {
        "id": "-UjsPRk6WhYJ"
      }
    },
    {
      "cell_type": "code",
      "source": [
        "@time kegg_aaseq = KEGGAPI.kegg_get(kegg_ko_genes.data[2][1:50], \"aaseq\")\n",
        "\n",
        "@time FastaWriter(\"MSA_aaseq.fasta\") do fw\n",
        "    for ch in kegg_aaseq[2]\n",
        "        write(fw, ch)\n",
        "    end\n",
        "end"
      ],
      "metadata": {
        "id": "xCPEVmyaWrhc"
      },
      "execution_count": null,
      "outputs": []
    }
  ],
  "metadata": {
    "colab": {
      "provenance": []
    },
    "kernelspec": {
      "display_name": "julia 1.8.2",
      "name": "julia"
    }
  },
  "nbformat": 4,
  "nbformat_minor": 0
}