{
 "cells": [
  {
   "cell_type": "code",
   "execution_count": 1,
   "id": "7444d497",
   "metadata": {},
   "outputs": [],
   "source": [
    "using KEGGAPI"
   ]
  },
  {
   "cell_type": "code",
   "execution_count": 2,
   "id": "21be1373",
   "metadata": {},
   "outputs": [
    {
     "name": "stdout",
     "output_type": "stream",
     "text": [
      "kegg             Kyoto Encyclopedia of Genes and Genomes\n",
      "kegg             Release 107.0+/08-03, Aug 23\n",
      "                 Kanehisa Laboratories\n",
      "                 pathway   1,069,738 entries\n",
      "                 brite       358,433 entries\n",
      "                 module          556 entries\n",
      "                 orthology    25,943 entries\n",
      "                 genome       23,945 entries\n",
      "                 genes     49,267,275 entries\n",
      "                 compound     19,119 entries\n",
      "                 glycan       11,222 entries\n",
      "                 reaction     11,941 entries\n",
      "                 rclass        3,195 entries\n",
      "                 enzyme        8,056 entries\n",
      "                 network       1,508 entries\n",
      "                 variant       1,180 entries\n",
      "                 disease       2,645 entries\n",
      "                 drug         12,184 entries\n",
      "                 dgroup        2,435 entries\n",
      "\n"
     ]
    }
   ],
   "source": [
    "kegg_info = KEGGAPI.info(\"KEGG\");\n",
    "println(kegg_info)"
   ]
  }
 ],
 "metadata": {
  "kernelspec": {
   "display_name": "Julia 1.9.2",
   "language": "julia",
   "name": "julia-1.9"
  },
  "language_info": {
   "file_extension": ".jl",
   "mimetype": "application/julia",
   "name": "julia",
   "version": "1.9.2"
  }
 },
 "nbformat": 4,
 "nbformat_minor": 5
}
