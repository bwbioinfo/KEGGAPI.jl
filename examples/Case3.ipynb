{
  "cells": [
    {
      "cell_type": "markdown",
      "metadata": {
        "id": "dn69glsQDgDA"
      },
      "source": [
        "# <img src=\"https://github.com/JuliaLang/julia-logo-graphics/raw/master/images/julia-logo-color.png\" height=\"100\" /> _Colab Notebook Template_\n",
        "\n",
        "## Instructions\n",
        "1. Work on a copy of this notebook: _File_ > _Save a copy in Drive_ (you will need a Google account). Alternatively, you can download the notebook using _File_ > _Download .ipynb_, then upload it to [Colab](https://colab.research.google.com/).\n",
        "2. If you need a GPU: _Runtime_ > _Change runtime type_ > _Hardware accelerator_ = _GPU_.\n",
        "3. Execute the following cell (click on it and press Ctrl+Enter) to install Julia, IJulia and other packages (if needed, update `JULIA_VERSION` and the other parameters). This takes a couple of minutes.\n",
        "4. Reload this page (press Ctrl+R, or ⌘+R, or the F5 key) and continue to the next section.\n",
        "\n",
        "_Notes_:\n",
        "* If your Colab Runtime gets reset (e.g., due to inactivity), repeat steps 2, 3 and 4.\n",
        "* After installation, if you want to change the Julia version or activate/deactivate the GPU, you will need to reset the Runtime: _Runtime_ > _Factory reset runtime_ and repeat steps 3 and 4."
      ]
    },
    {
      "cell_type": "code",
      "execution_count": null,
      "metadata": {
        "id": "k-JYaoEJDZqG"
      },
      "outputs": [],
      "source": [
        "%%shell\n",
        "set -e\n",
        "\n",
        "#---------------------------------------------------#\n",
        "JULIA_VERSION=\"1.8.2\" # any version ≥ 0.7.0\n",
        "JULIA_PACKAGES=\"IJulia BenchmarkTools\"\n",
        "JULIA_PACKAGES_IF_GPU=\"CUDA\" # or CuArrays for older Julia versions\n",
        "JULIA_NUM_THREADS=2\n",
        "#---------------------------------------------------#\n",
        "\n",
        "if [ -z `which julia` ]; then\n",
        "  # Install Julia\n",
        "  JULIA_VER=`cut -d '.' -f -2 <<< \"$JULIA_VERSION\"`\n",
        "  echo \"Installing Julia $JULIA_VERSION on the current Colab Runtime...\"\n",
        "  BASE_URL=\"https://julialang-s3.julialang.org/bin/linux/x64\"\n",
        "  URL=\"$BASE_URL/$JULIA_VER/julia-$JULIA_VERSION-linux-x86_64.tar.gz\"\n",
        "  wget -nv $URL -O /tmp/julia.tar.gz # -nv means \"not verbose\"\n",
        "  tar -x -f /tmp/julia.tar.gz -C /usr/local --strip-components 1\n",
        "  rm /tmp/julia.tar.gz\n",
        "\n",
        "  # Install Packages\n",
        "  nvidia-smi -L &> /dev/null && export GPU=1 || export GPU=0\n",
        "  if [ $GPU -eq 1 ]; then\n",
        "    JULIA_PACKAGES=\"$JULIA_PACKAGES $JULIA_PACKAGES_IF_GPU\"\n",
        "  fi\n",
        "  for PKG in `echo $JULIA_PACKAGES`; do\n",
        "    echo \"Installing Julia package $PKG...\"\n",
        "    julia -e 'using Pkg; pkg\"add '$PKG'; precompile;\"' &> /dev/null\n",
        "  done\n",
        "\n",
        "  # Install kernel and rename it to \"julia\"\n",
        "  echo \"Installing IJulia kernel...\"\n",
        "  julia -e 'using IJulia; IJulia.installkernel(\"julia\", env=Dict(\n",
        "      \"JULIA_NUM_THREADS\"=>\"'\"$JULIA_NUM_THREADS\"'\"))'\n",
        "  KERNEL_DIR=`julia -e \"using IJulia; print(IJulia.kerneldir())\"`\n",
        "  KERNEL_NAME=`ls -d \"$KERNEL_DIR\"/julia*`\n",
        "  mv -f $KERNEL_NAME \"$KERNEL_DIR\"/julia\n",
        "\n",
        "  echo ''\n",
        "  echo \"Successfully installed `julia -v`!\"\n",
        "  echo \"Please reload this page (press Ctrl+R, ⌘+R, or the F5 key) then\"\n",
        "  echo \"jump to the 'Checking the Installation' section.\"\n",
        "fi"
      ]
    },
    {
      "cell_type": "code",
      "execution_count": null,
      "metadata": {
        "id": "J5ER7bHPELHf"
      },
      "outputs": [],
      "source": [
        "versioninfo()"
      ]
    },
    {
      "cell_type": "code",
      "execution_count": null,
      "metadata": {
        "id": "_hJw2NRSDtZ3"
      },
      "outputs": [],
      "source": [
        "using Pkg"
      ]
    },
    {
      "cell_type": "code",
      "execution_count": null,
      "metadata": {
        "id": "0Btoe8xRDuHr"
      },
      "outputs": [],
      "source": [
        "Pkg.add(\"Revise\")\n",
        "Pkg.add(\"DataFrames\")\n",
        "Pkg.add(\"BenchmarkTools\")\n",
        "Pkg.add(url=\"https://github.com/bwbioinfo/KEGGAPI.jl\")\n",
        "Pkg.add(\"TestImages\")\n",
        "Pkg.add(\"Images\")\n",
        "Pkg.add(\"FileIO\")\n",
        "Pkg.add(\"Colors\")"
      ]
    },
    {
      "cell_type": "code",
      "execution_count": null,
      "metadata": {
        "id": "bYixR5WhD0cw"
      },
      "outputs": [],
      "source": [
        "using Revise\n",
        "using DataFrames\n",
        "using BenchmarkTools\n",
        "using KEGGAPI\n",
        "using Images\n",
        "using TestImages\n",
        "using Colors"
      ]
    },
    {
      "cell_type": "markdown",
      "metadata": {
        "id": "6NJZS9B7D9H9"
      },
      "source": [
        "# Case 3: Identify compound in Kegg Database\n",
        "\n"
      ]
    },
    {
      "cell_type": "markdown",
      "metadata": {
        "id": "hsBidRhEGBua"
      },
      "source": [
        "### 1. Get compound information in Kegg Database\n",
        "\n",
        "To determine if a compound is included in KEGG database and obtain its information, the function find takes as input the string \"compound\" and the name of the compound"
      ]
    },
    {
      "cell_type": "code",
      "execution_count": null,
      "metadata": {
        "id": "uqpyI-hmGLYX"
      },
      "outputs": [],
      "source": [
        "@time kegg_compound = KEGGAPI.find(\"compound\", \"chitin\")\n",
        "DataFrame(\n",
        "  kegg_compound.data,\n",
        "  kegg_compound.colnames\n",
        ")"
      ]
    },
    {
      "cell_type": "markdown",
      "metadata": {
        "id": "p8eMlfOKJXfU"
      },
      "source": [
        "#### 1.1 Get compund information"
      ]
    },
    {
      "cell_type": "code",
      "execution_count": null,
      "metadata": {
        "id": "hwuH4jWiI59z"
      },
      "outputs": [],
      "source": [
        "kegg_compound_info = KEGGAPI.kegg_get([\"cpd:C00461\"]);\n",
        "split(kegg_compound_info[2][1], \"\\n\")"
      ]
    },
    {
      "cell_type": "markdown",
      "metadata": {
        "id": "8EhaCFJzojif"
      },
      "source": [
        "### 2. Get image of the compund of interest\n",
        "\n",
        "The get_image function is to download a any image, the imput is the compound number as \"cpd:CXXXXX\"\n",
        "\n",
        "The save_image function is to save the figure in a png file. The input is a string with the name of the file and the extension \".png\""
      ]
    },
    {
      "cell_type": "code",
      "execution_count": null,
      "metadata": {
        "id": "eg44UlyITj4O"
      },
      "outputs": [],
      "source": [
        "@time kegg_image = KEGGAPI.get_image(\"cpd:C00461\")\n",
        "@time KEGGAPI.save_image(kegg_image, \"chitin.png\")"
      ]
    },
    {
      "cell_type": "markdown",
      "metadata": {
        "id": "o2u0wbKYp__O"
      },
      "source": [
        "### 3. Visualize download compound"
      ]
    },
    {
      "cell_type": "code",
      "execution_count": null,
      "metadata": {
        "id": "ol4vHRnnUEhd"
      },
      "outputs": [],
      "source": [
        "img = load(\"chitin.png\")"
      ]
    },
    {
      "cell_type": "markdown",
      "metadata": {
        "id": "y-H4pR_QqH9E"
      },
      "source": [
        "### 4. Identify thre reactions linked to the compound of interest\n",
        "\n",
        "The ouput is one line for every time the compound is found"
      ]
    },
    {
      "cell_type": "code",
      "execution_count": null,
      "metadata": {
        "id": "ptUhgFL3TM2u"
      },
      "outputs": [],
      "source": [
        "@time kegg_reaction = KEGGAPI.link(\"reaction\", \"cpd:C00461\")\n",
        "DataFrame(\n",
        "  kegg_reaction.data,\n",
        "  kegg_reaction.colnames\n",
        ")"
      ]
    },
    {
      "cell_type": "markdown",
      "metadata": {
        "id": "U-GIK5iK8MT2"
      },
      "source": [
        "#### 5. Get information about the reactions which chitin is involved"
      ]
    },
    {
      "cell_type": "code",
      "execution_count": null,
      "metadata": {
        "id": "MaPadwsc8W3a"
      },
      "outputs": [],
      "source": [
        "@time kegg_reaction_info = KEGGAPI.kegg_get(kegg_reaction.data[2]);\n",
        "split(kegg_reaction_info[2][1],\"\\n\")"
      ]
    },
    {
      "cell_type": "markdown",
      "metadata": {
        "id": "Eck3XYYmqhAJ"
      },
      "source": [
        "### 6. Get image of the reaction of interest\n",
        "\n",
        "The get_image function is to download a any image, the imput is the reactio number as \"rn:RXXXXX\"\n",
        "\n",
        "The save_image function is to save the figure in a png file. The input is a string with the name of the file and the extension \".png\""
      ]
    },
    {
      "cell_type": "code",
      "execution_count": null,
      "metadata": {
        "id": "kgfyp2LBIdXD"
      },
      "outputs": [],
      "source": [
        "@time kegg_image = KEGGAPI.get_image(\"rn:R01206\")\n",
        "@time KEGGAPI.save_image(kegg_image, \"r01206.png\")"
      ]
    },
    {
      "cell_type": "markdown",
      "metadata": {
        "id": "9DqIAepSqvhC"
      },
      "source": [
        "### 7. Visualize download reaction"
      ]
    },
    {
      "cell_type": "code",
      "execution_count": null,
      "metadata": {
        "id": "wOHYetQBIUJu"
      },
      "outputs": [],
      "source": [
        "img = load(\"r01206.png\")"
      ]
    }
  ],
  "metadata": {
    "colab": {
      "provenance": []
    },
    "kernelspec": {
      "display_name": "julia 1.8.2",
      "name": "julia"
    }
  },
  "nbformat": 4,
  "nbformat_minor": 0
}