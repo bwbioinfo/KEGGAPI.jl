{
  "nbformat": 4,
  "nbformat_minor": 0,
  "metadata": {
    "colab": {
      "provenance": [],
      "authorship_tag": "ABX9TyOKEd1bNThjNzmramuUfiJn",
      "include_colab_link": true
    },
    "kernelspec": {
      "name": "julia",
      "display_name": "julia 1.8.2"
    }
  },
  "cells": [
    {
      "cell_type": "markdown",
      "metadata": {
        "id": "view-in-github",
        "colab_type": "text"
      },
      "source": [
        "<a href=\"https://colab.research.google.com/github/mvapontes/KEGGAPI.jl/blob/main/examples/Case3.ipynb\" target=\"_parent\"><img src=\"https://colab.research.google.com/assets/colab-badge.svg\" alt=\"Open In Colab\"/></a>"
      ]
    },
    {
      "cell_type": "markdown",
      "source": [
        "# <img src=\"https://github.com/JuliaLang/julia-logo-graphics/raw/master/images/julia-logo-color.png\" height=\"100\" /> _Colab Notebook Template_\n",
        "\n",
        "## Instructions\n",
        "1. Work on a copy of this notebook: _File_ > _Save a copy in Drive_ (you will need a Google account). Alternatively, you can download the notebook using _File_ > _Download .ipynb_, then upload it to [Colab](https://colab.research.google.com/).\n",
        "2. If you need a GPU: _Runtime_ > _Change runtime type_ > _Hardware accelerator_ = _GPU_.\n",
        "3. Execute the following cell (click on it and press Ctrl+Enter) to install Julia, IJulia and other packages (if needed, update `JULIA_VERSION` and the other parameters). This takes a couple of minutes.\n",
        "4. Reload this page (press Ctrl+R, or ⌘+R, or the F5 key) and continue to the next section.\n",
        "\n",
        "_Notes_:\n",
        "* If your Colab Runtime gets reset (e.g., due to inactivity), repeat steps 2, 3 and 4.\n",
        "* After installation, if you want to change the Julia version or activate/deactivate the GPU, you will need to reset the Runtime: _Runtime_ > _Factory reset runtime_ and repeat steps 3 and 4."
      ],
      "metadata": {
        "id": "dn69glsQDgDA"
      }
    },
    {
      "cell_type": "code",
      "execution_count": null,
      "metadata": {
        "colab": {
          "base_uri": "https://localhost:8080/"
        },
        "id": "k-JYaoEJDZqG",
        "outputId": "847abdcd-17a5-483d-9e2a-e3b943af15db"
      },
      "outputs": [
        {
          "output_type": "stream",
          "name": "stdout",
          "text": [
            "Installing Julia 1.8.2 on the current Colab Runtime...\n",
            "2023-08-04 13:48:04 URL:https://julialang-s3.julialang.org/bin/linux/x64/1.8/julia-1.8.2-linux-x86_64.tar.gz [135859273/135859273] -> \"/tmp/julia.tar.gz\" [1]\n",
            "Installing Julia package IJulia...\n",
            "Installing Julia package BenchmarkTools...\n",
            "Installing IJulia kernel...\n",
            "\u001b[36m\u001b[1m[ \u001b[22m\u001b[39m\u001b[36m\u001b[1mInfo: \u001b[22m\u001b[39mInstalling julia kernelspec in /root/.local/share/jupyter/kernels/julia-1.8\n",
            "\n",
            "Successfully installed julia version 1.8.2!\n",
            "Please reload this page (press Ctrl+R, ⌘+R, or the F5 key) then\n",
            "jump to the 'Checking the Installation' section.\n"
          ]
        },
        {
          "output_type": "execute_result",
          "data": {
            "text/plain": []
          },
          "metadata": {},
          "execution_count": 1
        }
      ],
      "source": [
        "%%shell\n",
        "set -e\n",
        "\n",
        "#---------------------------------------------------#\n",
        "JULIA_VERSION=\"1.8.2\" # any version ≥ 0.7.0\n",
        "JULIA_PACKAGES=\"IJulia BenchmarkTools\"\n",
        "JULIA_PACKAGES_IF_GPU=\"CUDA\" # or CuArrays for older Julia versions\n",
        "JULIA_NUM_THREADS=2\n",
        "#---------------------------------------------------#\n",
        "\n",
        "if [ -z `which julia` ]; then\n",
        "  # Install Julia\n",
        "  JULIA_VER=`cut -d '.' -f -2 <<< \"$JULIA_VERSION\"`\n",
        "  echo \"Installing Julia $JULIA_VERSION on the current Colab Runtime...\"\n",
        "  BASE_URL=\"https://julialang-s3.julialang.org/bin/linux/x64\"\n",
        "  URL=\"$BASE_URL/$JULIA_VER/julia-$JULIA_VERSION-linux-x86_64.tar.gz\"\n",
        "  wget -nv $URL -O /tmp/julia.tar.gz # -nv means \"not verbose\"\n",
        "  tar -x -f /tmp/julia.tar.gz -C /usr/local --strip-components 1\n",
        "  rm /tmp/julia.tar.gz\n",
        "\n",
        "  # Install Packages\n",
        "  nvidia-smi -L &> /dev/null && export GPU=1 || export GPU=0\n",
        "  if [ $GPU -eq 1 ]; then\n",
        "    JULIA_PACKAGES=\"$JULIA_PACKAGES $JULIA_PACKAGES_IF_GPU\"\n",
        "  fi\n",
        "  for PKG in `echo $JULIA_PACKAGES`; do\n",
        "    echo \"Installing Julia package $PKG...\"\n",
        "    julia -e 'using Pkg; pkg\"add '$PKG'; precompile;\"' &> /dev/null\n",
        "  done\n",
        "\n",
        "  # Install kernel and rename it to \"julia\"\n",
        "  echo \"Installing IJulia kernel...\"\n",
        "  julia -e 'using IJulia; IJulia.installkernel(\"julia\", env=Dict(\n",
        "      \"JULIA_NUM_THREADS\"=>\"'\"$JULIA_NUM_THREADS\"'\"))'\n",
        "  KERNEL_DIR=`julia -e \"using IJulia; print(IJulia.kerneldir())\"`\n",
        "  KERNEL_NAME=`ls -d \"$KERNEL_DIR\"/julia*`\n",
        "  mv -f $KERNEL_NAME \"$KERNEL_DIR\"/julia\n",
        "\n",
        "  echo ''\n",
        "  echo \"Successfully installed `julia -v`!\"\n",
        "  echo \"Please reload this page (press Ctrl+R, ⌘+R, or the F5 key) then\"\n",
        "  echo \"jump to the 'Checking the Installation' section.\"\n",
        "fi"
      ]
    },
    {
      "cell_type": "code",
      "source": [
        "versioninfo()"
      ],
      "metadata": {
        "colab": {
          "base_uri": "https://localhost:8080/"
        },
        "id": "J5ER7bHPELHf",
        "outputId": "41f9739e-b5c1-45e0-ca8d-42cf9316b236"
      },
      "execution_count": null,
      "outputs": [
        {
          "output_type": "stream",
          "name": "stdout",
          "text": [
            "Julia Version 1.8.2\n",
            "Commit 36034abf260 (2022-09-29 15:21 UTC)\n",
            "Platform Info:\n",
            "  OS: Linux (x86_64-linux-gnu)\n",
            "  CPU: 2 × Intel(R) Xeon(R) CPU @ 2.20GHz\n",
            "  WORD_SIZE: 64\n",
            "  LIBM: libopenlibm\n",
            "  LLVM: libLLVM-13.0.1 (ORCJIT, broadwell)\n",
            "  Threads: 2 on 2 virtual cores\n",
            "Environment:\n",
            "  LD_LIBRARY_PATH = /usr/local/nvidia/lib:/usr/local/nvidia/lib64\n",
            "  JULIA_NUM_THREADS = 2\n"
          ]
        }
      ]
    },
    {
      "cell_type": "code",
      "source": [
        "using Pkg"
      ],
      "metadata": {
        "id": "_hJw2NRSDtZ3"
      },
      "execution_count": 1,
      "outputs": []
    },
    {
      "cell_type": "code",
      "source": [
        "Pkg.add(\"Revise\")\n",
        "Pkg.add(\"DataFrames\")\n",
        "Pkg.add(\"BenchmarkTools\")\n",
        "Pkg.add(url=\"https://github.com/bwbioinfo/KEGGAPI.jl\")\n",
        "Pkg.add(\"TestImages\")\n",
        "Pkg.add(\"Images\")\n",
        "Pkg.add(\"FileIO\")\n",
        "Pkg.add(\"Colors\")"
      ],
      "metadata": {
        "id": "0Btoe8xRDuHr",
        "colab": {
          "base_uri": "https://localhost:8080/"
        },
        "outputId": "98689495-7e45-4f3a-be26-fdbb541f7a19"
      },
      "execution_count": 2,
      "outputs": [
        {
          "output_type": "stream",
          "name": "stderr",
          "text": [
            "\u001b[32m\u001b[1m    Updating\u001b[22m\u001b[39m registry at `~/.julia/registries/General.toml`\n",
            "\u001b[32m\u001b[1m   Resolving\u001b[22m\u001b[39m package versions...\n",
            "\u001b[32m\u001b[1m   Installed\u001b[22m\u001b[39m OrderedCollections ─ v1.6.2\n",
            "\u001b[32m\u001b[1m   Installed\u001b[22m\u001b[39m LoweredCodeUtils ─── v2.3.0\n",
            "\u001b[32m\u001b[1m   Installed\u001b[22m\u001b[39m Requires ─────────── v1.3.0\n",
            "\u001b[32m\u001b[1m   Installed\u001b[22m\u001b[39m JuliaInterpreter ─── v0.9.23\n",
            "\u001b[32m\u001b[1m   Installed\u001b[22m\u001b[39m CodeTracking ─────── v1.3.2\n",
            "\u001b[32m\u001b[1m   Installed\u001b[22m\u001b[39m Revise ───────────── v3.5.3\n",
            "\u001b[32m\u001b[1m    Updating\u001b[22m\u001b[39m `~/.julia/environments/v1.8/Project.toml`\n",
            " \u001b[90m [295af30f] \u001b[39m\u001b[92m+ Revise v3.5.3\u001b[39m\n",
            "\u001b[32m\u001b[1m    Updating\u001b[22m\u001b[39m `~/.julia/environments/v1.8/Manifest.toml`\n",
            " \u001b[90m [da1fd8a2] \u001b[39m\u001b[92m+ CodeTracking v1.3.2\u001b[39m\n",
            " \u001b[90m [aa1ae85d] \u001b[39m\u001b[92m+ JuliaInterpreter v0.9.23\u001b[39m\n",
            " \u001b[90m [6f1432cf] \u001b[39m\u001b[92m+ LoweredCodeUtils v2.3.0\u001b[39m\n",
            " \u001b[90m [bac558e1] \u001b[39m\u001b[92m+ OrderedCollections v1.6.2\u001b[39m\n",
            " \u001b[90m [ae029012] \u001b[39m\u001b[92m+ Requires v1.3.0\u001b[39m\n",
            " \u001b[90m [295af30f] \u001b[39m\u001b[92m+ Revise v3.5.3\u001b[39m\n",
            " \u001b[90m [8ba89e20] \u001b[39m\u001b[92m+ Distributed\u001b[39m\n",
            "\u001b[32m\u001b[1mPrecompiling\u001b[22m\u001b[39m project...\n",
            "\u001b[32m  ✓ \u001b[39m\u001b[90mRequires\u001b[39m\n",
            "\u001b[32m  ✓ \u001b[39m\u001b[90mOrderedCollections\u001b[39m\n",
            "\u001b[32m  ✓ \u001b[39m\u001b[90mCodeTracking\u001b[39m\n",
            "\u001b[32m  ✓ \u001b[39m\u001b[90mJuliaInterpreter\u001b[39m\n",
            "\u001b[32m  ✓ \u001b[39m\u001b[90mLoweredCodeUtils\u001b[39m\n",
            "\u001b[32m  ✓ \u001b[39mRevise\n",
            "  6 dependencies successfully precompiled in 22 seconds. 20 already precompiled.\n",
            "\u001b[32m\u001b[1m   Resolving\u001b[22m\u001b[39m package versions...\n",
            "\u001b[32m\u001b[1m   Installed\u001b[22m\u001b[39m TableTraits ───────────────── v1.0.1\n",
            "\u001b[32m\u001b[1m   Installed\u001b[22m\u001b[39m Crayons ───────────────────── v4.1.1\n",
            "\u001b[32m\u001b[1m   Installed\u001b[22m\u001b[39m InlineStrings ─────────────── v1.4.0\n",
            "\u001b[32m\u001b[1m   Installed\u001b[22m\u001b[39m Tables ────────────────────── v1.10.1\n",
            "\u001b[32m\u001b[1m   Installed\u001b[22m\u001b[39m SentinelArrays ────────────── v1.4.0\n",
            "\u001b[32m\u001b[1m   Installed\u001b[22m\u001b[39m DataAPI ───────────────────── v1.15.0\n",
            "\u001b[32m\u001b[1m   Installed\u001b[22m\u001b[39m PooledArrays ──────────────── v1.4.2\n",
            "\u001b[32m\u001b[1m   Installed\u001b[22m\u001b[39m DataValueInterfaces ───────── v1.0.0\n",
            "\u001b[32m\u001b[1m   Installed\u001b[22m\u001b[39m IteratorInterfaceExtensions ─ v1.0.0\n",
            "\u001b[32m\u001b[1m   Installed\u001b[22m\u001b[39m InvertedIndices ───────────── v1.3.0\n",
            "\u001b[32m\u001b[1m   Installed\u001b[22m\u001b[39m LaTeXStrings ──────────────── v1.3.0\n",
            "\u001b[32m\u001b[1m   Installed\u001b[22m\u001b[39m SortingAlgorithms ─────────── v1.1.1\n",
            "\u001b[32m\u001b[1m   Installed\u001b[22m\u001b[39m Reexport ──────────────────── v1.2.2\n",
            "\u001b[32m\u001b[1m   Installed\u001b[22m\u001b[39m Compat ────────────────────── v4.9.0\n",
            "\u001b[32m\u001b[1m   Installed\u001b[22m\u001b[39m DataStructures ────────────── v0.18.15\n",
            "\u001b[32m\u001b[1m   Installed\u001b[22m\u001b[39m Missings ──────────────────── v1.1.0\n",
            "\u001b[32m\u001b[1m   Installed\u001b[22m\u001b[39m StringManipulation ────────── v0.3.0\n",
            "\u001b[32m\u001b[1m   Installed\u001b[22m\u001b[39m DataFrames ────────────────── v1.6.1\n",
            "\u001b[32m\u001b[1m   Installed\u001b[22m\u001b[39m PrettyTables ──────────────── v2.2.7\n",
            "\u001b[32m\u001b[1m    Updating\u001b[22m\u001b[39m `~/.julia/environments/v1.8/Project.toml`\n",
            " \u001b[90m [a93c6f00] \u001b[39m\u001b[92m+ DataFrames v1.6.1\u001b[39m\n",
            "\u001b[32m\u001b[1m    Updating\u001b[22m\u001b[39m `~/.julia/environments/v1.8/Manifest.toml`\n",
            " \u001b[90m [34da2185] \u001b[39m\u001b[92m+ Compat v4.9.0\u001b[39m\n",
            " \u001b[90m [a8cc5b0e] \u001b[39m\u001b[92m+ Crayons v4.1.1\u001b[39m\n",
            " \u001b[90m [9a962f9c] \u001b[39m\u001b[92m+ DataAPI v1.15.0\u001b[39m\n",
            " \u001b[90m [a93c6f00] \u001b[39m\u001b[92m+ DataFrames v1.6.1\u001b[39m\n",
            " \u001b[90m [864edb3b] \u001b[39m\u001b[92m+ DataStructures v0.18.15\u001b[39m\n",
            " \u001b[90m [e2d170a0] \u001b[39m\u001b[92m+ DataValueInterfaces v1.0.0\u001b[39m\n",
            " \u001b[90m [842dd82b] \u001b[39m\u001b[92m+ InlineStrings v1.4.0\u001b[39m\n",
            " \u001b[90m [41ab1584] \u001b[39m\u001b[92m+ InvertedIndices v1.3.0\u001b[39m\n",
            " \u001b[90m [82899510] \u001b[39m\u001b[92m+ IteratorInterfaceExtensions v1.0.0\u001b[39m\n",
            " \u001b[90m [b964fa9f] \u001b[39m\u001b[92m+ LaTeXStrings v1.3.0\u001b[39m\n",
            " \u001b[90m [e1d29d7a] \u001b[39m\u001b[92m+ Missings v1.1.0\u001b[39m\n",
            " \u001b[90m [2dfb63ee] \u001b[39m\u001b[92m+ PooledArrays v1.4.2\u001b[39m\n",
            " \u001b[90m [08abe8d2] \u001b[39m\u001b[92m+ PrettyTables v2.2.7\u001b[39m\n",
            " \u001b[90m [189a3867] \u001b[39m\u001b[92m+ Reexport v1.2.2\u001b[39m\n",
            " \u001b[90m [91c51154] \u001b[39m\u001b[92m+ SentinelArrays v1.4.0\u001b[39m\n",
            " \u001b[90m [a2af1166] \u001b[39m\u001b[92m+ SortingAlgorithms v1.1.1\u001b[39m\n",
            " \u001b[90m [892a3eda] \u001b[39m\u001b[92m+ StringManipulation v0.3.0\u001b[39m\n",
            " \u001b[90m [3783bdb8] \u001b[39m\u001b[92m+ TableTraits v1.0.1\u001b[39m\n",
            " \u001b[90m [bd369af6] \u001b[39m\u001b[92m+ Tables v1.10.1\u001b[39m\n",
            " \u001b[90m [9fa8497b] \u001b[39m\u001b[92m+ Future\u001b[39m\n",
            "\u001b[32m\u001b[1mPrecompiling\u001b[22m\u001b[39m project...\n",
            "\u001b[32m  ✓ \u001b[39m\u001b[90mDataValueInterfaces\u001b[39m\n",
            "\u001b[32m  ✓ \u001b[39m\u001b[90mCompat\u001b[39m\n",
            "\u001b[32m  ✓ \u001b[39m\u001b[90mLaTeXStrings\u001b[39m\n",
            "\u001b[32m  ✓ \u001b[39m\u001b[90mReexport\u001b[39m\n",
            "\u001b[32m  ✓ \u001b[39m\u001b[90mInvertedIndices\u001b[39m\n",
            "\u001b[32m  ✓ \u001b[39m\u001b[90mSentinelArrays\u001b[39m\n",
            "\u001b[32m  ✓ \u001b[39m\u001b[90mDataAPI\u001b[39m\n",
            "\u001b[32m  ✓ \u001b[39m\u001b[90mIteratorInterfaceExtensions\u001b[39m\n",
            "\u001b[32m  ✓ \u001b[39m\u001b[90mCrayons\u001b[39m\n",
            "\u001b[32m  ✓ \u001b[39m\u001b[90mStringManipulation\u001b[39m\n",
            "\u001b[32m  ✓ \u001b[39m\u001b[90mInlineStrings\u001b[39m\n",
            "\u001b[32m  ✓ \u001b[39m\u001b[90mPooledArrays\u001b[39m\n",
            "\u001b[32m  ✓ \u001b[39m\u001b[90mTableTraits\u001b[39m\n",
            "\u001b[32m  ✓ \u001b[39m\u001b[90mMissings\u001b[39m\n",
            "\u001b[32m  ✓ \u001b[39m\u001b[90mTables\u001b[39m\n",
            "\u001b[32m  ✓ \u001b[39m\u001b[90mDataStructures\u001b[39m\n",
            "\u001b[32m  ✓ \u001b[39m\u001b[90mSortingAlgorithms\u001b[39m\n",
            "\u001b[32m  ✓ \u001b[39m\u001b[90mPrettyTables\u001b[39m\n",
            "\u001b[32m  ✓ \u001b[39mDataFrames\n",
            "  19 dependencies successfully precompiled in 66 seconds. 26 already precompiled.\n",
            "\u001b[32m\u001b[1m   Resolving\u001b[22m\u001b[39m package versions...\n",
            "\u001b[32m\u001b[1m  No Changes\u001b[22m\u001b[39m to `~/.julia/environments/v1.8/Project.toml`\n",
            "\u001b[32m\u001b[1m  No Changes\u001b[22m\u001b[39m to `~/.julia/environments/v1.8/Manifest.toml`\n",
            "\u001b[32m\u001b[1m     Cloning\u001b[22m\u001b[39m git-repo `https://github.com/bwbioinfo/KEGGAPI.jl`\n",
            "\u001b[32m\u001b[1m    Updating\u001b[22m\u001b[39m git-repo `https://github.com/bwbioinfo/KEGGAPI.jl`\n",
            "\u001b[32m\u001b[1m   Resolving\u001b[22m\u001b[39m package versions...\n",
            "\u001b[32m\u001b[1m   Installed\u001b[22m\u001b[39m BitFlags ──────────── v0.1.7\n",
            "\u001b[32m\u001b[1m   Installed\u001b[22m\u001b[39m LoggingExtras ─────── v1.0.0\n",
            "\u001b[32m\u001b[1m   Installed\u001b[22m\u001b[39m OpenSSL_jll ───────── v3.0.10+0\n",
            "\u001b[32m\u001b[1m   Installed\u001b[22m\u001b[39m SimpleBufferStream ── v1.1.0\n",
            "\u001b[32m\u001b[1m   Installed\u001b[22m\u001b[39m ConcurrentUtilities ─ v2.2.1\n",
            "\u001b[32m\u001b[1m   Installed\u001b[22m\u001b[39m OpenSSL ───────────── v1.4.1\n",
            "\u001b[32m\u001b[1m   Installed\u001b[22m\u001b[39m URIs ──────────────── v1.4.2\n",
            "\u001b[32m\u001b[1m   Installed\u001b[22m\u001b[39m TranscodingStreams ── v0.9.13\n",
            "\u001b[32m\u001b[1m   Installed\u001b[22m\u001b[39m CodecZlib ─────────── v0.7.2\n",
            "\u001b[32m\u001b[1m   Installed\u001b[22m\u001b[39m ExceptionUnwrapping ─ v0.1.9\n",
            "\u001b[32m\u001b[1m   Installed\u001b[22m\u001b[39m HTTP ──────────────── v1.9.14\n",
            "\u001b[32m\u001b[1m    Updating\u001b[22m\u001b[39m `~/.julia/environments/v1.8/Project.toml`\n",
            " \u001b[90m [e8256861] \u001b[39m\u001b[92m+ KEGGAPI v1.0.0-DEV `https://github.com/bwbioinfo/KEGGAPI.jl#main`\u001b[39m\n",
            "\u001b[32m\u001b[1m    Updating\u001b[22m\u001b[39m `~/.julia/environments/v1.8/Manifest.toml`\n",
            " \u001b[90m [d1d4a3ce] \u001b[39m\u001b[92m+ BitFlags v0.1.7\u001b[39m\n",
            " \u001b[90m [944b1d66] \u001b[39m\u001b[92m+ CodecZlib v0.7.2\u001b[39m\n",
            " \u001b[90m [f0e56b4a] \u001b[39m\u001b[92m+ ConcurrentUtilities v2.2.1\u001b[39m\n",
            " \u001b[90m [460bff9d] \u001b[39m\u001b[92m+ ExceptionUnwrapping v0.1.9\u001b[39m\n",
            " \u001b[90m [cd3eb016] \u001b[39m\u001b[92m+ HTTP v1.9.14\u001b[39m\n",
            " \u001b[90m [e8256861] \u001b[39m\u001b[92m+ KEGGAPI v1.0.0-DEV `https://github.com/bwbioinfo/KEGGAPI.jl#main`\u001b[39m\n",
            " \u001b[90m [e6f89c97] \u001b[39m\u001b[92m+ LoggingExtras v1.0.0\u001b[39m\n",
            " \u001b[90m [4d8831e6] \u001b[39m\u001b[92m+ OpenSSL v1.4.1\u001b[39m\n",
            " \u001b[90m [777ac1f9] \u001b[39m\u001b[92m+ SimpleBufferStream v1.1.0\u001b[39m\n",
            " \u001b[90m [3bb67fe8] \u001b[39m\u001b[92m+ TranscodingStreams v0.9.13\u001b[39m\n",
            " \u001b[90m [5c2747f8] \u001b[39m\u001b[92m+ URIs v1.4.2\u001b[39m\n",
            " \u001b[90m [458c3c95] \u001b[39m\u001b[92m+ OpenSSL_jll v3.0.10+0\u001b[39m\n",
            "\u001b[32m\u001b[1mPrecompiling\u001b[22m\u001b[39m project...\n",
            "\u001b[32m  ✓ \u001b[39m\u001b[90mSimpleBufferStream\u001b[39m\n",
            "\u001b[32m  ✓ \u001b[39m\u001b[90mBitFlags\u001b[39m\n",
            "\u001b[32m  ✓ \u001b[39m\u001b[90mURIs\u001b[39m\n",
            "\u001b[32m  ✓ \u001b[39m\u001b[90mLoggingExtras\u001b[39m\n",
            "\u001b[32m  ✓ \u001b[39m\u001b[90mExceptionUnwrapping\u001b[39m\n",
            "\u001b[32m  ✓ \u001b[39m\u001b[90mConcurrentUtilities\u001b[39m\n",
            "\u001b[32m  ✓ \u001b[39m\u001b[90mOpenSSL_jll\u001b[39m\n",
            "\u001b[32m  ✓ \u001b[39m\u001b[90mTranscodingStreams\u001b[39m\n",
            "\u001b[32m  ✓ \u001b[39m\u001b[90mCodecZlib\u001b[39m\n",
            "\u001b[32m  ✓ \u001b[39m\u001b[90mOpenSSL\u001b[39m\n",
            "\u001b[32m  ✓ \u001b[39m\u001b[90mHTTP\u001b[39m\n",
            "\u001b[32m  ✓ \u001b[39mKEGGAPI\n",
            "  12 dependencies successfully precompiled in 12 seconds. 45 already precompiled.\n",
            "\u001b[32m\u001b[1m   Resolving\u001b[22m\u001b[39m package versions...\n",
            "\u001b[32m\u001b[1m   Installed\u001b[22m\u001b[39m JpegTurbo_jll ─────── v2.1.91+0\n",
            "\u001b[32m\u001b[1m   Installed\u001b[22m\u001b[39m ImageIO ───────────── v0.6.7\n",
            "\u001b[32m\u001b[1m   Installed\u001b[22m\u001b[39m Adapt ─────────────── v3.6.2\n",
            "\u001b[32m\u001b[1m   Installed\u001b[22m\u001b[39m ColorTypes ────────── v0.11.4\n",
            "\u001b[32m\u001b[1m   Installed\u001b[22m\u001b[39m AxisArrays ────────── v0.4.7\n",
            "\u001b[32m\u001b[1m   Installed\u001b[22m\u001b[39m OffsetArrays ──────── v1.12.10\n",
            "\u001b[32m\u001b[1m   Installed\u001b[22m\u001b[39m ImageCore ─────────── v0.10.1\n",
            "\u001b[32m\u001b[1m   Installed\u001b[22m\u001b[39m TiffImages ────────── v0.6.4\n",
            "\u001b[32m\u001b[1m   Installed\u001b[22m\u001b[39m LERC_jll ──────────── v3.0.0+1\n",
            "\u001b[32m\u001b[1m   Installed\u001b[22m\u001b[39m Zstd_jll ──────────── v1.5.5+0\n",
            "\u001b[32m\u001b[1m   Installed\u001b[22m\u001b[39m IntervalSets ──────── v0.7.7\n",
            "\u001b[32m\u001b[1m   Installed\u001b[22m\u001b[39m JpegTurbo ─────────── v0.1.3\n",
            "\u001b[32m\u001b[1m   Installed\u001b[22m\u001b[39m ImageBase ─────────── v0.1.7\n",
            "\u001b[32m\u001b[1m   Installed\u001b[22m\u001b[39m TensorCore ────────── v0.1.1\n",
            "\u001b[32m\u001b[1m   Installed\u001b[22m\u001b[39m PNGFiles ──────────── v0.4.0\n",
            "\u001b[32m\u001b[1m   Installed\u001b[22m\u001b[39m IterTools ─────────── v1.8.0\n",
            "\u001b[32m\u001b[1m   Installed\u001b[22m\u001b[39m Imath_jll ─────────── v3.1.7+0\n",
            "\u001b[32m\u001b[1m   Installed\u001b[22m\u001b[39m ImageMagick ───────── v1.3.0\n",
            "\u001b[32m\u001b[1m   Installed\u001b[22m\u001b[39m Inflate ───────────── v0.1.3\n",
            "\u001b[32m\u001b[1m   Installed\u001b[22m\u001b[39m TestImages ────────── v1.8.0\n",
            "\u001b[32m\u001b[1m   Installed\u001b[22m\u001b[39m Sixel ─────────────── v0.1.3\n",
            "\u001b[32m\u001b[1m   Installed\u001b[22m\u001b[39m PkgVersion ────────── v0.3.2\n",
            "\u001b[32m\u001b[1m   Installed\u001b[22m\u001b[39m IndirectArrays ────── v1.0.0\n",
            "\u001b[32m\u001b[1m   Installed\u001b[22m\u001b[39m QOI ───────────────── v1.0.0\n",
            "\u001b[32m\u001b[1m   Installed\u001b[22m\u001b[39m Libtiff_jll ───────── v4.4.0+0\n",
            "\u001b[32m\u001b[1m   Installed\u001b[22m\u001b[39m ProgressMeter ─────── v1.7.2\n",
            "\u001b[32m\u001b[1m   Installed\u001b[22m\u001b[39m FixedPointNumbers ─── v0.8.4\n",
            "\u001b[32m\u001b[1m   Installed\u001b[22m\u001b[39m libsixel_jll ──────── v1.10.3+0\n",
            "\u001b[32m\u001b[1m   Installed\u001b[22m\u001b[39m AbstractFFTs ──────── v1.5.0\n",
            "\u001b[32m\u001b[1m   Installed\u001b[22m\u001b[39m OpenEXR ───────────── v0.3.2\n",
            "\u001b[32m\u001b[1m   Installed\u001b[22m\u001b[39m ColorVectorSpace ──── v0.10.0\n",
            "\u001b[32m\u001b[1m   Installed\u001b[22m\u001b[39m ChainRulesCore ────── v1.16.0\n",
            "\u001b[32m\u001b[1m   Installed\u001b[22m\u001b[39m ImageMetadata ─────── v0.9.9\n",
            "\u001b[32m\u001b[1m   Installed\u001b[22m\u001b[39m CEnum ─────────────── v0.4.2\n",
            "\u001b[32m\u001b[1m   Installed\u001b[22m\u001b[39m Netpbm ────────────── v1.1.1\n",
            "\u001b[32m\u001b[1m   Installed\u001b[22m\u001b[39m ImageAxes ─────────── v0.6.11\n",
            "\u001b[32m\u001b[1m   Installed\u001b[22m\u001b[39m MappedArrays ──────── v0.4.2\n",
            "\u001b[32m\u001b[1m   Installed\u001b[22m\u001b[39m FileIO ────────────── v1.16.1\n",
            "\u001b[32m\u001b[1m   Installed\u001b[22m\u001b[39m ImageMagick_jll ───── v6.9.10-12+3\n",
            "\u001b[32m\u001b[1m   Installed\u001b[22m\u001b[39m Colors ────────────── v0.12.10\n",
            "\u001b[32m\u001b[1m   Installed\u001b[22m\u001b[39m StackViews ────────── v0.1.1\n",
            "\u001b[32m\u001b[1m   Installed\u001b[22m\u001b[39m PaddedViews ───────── v0.5.12\n",
            "\u001b[32m\u001b[1m   Installed\u001b[22m\u001b[39m RangeArrays ───────── v0.3.2\n",
            "\u001b[32m\u001b[1m   Installed\u001b[22m\u001b[39m StatsAPI ──────────── v1.6.0\n",
            "\u001b[32m\u001b[1m   Installed\u001b[22m\u001b[39m StringDistances ───── v0.11.2\n",
            "\u001b[32m\u001b[1m   Installed\u001b[22m\u001b[39m Distances ─────────── v0.10.9\n",
            "\u001b[32m\u001b[1m   Installed\u001b[22m\u001b[39m MacroTools ────────── v0.5.10\n",
            "\u001b[32m\u001b[1m   Installed\u001b[22m\u001b[39m LazyModules ───────── v0.3.1\n",
            "\u001b[32m\u001b[1m   Installed\u001b[22m\u001b[39m libpng_jll ────────── v1.6.38+0\n",
            "\u001b[32m\u001b[1m   Installed\u001b[22m\u001b[39m OpenEXR_jll ───────── v3.1.4+0\n",
            "\u001b[32m\u001b[1m   Installed\u001b[22m\u001b[39m SimpleTraits ──────── v0.9.4\n",
            "\u001b[32m\u001b[1m   Installed\u001b[22m\u001b[39m MosaicViews ───────── v0.3.4\n",
            "\u001b[32m\u001b[1m   Installed\u001b[22m\u001b[39m DocStringExtensions ─ v0.9.3\n",
            "\u001b[32m\u001b[1m    Updating\u001b[22m\u001b[39m `~/.julia/environments/v1.8/Project.toml`\n",
            " \u001b[90m [5e47fb64] \u001b[39m\u001b[92m+ TestImages v1.8.0\u001b[39m\n",
            "\u001b[32m\u001b[1m    Updating\u001b[22m\u001b[39m `~/.julia/environments/v1.8/Manifest.toml`\n",
            " \u001b[90m [621f4979] \u001b[39m\u001b[92m+ AbstractFFTs v1.5.0\u001b[39m\n",
            " \u001b[90m [79e6a3ab] \u001b[39m\u001b[92m+ Adapt v3.6.2\u001b[39m\n",
            " \u001b[90m [39de3d68] \u001b[39m\u001b[92m+ AxisArrays v0.4.7\u001b[39m\n",
            " \u001b[90m [fa961155] \u001b[39m\u001b[92m+ CEnum v0.4.2\u001b[39m\n",
            " \u001b[90m [d360d2e6] \u001b[39m\u001b[92m+ ChainRulesCore v1.16.0\u001b[39m\n",
            " \u001b[90m [3da002f7] \u001b[39m\u001b[92m+ ColorTypes v0.11.4\u001b[39m\n",
            " \u001b[90m [c3611d14] \u001b[39m\u001b[92m+ ColorVectorSpace v0.10.0\u001b[39m\n",
            " \u001b[90m [5ae59095] \u001b[39m\u001b[92m+ Colors v0.12.10\u001b[39m\n",
            " \u001b[90m [b4f34e82] \u001b[39m\u001b[92m+ Distances v0.10.9\u001b[39m\n",
            " \u001b[90m [ffbed154] \u001b[39m\u001b[92m+ DocStringExtensions v0.9.3\u001b[39m\n",
            " \u001b[90m [5789e2e9] \u001b[39m\u001b[92m+ FileIO v1.16.1\u001b[39m\n",
            " \u001b[90m [53c48c17] \u001b[39m\u001b[92m+ FixedPointNumbers v0.8.4\u001b[39m\n",
            " \u001b[90m [2803e5a7] \u001b[39m\u001b[92m+ ImageAxes v0.6.11\u001b[39m\n",
            " \u001b[90m [c817782e] \u001b[39m\u001b[92m+ ImageBase v0.1.7\u001b[39m\n",
            " \u001b[90m [a09fc81d] \u001b[39m\u001b[92m+ ImageCore v0.10.1\u001b[39m\n",
            " \u001b[90m [82e4d734] \u001b[39m\u001b[92m+ ImageIO v0.6.7\u001b[39m\n",
            " \u001b[90m [6218d12a] \u001b[39m\u001b[92m+ ImageMagick v1.3.0\u001b[39m\n",
            " \u001b[90m [bc367c6b] \u001b[39m\u001b[92m+ ImageMetadata v0.9.9\u001b[39m\n",
            " \u001b[90m [9b13fd28] \u001b[39m\u001b[92m+ IndirectArrays v1.0.0\u001b[39m\n",
            " \u001b[90m [d25df0c9] \u001b[39m\u001b[92m+ Inflate v0.1.3\u001b[39m\n",
            " \u001b[90m [8197267c] \u001b[39m\u001b[92m+ IntervalSets v0.7.7\u001b[39m\n",
            " \u001b[90m [c8e1da08] \u001b[39m\u001b[92m+ IterTools v1.8.0\u001b[39m\n",
            " \u001b[90m [b835a17e] \u001b[39m\u001b[92m+ JpegTurbo v0.1.3\u001b[39m\n",
            " \u001b[90m [8cdb02fc] \u001b[39m\u001b[92m+ LazyModules v0.3.1\u001b[39m\n",
            " \u001b[90m [1914dd2f] \u001b[39m\u001b[92m+ MacroTools v0.5.10\u001b[39m\n",
            " \u001b[90m [dbb5928d] \u001b[39m\u001b[92m+ MappedArrays v0.4.2\u001b[39m\n",
            " \u001b[90m [e94cdb99] \u001b[39m\u001b[92m+ MosaicViews v0.3.4\u001b[39m\n",
            " \u001b[90m [f09324ee] \u001b[39m\u001b[92m+ Netpbm v1.1.1\u001b[39m\n",
            " \u001b[90m [6fe1bfb0] \u001b[39m\u001b[92m+ OffsetArrays v1.12.10\u001b[39m\n",
            " \u001b[90m [52e1d378] \u001b[39m\u001b[92m+ OpenEXR v0.3.2\u001b[39m\n",
            " \u001b[90m [f57f5aa1] \u001b[39m\u001b[92m+ PNGFiles v0.4.0\u001b[39m\n",
            " \u001b[90m [5432bcbf] \u001b[39m\u001b[92m+ PaddedViews v0.5.12\u001b[39m\n",
            " \u001b[90m [eebad327] \u001b[39m\u001b[92m+ PkgVersion v0.3.2\u001b[39m\n",
            " \u001b[90m [92933f4c] \u001b[39m\u001b[92m+ ProgressMeter v1.7.2\u001b[39m\n",
            " \u001b[90m [4b34888f] \u001b[39m\u001b[92m+ QOI v1.0.0\u001b[39m\n",
            " \u001b[90m [b3c3ace0] \u001b[39m\u001b[92m+ RangeArrays v0.3.2\u001b[39m\n",
            " \u001b[90m [699a6c99] \u001b[39m\u001b[92m+ SimpleTraits v0.9.4\u001b[39m\n",
            " \u001b[90m [45858cf5] \u001b[39m\u001b[92m+ Sixel v0.1.3\u001b[39m\n",
            " \u001b[90m [cae243ae] \u001b[39m\u001b[92m+ StackViews v0.1.1\u001b[39m\n",
            " \u001b[90m [82ae8749] \u001b[39m\u001b[92m+ StatsAPI v1.6.0\u001b[39m\n",
            " \u001b[90m [88034a9c] \u001b[39m\u001b[92m+ StringDistances v0.11.2\u001b[39m\n",
            " \u001b[90m [62fd8b95] \u001b[39m\u001b[92m+ TensorCore v0.1.1\u001b[39m\n",
            " \u001b[90m [5e47fb64] \u001b[39m\u001b[92m+ TestImages v1.8.0\u001b[39m\n",
            " \u001b[90m [731e570b] \u001b[39m\u001b[92m+ TiffImages v0.6.4\u001b[39m\n",
            "\u001b[33m⌅\u001b[39m\u001b[90m [c73af94c] \u001b[39m\u001b[92m+ ImageMagick_jll v6.9.10-12+3\u001b[39m\n",
            " \u001b[90m [905a6f67] \u001b[39m\u001b[92m+ Imath_jll v3.1.7+0\u001b[39m\n",
            " \u001b[90m [aacddb02] \u001b[39m\u001b[92m+ JpegTurbo_jll v2.1.91+0\u001b[39m\n",
            " \u001b[90m [88015f11] \u001b[39m\u001b[92m+ LERC_jll v3.0.0+1\u001b[39m\n",
            "\u001b[33m⌅\u001b[39m\u001b[90m [89763e89] \u001b[39m\u001b[92m+ Libtiff_jll v4.4.0+0\u001b[39m\n",
            " \u001b[90m [18a262bb] \u001b[39m\u001b[92m+ OpenEXR_jll v3.1.4+0\u001b[39m\n",
            " \u001b[90m [3161d3a3] \u001b[39m\u001b[92m+ Zstd_jll v1.5.5+0\u001b[39m\n",
            " \u001b[90m [b53b4c65] \u001b[39m\u001b[92m+ libpng_jll v1.6.38+0\u001b[39m\n",
            " \u001b[90m [075b6546] \u001b[39m\u001b[92m+ libsixel_jll v1.10.3+0\u001b[39m\n",
            "\u001b[36m\u001b[1m        Info\u001b[22m\u001b[39m Packages marked with \u001b[33m⌅\u001b[39m have new versions available but compatibility constraints restrict them from upgrading. To see why use `status --outdated -m`\n",
            "\u001b[32m\u001b[1mPrecompiling\u001b[22m\u001b[39m project...\n",
            "\u001b[32m  ✓ \u001b[39m\u001b[90mLazyModules\u001b[39m\n",
            "\u001b[32m  ✓ \u001b[39m\u001b[90mRangeArrays\u001b[39m\n",
            "\u001b[32m  ✓ \u001b[39m\u001b[90mIndirectArrays\u001b[39m\n",
            "\u001b[32m  ✓ \u001b[39m\u001b[90mInflate\u001b[39m\n",
            "\u001b[32m  ✓ \u001b[39m\u001b[90mIntervalSets\u001b[39m\n",
            "\u001b[32m  ✓ \u001b[39m\u001b[90mDocStringExtensions\u001b[39m\n",
            "\u001b[32m  ✓ \u001b[39m\u001b[90mAdapt\u001b[39m\n",
            "\u001b[32m  ✓ \u001b[39m\u001b[90mTensorCore\u001b[39m\n",
            "\u001b[32m  ✓ \u001b[39m\u001b[90mStatsAPI\u001b[39m\n",
            "\u001b[32m  ✓ \u001b[39m\u001b[90mFixedPointNumbers\u001b[39m\n",
            "\u001b[32m  ✓ \u001b[39m\u001b[90mIterTools\u001b[39m\n",
            "\u001b[32m  ✓ \u001b[39m\u001b[90mPkgVersion\u001b[39m\n",
            "\u001b[32m  ✓ \u001b[39m\u001b[90mProgressMeter\u001b[39m\n",
            "\u001b[32m  ✓ \u001b[39m\u001b[90mCEnum\u001b[39m\n",
            "\u001b[32m  ✓ \u001b[39m\u001b[90mMappedArrays\u001b[39m\n",
            "\u001b[32m  ✓ \u001b[39m\u001b[90mChainRulesCore\u001b[39m\n",
            "\u001b[32m  ✓ \u001b[39m\u001b[90mMacroTools\u001b[39m\n",
            "\u001b[32m  ✓ \u001b[39m\u001b[90mJpegTurbo_jll\u001b[39m\n",
            "\u001b[32m  ✓ \u001b[39m\u001b[90mlibpng_jll\u001b[39m\n",
            "\u001b[32m  ✓ \u001b[39m\u001b[90mZstd_jll\u001b[39m\n",
            "\u001b[32m  ✓ \u001b[39m\u001b[90mImath_jll\u001b[39m\n",
            "\u001b[32m  ✓ \u001b[39m\u001b[90mLERC_jll\u001b[39m\n",
            "\u001b[32m  ✓ \u001b[39m\u001b[90mFileIO\u001b[39m\n",
            "\u001b[32m  ✓ \u001b[39m\u001b[90mOffsetArrays\u001b[39m\n",
            "\u001b[32m  ✓ \u001b[39m\u001b[90mDistances\u001b[39m\n",
            "\u001b[32m  ✓ \u001b[39m\u001b[90mAxisArrays\u001b[39m\n",
            "\u001b[32m  ✓ \u001b[39m\u001b[90mAbstractFFTs\u001b[39m\n",
            "\u001b[32m  ✓ \u001b[39m\u001b[90mSimpleTraits\u001b[39m\n",
            "\u001b[32m  ✓ \u001b[39m\u001b[90mlibsixel_jll\u001b[39m\n",
            "\u001b[32m  ✓ \u001b[39m\u001b[90mOpenEXR_jll\u001b[39m\n",
            "\u001b[32m  ✓ \u001b[39m\u001b[90mColorTypes\u001b[39m\n",
            "\u001b[32m  ✓ \u001b[39m\u001b[90mLibtiff_jll\u001b[39m\n",
            "\u001b[32m  ✓ \u001b[39m\u001b[90mStackViews\u001b[39m\n",
            "\u001b[32m  ✓ \u001b[39m\u001b[90mPaddedViews\u001b[39m\n",
            "\u001b[32m  ✓ \u001b[39m\u001b[90mStringDistances\u001b[39m\n",
            "\u001b[32m  ✓ \u001b[39m\u001b[90mQOI\u001b[39m\n",
            "\u001b[32m  ✓ \u001b[39m\u001b[90mColorVectorSpace\u001b[39m\n",
            "\u001b[32m  ✓ \u001b[39m\u001b[90mImageMagick_jll\u001b[39m\n",
            "\u001b[32m  ✓ \u001b[39m\u001b[90mMosaicViews\u001b[39m\n",
            "\u001b[32m  ✓ \u001b[39m\u001b[90mColors\u001b[39m\n",
            "\u001b[32m  ✓ \u001b[39m\u001b[90mOpenEXR\u001b[39m\n",
            "\u001b[32m  ✓ \u001b[39m\u001b[90mImageCore\u001b[39m\n",
            "\u001b[32m  ✓ \u001b[39m\u001b[90mImageBase\u001b[39m\n",
            "\u001b[32m  ✓ \u001b[39m\u001b[90mJpegTurbo\u001b[39m\n",
            "\u001b[32m  ✓ \u001b[39m\u001b[90mSixel\u001b[39m\n",
            "\u001b[32m  ✓ \u001b[39m\u001b[90mImageMagick\u001b[39m\n",
            "\u001b[32m  ✓ \u001b[39m\u001b[90mPNGFiles\u001b[39m\n",
            "\u001b[32m  ✓ \u001b[39m\u001b[90mImageAxes\u001b[39m\n",
            "\u001b[32m  ✓ \u001b[39m\u001b[90mTiffImages\u001b[39m\n",
            "\u001b[32m  ✓ \u001b[39m\u001b[90mImageMetadata\u001b[39m\n",
            "\u001b[32m  ✓ \u001b[39m\u001b[90mNetpbm\u001b[39m\n",
            "\u001b[32m  ✓ \u001b[39m\u001b[90mImageIO\u001b[39m\n",
            "\u001b[32m  ✓ \u001b[39mTestImages\n",
            "  53 dependencies successfully precompiled in 113 seconds. 57 already precompiled.\n",
            "\u001b[32m\u001b[1m   Resolving\u001b[22m\u001b[39m package versions...\n",
            "\u001b[32m\u001b[1m   Installed\u001b[22m\u001b[39m ImageSegmentation ──────────────── v1.8.2\n",
            "\u001b[32m\u001b[1m   Installed\u001b[22m\u001b[39m TiledIteration ─────────────────── v0.5.0\n",
            "\u001b[32m\u001b[1m   Installed\u001b[22m\u001b[39m HistogramThresholding ──────────── v0.3.1\n",
            "\u001b[32m\u001b[1m   Installed\u001b[22m\u001b[39m FFTW ───────────────────────────── v1.7.1\n",
            "\u001b[32m\u001b[1m   Installed\u001b[22m\u001b[39m RegionTrees ────────────────────── v0.3.2\n",
            "\u001b[32m\u001b[1m   Installed\u001b[22m\u001b[39m MutableArithmetics ─────────────── v1.3.0\n",
            "\u001b[32m\u001b[1m   Installed\u001b[22m\u001b[39m StaticArrays ───────────────────── v1.6.2\n",
            "\u001b[32m\u001b[1m   Installed\u001b[22m\u001b[39m Images ─────────────────────────── v0.26.0\n",
            "\u001b[32m\u001b[1m   Installed\u001b[22m\u001b[39m IntelOpenMP_jll ────────────────── v2023.1.0+0\n",
            "\u001b[32m\u001b[1m   Installed\u001b[22m\u001b[39m NearestNeighbors ───────────────── v0.4.13\n",
            "\u001b[32m\u001b[1m   Installed\u001b[22m\u001b[39m Static ─────────────────────────── v0.8.8\n",
            "\u001b[32m\u001b[1m   Installed\u001b[22m\u001b[39m MetaGraphs ─────────────────────── v0.7.2\n",
            "\u001b[32m\u001b[1m   Installed\u001b[22m\u001b[39m Polynomials ────────────────────── v3.2.13\n",
            "\u001b[32m\u001b[1m   Installed\u001b[22m\u001b[39m RealDot ────────────────────────── v0.1.0\n",
            "\u001b[32m\u001b[1m   Installed\u001b[22m\u001b[39m SLEEFPirates ───────────────────── v0.6.39\n",
            "\u001b[32m\u001b[1m   Installed\u001b[22m\u001b[39m IrrationalConstants ────────────── v0.2.2\n",
            "\u001b[32m\u001b[1m   Installed\u001b[22m\u001b[39m JLD2 ───────────────────────────── v0.4.33\n",
            "\u001b[32m\u001b[1m   Installed\u001b[22m\u001b[39m SIMDTypes ──────────────────────── v0.1.0\n",
            "\u001b[32m\u001b[1m   Installed\u001b[22m\u001b[39m ArnoldiMethod ──────────────────── v0.2.0\n",
            "\u001b[32m\u001b[1m   Installed\u001b[22m\u001b[39m CpuId ──────────────────────────── v0.3.1\n",
            "\u001b[32m\u001b[1m   Installed\u001b[22m\u001b[39m IfElse ─────────────────────────── v0.1.1\n",
            "\u001b[32m\u001b[1m   Installed\u001b[22m\u001b[39m SpecialFunctions ───────────────── v2.3.0\n",
            "\u001b[32m\u001b[1m   Installed\u001b[22m\u001b[39m NaNMath ────────────────────────── v1.0.2\n",
            "\u001b[32m\u001b[1m   Installed\u001b[22m\u001b[39m ArrayInterfaceCore ─────────────── v0.1.29\n",
            "\u001b[32m\u001b[1m   Installed\u001b[22m\u001b[39m StaticArraysCore ───────────────── v1.4.2\n",
            "\u001b[32m\u001b[1m   Installed\u001b[22m\u001b[39m Clustering ─────────────────────── v0.15.4\n",
            "\u001b[32m\u001b[1m   Installed\u001b[22m\u001b[39m ThreadingUtilities ─────────────── v0.5.2\n",
            "\u001b[32m\u001b[1m   Installed\u001b[22m\u001b[39m CustomUnitRanges ───────────────── v1.0.2\n",
            "\u001b[32m\u001b[1m   Installed\u001b[22m\u001b[39m ColorSchemes ───────────────────── v3.22.0\n",
            "\u001b[32m\u001b[1m   Installed\u001b[22m\u001b[39m ManualMemory ───────────────────── v0.1.8\n",
            "\u001b[32m\u001b[1m   Installed\u001b[22m\u001b[39m SnoopPrecompile ────────────────── v1.0.3\n",
            "\u001b[32m\u001b[1m   Installed\u001b[22m\u001b[39m Graphics ───────────────────────── v1.1.2\n",
            "\u001b[32m\u001b[1m   Installed\u001b[22m\u001b[39m Graphs ─────────────────────────── v1.8.0\n",
            "\u001b[32m\u001b[1m   Installed\u001b[22m\u001b[39m Ratios ─────────────────────────── v0.4.5\n",
            "\u001b[32m\u001b[1m   Installed\u001b[22m\u001b[39m ComputationalResources ─────────── v0.3.2\n",
            "\u001b[32m\u001b[1m   Installed\u001b[22m\u001b[39m CatIndices ─────────────────────── v0.2.2\n",
            "\u001b[32m\u001b[1m   Installed\u001b[22m\u001b[39m CommonSubexpressions ───────────── v0.3.0\n",
            "\u001b[32m\u001b[1m   Installed\u001b[22m\u001b[39m StaticArrayInterface ───────────── v1.4.0\n",
            "\u001b[32m\u001b[1m   Installed\u001b[22m\u001b[39m ImageTransformations ───────────── v0.10.0\n",
            "\u001b[32m\u001b[1m   Installed\u001b[22m\u001b[39m StatsBase ──────────────────────── v0.34.0\n",
            "\u001b[32m\u001b[1m   Installed\u001b[22m\u001b[39m ImageCorners ───────────────────── v0.1.3\n",
            "\u001b[32m\u001b[1m   Installed\u001b[22m\u001b[39m BitTwiddlingConvenienceFunctions ─ v0.1.5\n",
            "\u001b[32m\u001b[1m   Installed\u001b[22m\u001b[39m DiffRules ──────────────────────── v1.15.1\n",
            "\u001b[32m\u001b[1m   Installed\u001b[22m\u001b[39m DiffResults ────────────────────── v1.1.0\n",
            "\u001b[32m\u001b[1m   Installed\u001b[22m\u001b[39m LayoutPointers ─────────────────── v0.1.14\n",
            "\u001b[32m\u001b[1m   Installed\u001b[22m\u001b[39m ImageContrastAdjustment ────────── v0.3.12\n",
            "\u001b[32m\u001b[1m   Installed\u001b[22m\u001b[39m ImageQualityIndexes ────────────── v0.3.7\n",
            "\u001b[32m\u001b[1m   Installed\u001b[22m\u001b[39m ImageShow ──────────────────────── v0.3.8\n",
            "\u001b[32m\u001b[1m   Installed\u001b[22m\u001b[39m MKL_jll ────────────────────────── v2023.1.0+0\n",
            "\u001b[32m\u001b[1m   Installed\u001b[22m\u001b[39m IntegralArrays ─────────────────── v0.1.5\n",
            "\u001b[32m\u001b[1m   Installed\u001b[22m\u001b[39m CoordinateTransformations ──────── v0.6.3\n",
            "\u001b[32m\u001b[1m   Installed\u001b[22m\u001b[39m PolyesterWeave ─────────────────── v0.2.1\n",
            "\u001b[32m\u001b[1m   Installed\u001b[22m\u001b[39m LoopVectorization ──────────────── v0.12.165\n",
            "\u001b[32m\u001b[1m   Installed\u001b[22m\u001b[39m ArrayInterface ─────────────────── v7.4.11\n",
            "\u001b[32m\u001b[1m   Installed\u001b[22m\u001b[39m CloseOpenIntervals ─────────────── v0.1.12\n",
            "\u001b[32m\u001b[1m   Installed\u001b[22m\u001b[39m LogExpFunctions ────────────────── v0.3.24\n",
            "\u001b[32m\u001b[1m   Installed\u001b[22m\u001b[39m Rotations ──────────────────────── v1.5.1\n",
            "\u001b[32m\u001b[1m   Installed\u001b[22m\u001b[39m Quaternions ────────────────────── v0.7.4\n",
            "\u001b[32m\u001b[1m   Installed\u001b[22m\u001b[39m FFTW_jll ───────────────────────── v3.3.10+0\n",
            "\u001b[32m\u001b[1m   Installed\u001b[22m\u001b[39m OpenSpecFun_jll ────────────────── v0.5.5+0\n",
            "\u001b[32m\u001b[1m   Installed\u001b[22m\u001b[39m UnPack ─────────────────────────── v1.0.2\n",
            "\u001b[32m\u001b[1m   Installed\u001b[22m\u001b[39m InverseFunctions ───────────────── v0.1.12\n",
            "\u001b[32m\u001b[1m   Installed\u001b[22m\u001b[39m VectorizationBase ──────────────── v0.21.64\n",
            "\u001b[32m\u001b[1m   Installed\u001b[22m\u001b[39m ImageBinarization ──────────────── v0.3.0\n",
            "\u001b[32m\u001b[1m   Installed\u001b[22m\u001b[39m SimpleWeightedGraphs ───────────── v1.4.0\n",
            "\u001b[32m\u001b[1m   Installed\u001b[22m\u001b[39m MakieCore ──────────────────────── v0.6.4\n",
            "\u001b[32m\u001b[1m   Installed\u001b[22m\u001b[39m CPUSummary ─────────────────────── v0.2.3\n",
            "\u001b[32m\u001b[1m   Installed\u001b[22m\u001b[39m ImageDistances ─────────────────── v0.2.17\n",
            "\u001b[32m\u001b[1m   Installed\u001b[22m\u001b[39m ImageFiltering ─────────────────── v0.7.7\n",
            "\u001b[32m\u001b[1m   Installed\u001b[22m\u001b[39m RecipesBase ────────────────────── v1.3.4\n",
            "\u001b[32m\u001b[1m   Installed\u001b[22m\u001b[39m AxisAlgorithms ─────────────────── v1.0.1\n",
            "\u001b[32m\u001b[1m   Installed\u001b[22m\u001b[39m HostCPUFeatures ────────────────── v0.1.15\n",
            "\u001b[32m\u001b[1m   Installed\u001b[22m\u001b[39m FFTViews ───────────────────────── v0.3.2\n",
            "\u001b[32m\u001b[1m   Installed\u001b[22m\u001b[39m Observables ────────────────────── v0.5.4\n",
            "\u001b[32m\u001b[1m   Installed\u001b[22m\u001b[39m ForwardDiff ────────────────────── v0.10.35\n",
            "\u001b[32m\u001b[1m   Installed\u001b[22m\u001b[39m Parameters ─────────────────────── v0.12.3\n",
            "\u001b[32m\u001b[1m   Installed\u001b[22m\u001b[39m ImageMorphology ────────────────── v0.4.5\n",
            "\u001b[32m\u001b[1m   Installed\u001b[22m\u001b[39m WoodburyMatrices ───────────────── v0.5.5\n",
            "\u001b[32m\u001b[1m   Installed\u001b[22m\u001b[39m ChangesOfVariables ─────────────── v0.1.8\n",
            "\u001b[32m\u001b[1m   Installed\u001b[22m\u001b[39m Interpolations ─────────────────── v0.14.7\n",
            "\u001b[32m\u001b[1m    Updating\u001b[22m\u001b[39m `~/.julia/environments/v1.8/Project.toml`\n",
            " \u001b[90m [916415d5] \u001b[39m\u001b[92m+ Images v0.26.0\u001b[39m\n",
            "\u001b[32m\u001b[1m    Updating\u001b[22m\u001b[39m `~/.julia/environments/v1.8/Manifest.toml`\n",
            " \u001b[90m [ec485272] \u001b[39m\u001b[92m+ ArnoldiMethod v0.2.0\u001b[39m\n",
            " \u001b[90m [4fba245c] \u001b[39m\u001b[92m+ ArrayInterface v7.4.11\u001b[39m\n",
            " \u001b[90m [30b0a656] \u001b[39m\u001b[92m+ ArrayInterfaceCore v0.1.29\u001b[39m\n",
            " \u001b[90m [13072b0f] \u001b[39m\u001b[92m+ AxisAlgorithms v1.0.1\u001b[39m\n",
            " \u001b[90m [62783981] \u001b[39m\u001b[92m+ BitTwiddlingConvenienceFunctions v0.1.5\u001b[39m\n",
            " \u001b[90m [2a0fbf3d] \u001b[39m\u001b[92m+ CPUSummary v0.2.3\u001b[39m\n",
            " \u001b[90m [aafaddc9] \u001b[39m\u001b[92m+ CatIndices v0.2.2\u001b[39m\n",
            " \u001b[90m [9e997f8a] \u001b[39m\u001b[92m+ ChangesOfVariables v0.1.8\u001b[39m\n",
            " \u001b[90m [fb6a15b2] \u001b[39m\u001b[92m+ CloseOpenIntervals v0.1.12\u001b[39m\n",
            " \u001b[90m [aaaa29a8] \u001b[39m\u001b[92m+ Clustering v0.15.4\u001b[39m\n",
            " \u001b[90m [35d6a980] \u001b[39m\u001b[92m+ ColorSchemes v3.22.0\u001b[39m\n",
            " \u001b[90m [bbf7d656] \u001b[39m\u001b[92m+ CommonSubexpressions v0.3.0\u001b[39m\n",
            " \u001b[90m [ed09eef8] \u001b[39m\u001b[92m+ ComputationalResources v0.3.2\u001b[39m\n",
            " \u001b[90m [150eb455] \u001b[39m\u001b[92m+ CoordinateTransformations v0.6.3\u001b[39m\n",
            " \u001b[90m [adafc99b] \u001b[39m\u001b[92m+ CpuId v0.3.1\u001b[39m\n",
            " \u001b[90m [dc8bdbbb] \u001b[39m\u001b[92m+ CustomUnitRanges v1.0.2\u001b[39m\n",
            " \u001b[90m [163ba53b] \u001b[39m\u001b[92m+ DiffResults v1.1.0\u001b[39m\n",
            " \u001b[90m [b552c78f] \u001b[39m\u001b[92m+ DiffRules v1.15.1\u001b[39m\n",
            " \u001b[90m [4f61f5a4] \u001b[39m\u001b[92m+ FFTViews v0.3.2\u001b[39m\n",
            " \u001b[90m [7a1cc6ca] \u001b[39m\u001b[92m+ FFTW v1.7.1\u001b[39m\n",
            " \u001b[90m [f6369f11] \u001b[39m\u001b[92m+ ForwardDiff v0.10.35\u001b[39m\n",
            " \u001b[90m [a2bd30eb] \u001b[39m\u001b[92m+ Graphics v1.1.2\u001b[39m\n",
            " \u001b[90m [86223c79] \u001b[39m\u001b[92m+ Graphs v1.8.0\u001b[39m\n",
            " \u001b[90m [2c695a8d] \u001b[39m\u001b[92m+ HistogramThresholding v0.3.1\u001b[39m\n",
            " \u001b[90m [3e5b6fbb] \u001b[39m\u001b[92m+ HostCPUFeatures v0.1.15\u001b[39m\n",
            " \u001b[90m [615f187c] \u001b[39m\u001b[92m+ IfElse v0.1.1\u001b[39m\n",
            " \u001b[90m [cbc4b850] \u001b[39m\u001b[92m+ ImageBinarization v0.3.0\u001b[39m\n",
            " \u001b[90m [f332f351] \u001b[39m\u001b[92m+ ImageContrastAdjustment v0.3.12\u001b[39m\n",
            " \u001b[90m [89d5987c] \u001b[39m\u001b[92m+ ImageCorners v0.1.3\u001b[39m\n",
            " \u001b[90m [51556ac3] \u001b[39m\u001b[92m+ ImageDistances v0.2.17\u001b[39m\n",
            " \u001b[90m [6a3955dd] \u001b[39m\u001b[92m+ ImageFiltering v0.7.7\u001b[39m\n",
            " \u001b[90m [787d08f9] \u001b[39m\u001b[92m+ ImageMorphology v0.4.5\u001b[39m\n",
            " \u001b[90m [2996bd0c] \u001b[39m\u001b[92m+ ImageQualityIndexes v0.3.7\u001b[39m\n",
            " \u001b[90m [80713f31] \u001b[39m\u001b[92m+ ImageSegmentation v1.8.2\u001b[39m\n",
            " \u001b[90m [4e3cecfd] \u001b[39m\u001b[92m+ ImageShow v0.3.8\u001b[39m\n",
            " \u001b[90m [02fcd773] \u001b[39m\u001b[92m+ ImageTransformations v0.10.0\u001b[39m\n",
            " \u001b[90m [916415d5] \u001b[39m\u001b[92m+ Images v0.26.0\u001b[39m\n",
            " \u001b[90m [1d092043] \u001b[39m\u001b[92m+ IntegralArrays v0.1.5\u001b[39m\n",
            " \u001b[90m [a98d9a8b] \u001b[39m\u001b[92m+ Interpolations v0.14.7\u001b[39m\n",
            " \u001b[90m [3587e190] \u001b[39m\u001b[92m+ InverseFunctions v0.1.12\u001b[39m\n",
            " \u001b[90m [92d709cd] \u001b[39m\u001b[92m+ IrrationalConstants v0.2.2\u001b[39m\n",
            " \u001b[90m [033835bb] \u001b[39m\u001b[92m+ JLD2 v0.4.33\u001b[39m\n",
            " \u001b[90m [10f19ff3] \u001b[39m\u001b[92m+ LayoutPointers v0.1.14\u001b[39m\n",
            " \u001b[90m [2ab3a3ac] \u001b[39m\u001b[92m+ LogExpFunctions v0.3.24\u001b[39m\n",
            " \u001b[90m [bdcacae8] \u001b[39m\u001b[92m+ LoopVectorization v0.12.165\u001b[39m\n",
            " \u001b[90m [20f20a25] \u001b[39m\u001b[92m+ MakieCore v0.6.4\u001b[39m\n",
            " \u001b[90m [d125e4d3] \u001b[39m\u001b[92m+ ManualMemory v0.1.8\u001b[39m\n",
            " \u001b[90m [626554b9] \u001b[39m\u001b[92m+ MetaGraphs v0.7.2\u001b[39m\n",
            " \u001b[90m [d8a4904e] \u001b[39m\u001b[92m+ MutableArithmetics v1.3.0\u001b[39m\n",
            " \u001b[90m [77ba4419] \u001b[39m\u001b[92m+ NaNMath v1.0.2\u001b[39m\n",
            " \u001b[90m [b8a86587] \u001b[39m\u001b[92m+ NearestNeighbors v0.4.13\u001b[39m\n",
            " \u001b[90m [510215fc] \u001b[39m\u001b[92m+ Observables v0.5.4\u001b[39m\n",
            " \u001b[90m [d96e819e] \u001b[39m\u001b[92m+ Parameters v0.12.3\u001b[39m\n",
            " \u001b[90m [1d0040c9] \u001b[39m\u001b[92m+ PolyesterWeave v0.2.1\u001b[39m\n",
            " \u001b[90m [f27b6e38] \u001b[39m\u001b[92m+ Polynomials v3.2.13\u001b[39m\n",
            " \u001b[90m [94ee1d12] \u001b[39m\u001b[92m+ Quaternions v0.7.4\u001b[39m\n",
            " \u001b[90m [c84ed2f1] \u001b[39m\u001b[92m+ Ratios v0.4.5\u001b[39m\n",
            " \u001b[90m [c1ae055f] \u001b[39m\u001b[92m+ RealDot v0.1.0\u001b[39m\n",
            " \u001b[90m [3cdcf5f2] \u001b[39m\u001b[92m+ RecipesBase v1.3.4\u001b[39m\n",
            " \u001b[90m [dee08c22] \u001b[39m\u001b[92m+ RegionTrees v0.3.2\u001b[39m\n",
            " \u001b[90m [6038ab10] \u001b[39m\u001b[92m+ Rotations v1.5.1\u001b[39m\n",
            " \u001b[90m [94e857df] \u001b[39m\u001b[92m+ SIMDTypes v0.1.0\u001b[39m\n",
            " \u001b[90m [476501e8] \u001b[39m\u001b[92m+ SLEEFPirates v0.6.39\u001b[39m\n",
            " \u001b[90m [47aef6b3] \u001b[39m\u001b[92m+ SimpleWeightedGraphs v1.4.0\u001b[39m\n",
            " \u001b[90m [66db9d55] \u001b[39m\u001b[92m+ SnoopPrecompile v1.0.3\u001b[39m\n",
            " \u001b[90m [276daf66] \u001b[39m\u001b[92m+ SpecialFunctions v2.3.0\u001b[39m\n",
            " \u001b[90m [aedffcd0] \u001b[39m\u001b[92m+ Static v0.8.8\u001b[39m\n",
            " \u001b[90m [0d7ed370] \u001b[39m\u001b[92m+ StaticArrayInterface v1.4.0\u001b[39m\n",
            " \u001b[90m [90137ffa] \u001b[39m\u001b[92m+ StaticArrays v1.6.2\u001b[39m\n",
            " \u001b[90m [1e83bf80] \u001b[39m\u001b[92m+ StaticArraysCore v1.4.2\u001b[39m\n",
            " \u001b[90m [2913bbd2] \u001b[39m\u001b[92m+ StatsBase v0.34.0\u001b[39m\n",
            " \u001b[90m [8290d209] \u001b[39m\u001b[92m+ ThreadingUtilities v0.5.2\u001b[39m\n",
            " \u001b[90m [06e1c1a7] \u001b[39m\u001b[92m+ TiledIteration v0.5.0\u001b[39m\n",
            " \u001b[90m [3a884ed6] \u001b[39m\u001b[92m+ UnPack v1.0.2\u001b[39m\n",
            " \u001b[90m [3d5dd08c] \u001b[39m\u001b[92m+ VectorizationBase v0.21.64\u001b[39m\n",
            " \u001b[90m [efce3f68] \u001b[39m\u001b[92m+ WoodburyMatrices v0.5.5\u001b[39m\n",
            " \u001b[90m [f5851436] \u001b[39m\u001b[92m+ FFTW_jll v3.3.10+0\u001b[39m\n",
            " \u001b[90m [1d5cc7b8] \u001b[39m\u001b[92m+ IntelOpenMP_jll v2023.1.0+0\u001b[39m\n",
            " \u001b[90m [856f044c] \u001b[39m\u001b[92m+ MKL_jll v2023.1.0+0\u001b[39m\n",
            " \u001b[90m [efe28fd5] \u001b[39m\u001b[92m+ OpenSpecFun_jll v0.5.5+0\u001b[39m\n",
            " \u001b[90m [4af54fe1] \u001b[39m\u001b[92m+ LazyArtifacts\u001b[39m\n",
            " \u001b[90m [1a1011a3] \u001b[39m\u001b[92m+ SharedArrays\u001b[39m\n",
            " \u001b[90m [4607b0f0] \u001b[39m\u001b[92m+ SuiteSparse\u001b[39m\n",
            " \u001b[90m [05823500] \u001b[39m\u001b[92m+ OpenLibm_jll v0.8.1+0\u001b[39m\n",
            "\u001b[32m\u001b[1mPrecompiling\u001b[22m\u001b[39m project...\n",
            "\u001b[32m  ✓ \u001b[39m\u001b[90mOpenLibm_jll\u001b[39m\n",
            "\u001b[32m  ✓ \u001b[39m\u001b[90mUnPack\u001b[39m\n",
            "\u001b[32m  ✓ \u001b[39m\u001b[90mWoodburyMatrices\u001b[39m\n",
            "\u001b[32m  ✓ \u001b[39m\u001b[90mInverseFunctions\u001b[39m\n",
            "\u001b[32m  ✓ \u001b[39m\u001b[90mManualMemory\u001b[39m\n",
            "\u001b[32m  ✓ \u001b[39m\u001b[90mRealDot\u001b[39m\n",
            "\u001b[32m  ✓ \u001b[39m\u001b[90mObservables\u001b[39m\n",
            "\u001b[32m  ✓ \u001b[39m\u001b[90mSIMDTypes\u001b[39m\n",
            "\u001b[32m  ✓ \u001b[39m\u001b[90mCustomUnitRanges\u001b[39m\n",
            "\u001b[32m  ✓ \u001b[39m\u001b[90mIrrationalConstants\u001b[39m\n",
            "\u001b[32m  ✓ \u001b[39m\u001b[90mRatios\u001b[39m\n",
            "\u001b[32m  ✓ \u001b[39m\u001b[90mIfElse\u001b[39m\n",
            "\u001b[32m  ✓ \u001b[39m\u001b[90mCpuId\u001b[39m\n",
            "\u001b[32m  ✓ \u001b[39m\u001b[90mComputationalResources\u001b[39m\n",
            "\u001b[32m  ✓ \u001b[39m\u001b[90mStaticArraysCore\u001b[39m\n",
            "\u001b[32m  ✓ \u001b[39m\u001b[90mCommonSubexpressions\u001b[39m\n",
            "\u001b[32m  ✓ \u001b[39m\u001b[90mSnoopPrecompile\u001b[39m\n",
            "\u001b[32m  ✓ \u001b[39m\u001b[90mArrayInterface\u001b[39m\n",
            "\u001b[32m  ✓ \u001b[39m\u001b[90mIntegralArrays\u001b[39m\n",
            "\u001b[32m  ✓ \u001b[39m\u001b[90mMutableArithmetics\u001b[39m\n",
            "\u001b[32m  ✓ \u001b[39m\u001b[90mIntelOpenMP_jll\u001b[39m\n",
            "\u001b[32m  ✓ \u001b[39m\u001b[90mRecipesBase\u001b[39m\n",
            "\u001b[32m  ✓ \u001b[39m\u001b[90mFFTW_jll\u001b[39m\n",
            "\u001b[32m  ✓ \u001b[39m\u001b[90mOpenSpecFun_jll\u001b[39m\n",
            "\u001b[32m  ✓ \u001b[39m\u001b[90mHistogramThresholding\u001b[39m\n",
            "\u001b[32m  ✓ \u001b[39m\u001b[90mNaNMath\u001b[39m\n",
            "\u001b[32m  ✓ \u001b[39m\u001b[90mParameters\u001b[39m\n",
            "\u001b[32m  ✓ \u001b[39m\u001b[90mAxisAlgorithms\u001b[39m\n",
            "\u001b[32m  ✓ \u001b[39m\u001b[90mChangesOfVariables\u001b[39m\n",
            "\u001b[32m  ✓ \u001b[39m\u001b[90mThreadingUtilities\u001b[39m\n",
            "\u001b[32m  ✓ \u001b[39m\u001b[90mQuaternions\u001b[39m\n",
            "\u001b[32m  ✓ \u001b[39m\u001b[90mMakieCore\u001b[39m\n",
            "\u001b[32m  ✓ \u001b[39m\u001b[90mCatIndices\u001b[39m\n",
            "\u001b[32m  ✓ \u001b[39m\u001b[90mStatic\u001b[39m\n",
            "\u001b[32m  ✓ \u001b[39m\u001b[90mColorSchemes\u001b[39m\n",
            "\u001b[32m  ✓ \u001b[39m\u001b[90mDiffResults\u001b[39m\n",
            "\u001b[32m  ✓ \u001b[39m\u001b[90mArrayInterfaceCore\u001b[39m\n",
            "\u001b[32m  ✓ \u001b[39m\u001b[90mMKL_jll\u001b[39m\n",
            "\u001b[32m  ✓ \u001b[39m\u001b[90mGraphics\u001b[39m\n",
            "\u001b[32m  ✓ \u001b[39m\u001b[90mLogExpFunctions\u001b[39m\n",
            "\u001b[32m  ✓ \u001b[39m\u001b[90mJLD2\u001b[39m\n",
            "\u001b[32m  ✓ \u001b[39m\u001b[90mBitTwiddlingConvenienceFunctions\u001b[39m\n",
            "\u001b[32m  ✓ \u001b[39m\u001b[90mStaticArrays\u001b[39m\n",
            "\u001b[32m  ✓ \u001b[39m\u001b[90mStaticArrayInterface\u001b[39m\n",
            "\u001b[32m  ✓ \u001b[39m\u001b[90mCPUSummary\u001b[39m\n",
            "\u001b[32m  ✓ \u001b[39m\u001b[90mImageShow\u001b[39m\n",
            "\u001b[32m  ✓ \u001b[39m\u001b[90mFFTW\u001b[39m\n",
            "\u001b[32m  ✓ \u001b[39m\u001b[90mStatsBase\u001b[39m\n",
            "\u001b[32m  ✓ \u001b[39m\u001b[90mHostCPUFeatures\u001b[39m\n",
            "\u001b[32m  ✓ \u001b[39m\u001b[90mRotations\u001b[39m\n",
            "\u001b[32m  ✓ \u001b[39m\u001b[90mSpecialFunctions\u001b[39m\n",
            "\u001b[32m  ✓ \u001b[39m\u001b[90mArnoldiMethod\u001b[39m\n",
            "\u001b[32m  ✓ \u001b[39m\u001b[90mCoordinateTransformations\u001b[39m\n",
            "\u001b[32m  ✓ \u001b[39m\u001b[90mRegionTrees\u001b[39m\n",
            "\u001b[32m  ✓ \u001b[39m\u001b[90mNearestNeighbors\u001b[39m\n",
            "\u001b[32m  ✓ \u001b[39m\u001b[90mTiledIteration\u001b[39m\n",
            "\u001b[32m  ✓ \u001b[39m\u001b[90mCloseOpenIntervals\u001b[39m\n",
            "\u001b[32m  ✓ \u001b[39m\u001b[90mLayoutPointers\u001b[39m\n",
            "\u001b[32m  ✓ \u001b[39m\u001b[90mInterpolations\u001b[39m\n",
            "\u001b[32m  ✓ \u001b[39m\u001b[90mPolyesterWeave\u001b[39m\n",
            "\u001b[32m  ✓ \u001b[39m\u001b[90mDiffRules\u001b[39m\n",
            "\u001b[32m  ✓ \u001b[39m\u001b[90mFFTViews\u001b[39m\n",
            "\u001b[32m  ✓ \u001b[39m\u001b[90mPolynomials\u001b[39m\n",
            "\u001b[32m  ✓ \u001b[39m\u001b[90mClustering\u001b[39m\n",
            "\u001b[32m  ✓ \u001b[39m\u001b[90mGraphs\u001b[39m\n",
            "\u001b[32m  ✓ \u001b[39m\u001b[90mImageTransformations\u001b[39m\n",
            "\u001b[32m  ✓ \u001b[39m\u001b[90mForwardDiff\u001b[39m\n",
            "\u001b[32m  ✓ \u001b[39m\u001b[90mImageBinarization\u001b[39m\n",
            "\u001b[32m  ✓ \u001b[39m\u001b[90mVectorizationBase\u001b[39m\n",
            "\u001b[32m  ✓ \u001b[39m\u001b[90mSimpleWeightedGraphs\u001b[39m\n",
            "\u001b[32m  ✓ \u001b[39m\u001b[90mMetaGraphs\u001b[39m\n",
            "\u001b[32m  ✓ \u001b[39m\u001b[90mSLEEFPirates\u001b[39m\n",
            "\u001b[32m  ✓ \u001b[39m\u001b[90mImageContrastAdjustment\u001b[39m\n",
            "\u001b[32m  ✓ \u001b[39m\u001b[90mLoopVectorization\u001b[39m\n",
            "\u001b[32m  ✓ \u001b[39m\u001b[90mImageMorphology\u001b[39m\n",
            "\u001b[32m  ✓ \u001b[39m\u001b[90mImageFiltering\u001b[39m\n",
            "\u001b[32m  ✓ \u001b[39m\u001b[90mImageDistances\u001b[39m\n",
            "\u001b[32m  ✓ \u001b[39m\u001b[90mImageQualityIndexes\u001b[39m\n",
            "\u001b[32m  ✓ \u001b[39m\u001b[90mImageSegmentation\u001b[39m\n",
            "\u001b[32m  ✓ \u001b[39m\u001b[90mImageCorners\u001b[39m\n",
            "\u001b[32m  ✓ \u001b[39mImages\n",
            "  81 dependencies successfully precompiled in 272 seconds. 110 already precompiled.\n",
            "\u001b[32m\u001b[1m   Resolving\u001b[22m\u001b[39m package versions...\n",
            "\u001b[32m\u001b[1m    Updating\u001b[22m\u001b[39m `~/.julia/environments/v1.8/Project.toml`\n",
            " \u001b[90m [5789e2e9] \u001b[39m\u001b[92m+ FileIO v1.16.1\u001b[39m\n",
            "\u001b[32m\u001b[1m  No Changes\u001b[22m\u001b[39m to `~/.julia/environments/v1.8/Manifest.toml`\n",
            "\u001b[32m\u001b[1m   Resolving\u001b[22m\u001b[39m package versions...\n",
            "\u001b[32m\u001b[1m    Updating\u001b[22m\u001b[39m `~/.julia/environments/v1.8/Project.toml`\n",
            " \u001b[90m [5ae59095] \u001b[39m\u001b[92m+ Colors v0.12.10\u001b[39m\n",
            "\u001b[32m\u001b[1m  No Changes\u001b[22m\u001b[39m to `~/.julia/environments/v1.8/Manifest.toml`\n"
          ]
        }
      ]
    },
    {
      "cell_type": "code",
      "source": [
        "using Revise\n",
        "using DataFrames\n",
        "using BenchmarkTools\n",
        "using KEGGAPI\n",
        "using Images\n",
        "using TestImages\n",
        "using Colors"
      ],
      "metadata": {
        "id": "bYixR5WhD0cw"
      },
      "execution_count": 10,
      "outputs": []
    },
    {
      "cell_type": "markdown",
      "source": [
        "# Case 3: Identify compound in Kegg Database\n",
        "\n"
      ],
      "metadata": {
        "id": "6NJZS9B7D9H9"
      }
    },
    {
      "cell_type": "markdown",
      "source": [
        "### 1. Get compound information in Kegg Database\n",
        "\n",
        "To determine if a compound is included in KEGG database and obtain its information, the function find takes as input the string \"compound\" and the name of the compound"
      ],
      "metadata": {
        "id": "hsBidRhEGBua"
      }
    },
    {
      "cell_type": "code",
      "source": [
        "@time kegg_compound = KEGGAPI.find(\"compound\", \"chitin\")\n",
        "DataFrame(\n",
        "  kegg_compound.data,\n",
        "  kegg_compound.colnames\n",
        ")"
      ],
      "metadata": {
        "colab": {
          "base_uri": "https://localhost:8080/",
          "height": 137
        },
        "id": "uqpyI-hmGLYX",
        "outputId": "b2e2616e-3ddc-4095-c443-eea12efcb90a"
      },
      "execution_count": 4,
      "outputs": [
        {
          "output_type": "stream",
          "name": "stdout",
          "text": [
            " 16.108868 seconds (16.57 M allocations: 850.406 MiB, 2.87% gc time, 93.99% compilation time: 5% of which was recompilation)\n"
          ]
        },
        {
          "output_type": "execute_result",
          "data": {
            "text/plain": [
              "\u001b[1m1×2 DataFrame\u001b[0m\n",
              "\u001b[1m Row \u001b[0m│\u001b[1m ID         \u001b[0m\u001b[1m Compound Name                     \u001b[0m\n",
              "     │\u001b[90m String     \u001b[0m\u001b[90m String                            \u001b[0m\n",
              "─────┼───────────────────────────────────────────────\n",
              "   1 │ cpd:C00461  Chitin; beta-1,4-Poly-N-acetyl-D…"
            ],
            "text/html": [
              "<div><div style = \"float: left;\"><span>1×2 DataFrame</span></div><div style = \"clear: both;\"></div></div><div class = \"data-frame\" style = \"overflow-x: scroll;\"><table class = \"data-frame\" style = \"margin-bottom: 6px;\"><thead><tr class = \"header\"><th class = \"rowNumber\" style = \"font-weight: bold; text-align: right;\">Row</th><th style = \"text-align: left;\">ID</th><th style = \"text-align: left;\">Compound Name</th></tr><tr class = \"subheader headerLastRow\"><th class = \"rowNumber\" style = \"font-weight: bold; text-align: right;\"></th><th title = \"String\" style = \"text-align: left;\">String</th><th title = \"String\" style = \"text-align: left;\">String</th></tr></thead><tbody><tr><td class = \"rowNumber\" style = \"font-weight: bold; text-align: right;\">1</td><td style = \"text-align: left;\">cpd:C00461</td><td style = \"text-align: left;\">Chitin; beta-1,4-Poly-N-acetyl-D-glucosamine; [1,4-(N-Acetyl-beta-D-glucosaminyl)]n; [1,4-(N-Acetyl-beta-D-glucosaminyl)]n+1</td></tr></tbody></table></div>"
            ],
            "text/latex": "\\begin{tabular}{r|cc}\n\t& ID & Compound Name\\\\\n\t\\hline\n\t& String & String\\\\\n\t\\hline\n\t1 & cpd:C00461 & Chitin; beta-1,4-Poly-N-acetyl-D-glucosamine; [1,4-(N-Acetyl-beta-D-glucosaminyl)]n; [1,4-(N-Acetyl-beta-D-glucosaminyl)]n+1 \\\\\n\\end{tabular}\n"
          },
          "metadata": {},
          "execution_count": 4
        }
      ]
    },
    {
      "cell_type": "markdown",
      "source": [
        "#### 1.1 Get compund information"
      ],
      "metadata": {
        "id": "p8eMlfOKJXfU"
      }
    },
    {
      "cell_type": "code",
      "source": [
        "kegg_compund_info = KEGGAPI.kegg_get([\"cpd:C00461\"])\n"
      ],
      "metadata": {
        "colab": {
          "base_uri": "https://localhost:8080/"
        },
        "id": "hwuH4jWiI59z",
        "outputId": "7334e801-470e-40d3-d2b0-2af2baaf099f"
      },
      "execution_count": 30,
      "outputs": [
        {
          "output_type": "execute_result",
          "data": {
            "text/plain": [
              "2-element Vector{Vector{String}}:\n",
              " [\"https://rest.kegg.jp/get/cpd:C00461/\"]\n",
              " [\"ENTRY       C00461                      Compound\\nNAME        Chitin;\\n            beta-1,4-Poly-N-acetyl-D-glucosamine;\\n            [1,4-(N-Acetyl-beta-D-glucosaminyl)]n;\\n            [1,4-(N-Acetyl-beta-D-glucosaminyl)]n+1\\nFORMULA     (C8H13NO5)n\\nREMARK      Same as: G10483\\nREACTION    R01206 R02333 R02334 R02335 R11660\\nPATHWAY     map00520  Amino sugar and nucleotide sugar metabolism\\n            map01100  Metabolic pathways\\nENZYME      1.14.99.53      2.4.1.16        3.2.1.14        3.5.1.41\\nDBLINKS     CAS: 1398-61-4\\n            PubChem: 3745\\n            ChEBI: 17029\\n            NIKKAJI: J209.135F\\nATOM        16\\n            1   C1y C    17.7100  -15.8200\\n            2   C1y C    17.7100  -17.2200\\n            3   C1y C    18.9224  -17.9200\\n            4   C1y C    20.1349  -17.2200\\n            5   C1x C    20.1349  -15.8200\\n            6   O2x O    18.9224  -15.1200\\n            7   C1b C    16.4976  -15.1200\\n            8   O1a O    15.3021  -15.8104\\n            9   O1a O    16.4976  -17.9200\\n            10  N1b N    21.3660  -17.9310\\n            11  O1a O    18.9224  -19.3198\\n            12  Z   *    23.4660  -13.7090\\n            13  Z   *    13.5576  -17.9200\\n            14  C5a C    22.5712  -17.2353\\n            15  C1a C    23.7535  -17.9181\\n            16  O5a O    22.5717  -15.8204\\nBOND        16\\n            1     1   2 1\\n            2     2   3 1\\n            3     3   4 1\\n            4     4   5 1\\n            5     5   6 1\\n            6     1   6 1\\n            7     1   7 1 #Up\\n            8     7   8 1\\n            9     2   9 1 #Down\\n            10    4  10 1 #Down\\n            11    3  11 1 #Up\\n            12    5  12 1 #Up\\n            13    9  13 1\\n            14   10  14 1\\n            15   14  15 1\\n            16   14  16 2\\nBRACKET     1    15.4700  -19.0400   15.4700  -17.1500\\n            1    22.2600  -13.0900   22.2600  -15.0500\\n            1  n\\n  ORIGINAL  1    1   2   3   4   5   6   7   8   9  10  11  14  15  16\\n  REPEAT    1 \"]"
            ]
          },
          "metadata": {},
          "execution_count": 30
        }
      ]
    },
    {
      "cell_type": "markdown",
      "source": [
        "### 2. Get image of the compund of interest\n",
        "\n",
        "The get_image function is to download a any image, the imput is the compound number as \"cpd:CXXXXX\"\n",
        "\n",
        "The save_image function is to save the figure in a png file. The input is a string with the name of the file and the extension \".png\""
      ],
      "metadata": {
        "id": "8EhaCFJzojif"
      }
    },
    {
      "cell_type": "code",
      "source": [
        "@time kegg_image = KEGGAPI.get_image(\"cpd:C00461\")\n",
        "@time KEGGAPI.save_image(kegg_image, \"chitin.png\")"
      ],
      "metadata": {
        "colab": {
          "base_uri": "https://localhost:8080/"
        },
        "id": "eg44UlyITj4O",
        "outputId": "ba9fa1c1-0467-4f32-d691-c42e347aaf88"
      },
      "execution_count": null,
      "outputs": [
        {
          "output_type": "stream",
          "name": "stdout",
          "text": [
            "  0.189900 seconds (205 allocations: 17.109 KiB)\n",
            "  0.000203 seconds (13 allocations: 744 bytes)\n"
          ]
        },
        {
          "output_type": "execute_result",
          "data": {
            "text/plain": [
              "\"chitin.png\""
            ]
          },
          "metadata": {},
          "execution_count": 8
        }
      ]
    },
    {
      "cell_type": "markdown",
      "source": [
        "### 3. Visualize download compound"
      ],
      "metadata": {
        "id": "o2u0wbKYp__O"
      }
    },
    {
      "cell_type": "code",
      "source": [
        "img = load(\"chitin.png\")"
      ],
      "metadata": {
        "colab": {
          "base_uri": "https://localhost:8080/",
          "height": 154
        },
        "id": "ol4vHRnnUEhd",
        "outputId": "f1e6413d-1d06-481b-d49d-1917afa83cb3"
      },
      "execution_count": null,
      "outputs": [
        {
          "output_type": "execute_result",
          "data": {
            "text/plain": [
              "133×189 Array{RGB{N0f8},2} with eltype RGB{N0f8}:\n",
              " RGB{N0f8}(1.0,1.0,1.0)  RGB{N0f8}(1.0,1.0,1.0)  …  RGB{N0f8}(1.0,1.0,1.0)\n",
              " RGB{N0f8}(1.0,1.0,1.0)  RGB{N0f8}(1.0,1.0,1.0)     RGB{N0f8}(1.0,1.0,1.0)\n",
              " RGB{N0f8}(1.0,1.0,1.0)  RGB{N0f8}(1.0,1.0,1.0)     RGB{N0f8}(1.0,1.0,1.0)\n",
              " RGB{N0f8}(1.0,1.0,1.0)  RGB{N0f8}(1.0,1.0,1.0)     RGB{N0f8}(1.0,1.0,1.0)\n",
              " RGB{N0f8}(1.0,1.0,1.0)  RGB{N0f8}(1.0,1.0,1.0)     RGB{N0f8}(1.0,1.0,1.0)\n",
              " RGB{N0f8}(1.0,1.0,1.0)  RGB{N0f8}(1.0,1.0,1.0)  …  RGB{N0f8}(1.0,1.0,1.0)\n",
              " RGB{N0f8}(1.0,1.0,1.0)  RGB{N0f8}(1.0,1.0,1.0)     RGB{N0f8}(1.0,1.0,1.0)\n",
              " RGB{N0f8}(1.0,1.0,1.0)  RGB{N0f8}(1.0,1.0,1.0)     RGB{N0f8}(1.0,1.0,1.0)\n",
              " RGB{N0f8}(1.0,1.0,1.0)  RGB{N0f8}(1.0,1.0,1.0)     RGB{N0f8}(1.0,1.0,1.0)\n",
              " RGB{N0f8}(1.0,1.0,1.0)  RGB{N0f8}(1.0,1.0,1.0)     RGB{N0f8}(1.0,1.0,1.0)\n",
              " RGB{N0f8}(1.0,1.0,1.0)  RGB{N0f8}(1.0,1.0,1.0)  …  RGB{N0f8}(1.0,1.0,1.0)\n",
              " RGB{N0f8}(1.0,1.0,1.0)  RGB{N0f8}(1.0,1.0,1.0)     RGB{N0f8}(1.0,1.0,1.0)\n",
              " RGB{N0f8}(1.0,1.0,1.0)  RGB{N0f8}(1.0,1.0,1.0)     RGB{N0f8}(1.0,1.0,1.0)\n",
              " ⋮                                               ⋱  \n",
              " RGB{N0f8}(1.0,1.0,1.0)  RGB{N0f8}(1.0,1.0,1.0)     RGB{N0f8}(1.0,1.0,1.0)\n",
              " RGB{N0f8}(1.0,1.0,1.0)  RGB{N0f8}(1.0,1.0,1.0)     RGB{N0f8}(1.0,1.0,1.0)\n",
              " RGB{N0f8}(1.0,1.0,1.0)  RGB{N0f8}(1.0,1.0,1.0)     RGB{N0f8}(1.0,1.0,1.0)\n",
              " RGB{N0f8}(1.0,1.0,1.0)  RGB{N0f8}(1.0,1.0,1.0)     RGB{N0f8}(1.0,1.0,1.0)\n",
              " RGB{N0f8}(1.0,1.0,1.0)  RGB{N0f8}(1.0,1.0,1.0)  …  RGB{N0f8}(1.0,1.0,1.0)\n",
              " RGB{N0f8}(1.0,1.0,1.0)  RGB{N0f8}(1.0,1.0,1.0)     RGB{N0f8}(1.0,1.0,1.0)\n",
              " RGB{N0f8}(1.0,1.0,1.0)  RGB{N0f8}(1.0,1.0,1.0)     RGB{N0f8}(1.0,1.0,1.0)\n",
              " RGB{N0f8}(1.0,1.0,1.0)  RGB{N0f8}(1.0,1.0,1.0)     RGB{N0f8}(1.0,1.0,1.0)\n",
              " RGB{N0f8}(1.0,1.0,1.0)  RGB{N0f8}(1.0,1.0,1.0)     RGB{N0f8}(1.0,1.0,1.0)\n",
              " RGB{N0f8}(1.0,1.0,1.0)  RGB{N0f8}(1.0,1.0,1.0)  …  RGB{N0f8}(1.0,1.0,1.0)\n",
              " RGB{N0f8}(1.0,1.0,1.0)  RGB{N0f8}(1.0,1.0,1.0)     RGB{N0f8}(1.0,1.0,1.0)\n",
              " RGB{N0f8}(1.0,1.0,1.0)  RGB{N0f8}(1.0,1.0,1.0)     RGB{N0f8}(1.0,1.0,1.0)"
            ],
            "image/png": "[encoded data removed]",
            "text/html": [
              "<img src=\"data:image/png;base64,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\">"
            ]
          },
          "metadata": {},
          "execution_count": 9
        }
      ]
    },
    {
      "cell_type": "markdown",
      "source": [
        "### 4. Identify thre reactions linked to the compound of interest\n",
        "\n",
        "The ouput is one line for every time the compound is found"
      ],
      "metadata": {
        "id": "y-H4pR_QqH9E"
      }
    },
    {
      "cell_type": "code",
      "source": [
        "@time kegg_reaction = KEGGAPI.link(\"reaction\", \"cpd:C00461\")\n",
        "DataFrame(\n",
        "  kegg_reaction.data,\n",
        "  kegg_reaction.colnames\n",
        ")"
      ],
      "metadata": {
        "colab": {
          "base_uri": "https://localhost:8080/",
          "height": 305
        },
        "id": "ptUhgFL3TM2u",
        "outputId": "a5f880c3-c0d6-4671-bbff-6f2877bb7019"
      },
      "execution_count": 7,
      "outputs": [
        {
          "output_type": "stream",
          "name": "stdout",
          "text": [
            "  1.484113 seconds (829 allocations: 109.625 KiB, 1.04% compilation time)\n"
          ]
        },
        {
          "output_type": "execute_result",
          "data": {
            "text/plain": [
              "\u001b[1m9×2 DataFrame\u001b[0m\n",
              "\u001b[1m Row \u001b[0m│\u001b[1m Target ID  \u001b[0m\u001b[1m Source ID \u001b[0m\n",
              "     │\u001b[90m String     \u001b[0m\u001b[90m String    \u001b[0m\n",
              "─────┼───────────────────────\n",
              "   1 │ cpd:C00461  rn:R01206\n",
              "   2 │ cpd:C00461  rn:R01206\n",
              "   3 │ cpd:C00461  rn:R02333\n",
              "   4 │ cpd:C00461  rn:R02334\n",
              "   5 │ cpd:C00461  rn:R02334\n",
              "   6 │ cpd:C00461  rn:R02335\n",
              "   7 │ cpd:C00461  rn:R02335\n",
              "   8 │ cpd:C00461  rn:R11660\n",
              "   9 │ cpd:C00461  rn:R11660"
            ],
            "text/html": [
              "<div><div style = \"float: left;\"><span>9×2 DataFrame</span></div><div style = \"clear: both;\"></div></div><div class = \"data-frame\" style = \"overflow-x: scroll;\"><table class = \"data-frame\" style = \"margin-bottom: 6px;\"><thead><tr class = \"header\"><th class = \"rowNumber\" style = \"font-weight: bold; text-align: right;\">Row</th><th style = \"text-align: left;\">Target ID</th><th style = \"text-align: left;\">Source ID</th></tr><tr class = \"subheader headerLastRow\"><th class = \"rowNumber\" style = \"font-weight: bold; text-align: right;\"></th><th title = \"String\" style = \"text-align: left;\">String</th><th title = \"String\" style = \"text-align: left;\">String</th></tr></thead><tbody><tr><td class = \"rowNumber\" style = \"font-weight: bold; text-align: right;\">1</td><td style = \"text-align: left;\">cpd:C00461</td><td style = \"text-align: left;\">rn:R01206</td></tr><tr><td class = \"rowNumber\" style = \"font-weight: bold; text-align: right;\">2</td><td style = \"text-align: left;\">cpd:C00461</td><td style = \"text-align: left;\">rn:R01206</td></tr><tr><td class = \"rowNumber\" style = \"font-weight: bold; text-align: right;\">3</td><td style = \"text-align: left;\">cpd:C00461</td><td style = \"text-align: left;\">rn:R02333</td></tr><tr><td class = \"rowNumber\" style = \"font-weight: bold; text-align: right;\">4</td><td style = \"text-align: left;\">cpd:C00461</td><td style = \"text-align: left;\">rn:R02334</td></tr><tr><td class = \"rowNumber\" style = \"font-weight: bold; text-align: right;\">5</td><td style = \"text-align: left;\">cpd:C00461</td><td style = \"text-align: left;\">rn:R02334</td></tr><tr><td class = \"rowNumber\" style = \"font-weight: bold; text-align: right;\">6</td><td style = \"text-align: left;\">cpd:C00461</td><td style = \"text-align: left;\">rn:R02335</td></tr><tr><td class = \"rowNumber\" style = \"font-weight: bold; text-align: right;\">7</td><td style = \"text-align: left;\">cpd:C00461</td><td style = \"text-align: left;\">rn:R02335</td></tr><tr><td class = \"rowNumber\" style = \"font-weight: bold; text-align: right;\">8</td><td style = \"text-align: left;\">cpd:C00461</td><td style = \"text-align: left;\">rn:R11660</td></tr><tr><td class = \"rowNumber\" style = \"font-weight: bold; text-align: right;\">9</td><td style = \"text-align: left;\">cpd:C00461</td><td style = \"text-align: left;\">rn:R11660</td></tr></tbody></table></div>"
            ],
            "text/latex": "\\begin{tabular}{r|cc}\n\t& Target ID & Source ID\\\\\n\t\\hline\n\t& String & String\\\\\n\t\\hline\n\t1 & cpd:C00461 & rn:R01206 \\\\\n\t2 & cpd:C00461 & rn:R01206 \\\\\n\t3 & cpd:C00461 & rn:R02333 \\\\\n\t4 & cpd:C00461 & rn:R02334 \\\\\n\t5 & cpd:C00461 & rn:R02334 \\\\\n\t6 & cpd:C00461 & rn:R02335 \\\\\n\t7 & cpd:C00461 & rn:R02335 \\\\\n\t8 & cpd:C00461 & rn:R11660 \\\\\n\t9 & cpd:C00461 & rn:R11660 \\\\\n\\end{tabular}\n"
          },
          "metadata": {},
          "execution_count": 7
        }
      ]
    },
    {
      "cell_type": "markdown",
      "source": [
        "#### 5. Get information about the reactions which chitin is involved"
      ],
      "metadata": {
        "id": "U-GIK5iK8MT2"
      }
    },
    {
      "cell_type": "code",
      "source": [
        "@time kegg_reaction_info = KEGGAPI.kegg_get(kegg_reaction.data[2])\n",
        "kegg_reaction_info[2]"
      ],
      "metadata": {
        "colab": {
          "base_uri": "https://localhost:8080/"
        },
        "id": "MaPadwsc8W3a",
        "outputId": "47b32861-a161-435a-f0e4-c7c03c402fa0"
      },
      "execution_count": 9,
      "outputs": [
        {
          "output_type": "stream",
          "name": "stdout",
          "text": [
            "  0.259760 seconds (269 allocations: 35.617 KiB)\n"
          ]
        },
        {
          "output_type": "execute_result",
          "data": {
            "text/plain": [
              "9-element Vector{String}:\n",
              " \"ENTRY       R01206             \" ⋯ 527 bytes ⋯ \" endochitinase B [EC:3.2.1.14]\"\n",
              " \"ENTRY       R01206             \" ⋯ 527 bytes ⋯ \" endochitinase B [EC:3.2.1.14]\"\n",
              " \"ENTRY       R02333             \" ⋯ 467 bytes ⋯ \".1.41]\\nDBLINKS     RHEA: 10467\"\n",
              " \"ENTRY       R02334             \" ⋯ 480 bytes ⋯ \" endochitinase B [EC:3.2.1.14]\"\n",
              " \"ENTRY       R02334             \" ⋯ 480 bytes ⋯ \" endochitinase B [EC:3.2.1.14]\"\n",
              " \"ENTRY       R02335             \" ⋯ 455 bytes ⋯ \".1.16]\\nDBLINKS     RHEA: 16640\"\n",
              " \"ENTRY       R02335             \" ⋯ 455 bytes ⋯ \".1.16]\\nDBLINKS     RHEA: 16640\"\n",
              " \"ENTRY       R11660             \" ⋯ 394 bytes ⋯ \" C00001\\nENZYME      1.14.99.53\"\n",
              " \"ENTRY       R11660             \" ⋯ 394 bytes ⋯ \" C00001\\nENZYME      1.14.99.53\""
            ]
          },
          "metadata": {},
          "execution_count": 9
        }
      ]
    },
    {
      "cell_type": "markdown",
      "source": [
        "### 6. Get image of the reaction of interest\n",
        "\n",
        "The get_image function is to download a any image, the imput is the reactio number as \"rn:RXXXXX\"\n",
        "\n",
        "The save_image function is to save the figure in a png file. The input is a string with the name of the file and the extension \".png\""
      ],
      "metadata": {
        "id": "Eck3XYYmqhAJ"
      }
    },
    {
      "cell_type": "code",
      "source": [
        "@time kegg_image = KEGGAPI.get_image(\"rn:R01206\")\n",
        "@time KEGGAPI.save_image(kegg_image, \"r01206.png\")"
      ],
      "metadata": {
        "colab": {
          "base_uri": "https://localhost:8080/"
        },
        "id": "kgfyp2LBIdXD",
        "outputId": "429a7da2-7285-49b2-fd15-573311eb562d"
      },
      "execution_count": null,
      "outputs": [
        {
          "output_type": "stream",
          "name": "stdout",
          "text": [
            "  0.205849 seconds (200 allocations: 25.391 KiB)\n",
            "  0.000274 seconds (13 allocations: 744 bytes)\n"
          ]
        },
        {
          "output_type": "execute_result",
          "data": {
            "text/plain": [
              "\"r01206.png\""
            ]
          },
          "metadata": {},
          "execution_count": 10
        }
      ]
    },
    {
      "cell_type": "markdown",
      "source": [
        "### 7. Visualize download reaction"
      ],
      "metadata": {
        "id": "9DqIAepSqvhC"
      }
    },
    {
      "cell_type": "code",
      "source": [
        "img = load(\"r01206.png\")"
      ],
      "metadata": {
        "colab": {
          "base_uri": "https://localhost:8080/",
          "height": 218
        },
        "id": "wOHYetQBIUJu",
        "outputId": "d1963e28-f33a-466e-ebc2-b696ecdeb267"
      },
      "execution_count": null,
      "outputs": [
        {
          "output_type": "execute_result",
          "data": {
            "text/plain": [
              "197×689 Array{RGB{N0f8},2} with eltype RGB{N0f8}:\n",
              " RGB{N0f8}(1.0,1.0,1.0)  RGB{N0f8}(1.0,1.0,1.0)  …  RGB{N0f8}(1.0,1.0,1.0)\n",
              " RGB{N0f8}(1.0,1.0,1.0)  RGB{N0f8}(1.0,1.0,1.0)     RGB{N0f8}(1.0,1.0,1.0)\n",
              " RGB{N0f8}(1.0,1.0,1.0)  RGB{N0f8}(1.0,1.0,1.0)     RGB{N0f8}(1.0,1.0,1.0)\n",
              " RGB{N0f8}(1.0,1.0,1.0)  RGB{N0f8}(1.0,1.0,1.0)     RGB{N0f8}(1.0,1.0,1.0)\n",
              " RGB{N0f8}(1.0,1.0,1.0)  RGB{N0f8}(1.0,1.0,1.0)     RGB{N0f8}(1.0,1.0,1.0)\n",
              " RGB{N0f8}(1.0,1.0,1.0)  RGB{N0f8}(1.0,1.0,1.0)  …  RGB{N0f8}(1.0,1.0,1.0)\n",
              " RGB{N0f8}(1.0,1.0,1.0)  RGB{N0f8}(1.0,1.0,1.0)     RGB{N0f8}(1.0,1.0,1.0)\n",
              " RGB{N0f8}(1.0,1.0,1.0)  RGB{N0f8}(1.0,1.0,1.0)     RGB{N0f8}(1.0,1.0,1.0)\n",
              " RGB{N0f8}(1.0,1.0,1.0)  RGB{N0f8}(1.0,1.0,1.0)     RGB{N0f8}(1.0,1.0,1.0)\n",
              " RGB{N0f8}(1.0,1.0,1.0)  RGB{N0f8}(1.0,1.0,1.0)     RGB{N0f8}(1.0,1.0,1.0)\n",
              " RGB{N0f8}(1.0,1.0,1.0)  RGB{N0f8}(1.0,1.0,1.0)  …  RGB{N0f8}(1.0,1.0,1.0)\n",
              " RGB{N0f8}(1.0,1.0,1.0)  RGB{N0f8}(1.0,1.0,1.0)     RGB{N0f8}(1.0,1.0,1.0)\n",
              " RGB{N0f8}(1.0,1.0,1.0)  RGB{N0f8}(1.0,1.0,1.0)     RGB{N0f8}(1.0,1.0,1.0)\n",
              " ⋮                                               ⋱  \n",
              " RGB{N0f8}(1.0,1.0,1.0)  RGB{N0f8}(1.0,1.0,1.0)  …  RGB{N0f8}(1.0,1.0,1.0)\n",
              " RGB{N0f8}(1.0,1.0,1.0)  RGB{N0f8}(1.0,1.0,1.0)     RGB{N0f8}(1.0,1.0,1.0)\n",
              " RGB{N0f8}(1.0,1.0,1.0)  RGB{N0f8}(1.0,1.0,1.0)     RGB{N0f8}(1.0,1.0,1.0)\n",
              " RGB{N0f8}(1.0,1.0,1.0)  RGB{N0f8}(1.0,1.0,1.0)     RGB{N0f8}(1.0,1.0,1.0)\n",
              " RGB{N0f8}(1.0,1.0,1.0)  RGB{N0f8}(1.0,1.0,1.0)     RGB{N0f8}(1.0,1.0,1.0)\n",
              " RGB{N0f8}(1.0,1.0,1.0)  RGB{N0f8}(1.0,1.0,1.0)  …  RGB{N0f8}(1.0,1.0,1.0)\n",
              " RGB{N0f8}(1.0,1.0,1.0)  RGB{N0f8}(1.0,1.0,1.0)     RGB{N0f8}(1.0,1.0,1.0)\n",
              " RGB{N0f8}(1.0,1.0,1.0)  RGB{N0f8}(1.0,1.0,1.0)     RGB{N0f8}(1.0,1.0,1.0)\n",
              " RGB{N0f8}(1.0,1.0,1.0)  RGB{N0f8}(1.0,1.0,1.0)     RGB{N0f8}(1.0,1.0,1.0)\n",
              " RGB{N0f8}(1.0,1.0,1.0)  RGB{N0f8}(1.0,1.0,1.0)     RGB{N0f8}(1.0,1.0,1.0)\n",
              " RGB{N0f8}(1.0,1.0,1.0)  RGB{N0f8}(1.0,1.0,1.0)  …  RGB{N0f8}(1.0,1.0,1.0)\n",
              " RGB{N0f8}(1.0,1.0,1.0)  RGB{N0f8}(1.0,1.0,1.0)     RGB{N0f8}(1.0,1.0,1.0)"
            ],
            "image/png": "[encoded data removed]",
            "text/html": [
              "<img src=\"data:image/png;base64,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\">"
            ]
          },
          "metadata": {},
          "execution_count": 12
        }
      ]
    }
  ]
}