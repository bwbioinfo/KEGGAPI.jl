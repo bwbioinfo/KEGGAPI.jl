{
  "cells": [
    {
      "cell_type": "markdown",
      "metadata": {
        "id": "dn69glsQDgDA"
      },
      "source": [
        "# <img src=\"https://github.com/JuliaLang/julia-logo-graphics/raw/master/images/julia-logo-color.png\" height=\"100\" /> _Colab Notebook Template_\n",
        "\n",
        "## Instructions\n",
        "1. Work on a copy of this notebook: _File_ > _Save a copy in Drive_ (you will need a Google account). Alternatively, you can download the notebook using _File_ > _Download .ipynb_, then upload it to [Colab](https://colab.research.google.com/).\n",
        "2. If you need a GPU: _Runtime_ > _Change runtime type_ > _Hardware accelerator_ = _GPU_.\n",
        "3. Execute the following cell (click on it and press Ctrl+Enter) to install Julia, IJulia and other packages (if needed, update `JULIA_VERSION` and the other parameters). This takes a couple of minutes.\n",
        "4. Reload this page (press Ctrl+R, or ⌘+R, or the F5 key) and continue to the next section.\n",
        "\n",
        "_Notes_:\n",
        "* If your Colab Runtime gets reset (e.g., due to inactivity), repeat steps 2, 3 and 4.\n",
        "* After installation, if you want to change the Julia version or activate/deactivate the GPU, you will need to reset the Runtime: _Runtime_ > _Factory reset runtime_ and repeat steps 3 and 4."
      ]
    },
    {
      "cell_type": "code",
      "execution_count": null,
      "metadata": {
        "id": "k-JYaoEJDZqG"
      },
      "outputs": [],
      "source": [
        "%%shell\n",
        "set -e\n",
        "\n",
        "#---------------------------------------------------#\n",
        "JULIA_VERSION=\"1.8.2\" # any version ≥ 0.7.0\n",
        "JULIA_PACKAGES=\"IJulia BenchmarkTools\"\n",
        "JULIA_PACKAGES_IF_GPU=\"CUDA\" # or CuArrays for older Julia versions\n",
        "JULIA_NUM_THREADS=2\n",
        "#---------------------------------------------------#\n",
        "\n",
        "if [ -z `which julia` ]; then\n",
        "  # Install Julia\n",
        "  JULIA_VER=`cut -d '.' -f -2 <<< \"$JULIA_VERSION\"`\n",
        "  echo \"Installing Julia $JULIA_VERSION on the current Colab Runtime...\"\n",
        "  BASE_URL=\"https://julialang-s3.julialang.org/bin/linux/x64\"\n",
        "  URL=\"$BASE_URL/$JULIA_VER/julia-$JULIA_VERSION-linux-x86_64.tar.gz\"\n",
        "  wget -nv $URL -O /tmp/julia.tar.gz # -nv means \"not verbose\"\n",
        "  tar -x -f /tmp/julia.tar.gz -C /usr/local --strip-components 1\n",
        "  rm /tmp/julia.tar.gz\n",
        "\n",
        "  # Install Packages\n",
        "  nvidia-smi -L &> /dev/null && export GPU=1 || export GPU=0\n",
        "  if [ $GPU -eq 1 ]; then\n",
        "    JULIA_PACKAGES=\"$JULIA_PACKAGES $JULIA_PACKAGES_IF_GPU\"\n",
        "  fi\n",
        "  for PKG in `echo $JULIA_PACKAGES`; do\n",
        "    echo \"Installing Julia package $PKG...\"\n",
        "    julia -e 'using Pkg; pkg\"add '$PKG'; precompile;\"' &> /dev/null\n",
        "  done\n",
        "\n",
        "  # Install kernel and rename it to \"julia\"\n",
        "  echo \"Installing IJulia kernel...\"\n",
        "  julia -e 'using IJulia; IJulia.installkernel(\"julia\", env=Dict(\n",
        "      \"JULIA_NUM_THREADS\"=>\"'\"$JULIA_NUM_THREADS\"'\"))'\n",
        "  KERNEL_DIR=`julia -e \"using IJulia; print(IJulia.kerneldir())\"`\n",
        "  KERNEL_NAME=`ls -d \"$KERNEL_DIR\"/julia*`\n",
        "  mv -f $KERNEL_NAME \"$KERNEL_DIR\"/julia\n",
        "\n",
        "  echo ''\n",
        "  echo \"Successfully installed `julia -v`!\"\n",
        "  echo \"Please reload this page (press Ctrl+R, ⌘+R, or the F5 key) then\"\n",
        "  echo \"jump to the 'Checking the Installation' section.\"\n",
        "fi"
      ]
    },
    {
      "cell_type": "code",
      "execution_count": null,
      "metadata": {
        "id": "J5ER7bHPELHf"
      },
      "outputs": [],
      "source": [
        "versioninfo()"
      ]
    },
    {
      "cell_type": "code",
      "execution_count": null,
      "metadata": {
        "id": "_hJw2NRSDtZ3"
      },
      "outputs": [],
      "source": [
        "using Pkg"
      ]
    },
    {
      "cell_type": "code",
      "execution_count": null,
      "metadata": {
        "id": "0Btoe8xRDuHr"
      },
      "outputs": [],
      "source": [
        "Pkg.add(\"Revise\")\n",
        "Pkg.add(\"DataFrames\")\n",
        "Pkg.add(\"BenchmarkTools\")\n",
        "Pkg.add(url=\"https://github.com/bwbioinfo/KEGGAPI.jl\")"
      ]
    },
    {
      "cell_type": "code",
      "execution_count": null,
      "metadata": {
        "id": "bYixR5WhD0cw"
      },
      "outputs": [],
      "source": [
        "using Revise\n",
        "using DataFrames\n",
        "using BenchmarkTools\n",
        "using KEGGAPI"
      ]
    },
    {
      "cell_type": "markdown",
      "metadata": {
        "id": "6NJZS9B7D9H9"
      },
      "source": [
        "# Case 2: EC reaction information in Kegg Database\n",
        "\n"
      ]
    },
    {
      "cell_type": "markdown",
      "metadata": {
        "id": "hsBidRhEGBua"
      },
      "source": [
        "### 1. Identify reactions in KEGG database assiciated to a European Community number (EC.)\n",
        "\n",
        "To determine if a reaction is part of KEGG database and obtain its information the function link takes as input the element the user is looking for, in this case \"reaction\", and the EC number of a reaction as \"ec:X.XX.XX.XX\""
      ]
    },
    {
      "cell_type": "code",
      "execution_count": null,
      "metadata": {
        "id": "uqpyI-hmGLYX",
        "colab": {
          "base_uri": "https://localhost:8080/",
          "height": 200
        },
        "outputId": "1002e4d5-e869-46fe-f987-30848ffed4b0"
      },
      "outputs": [
        {
          "output_type": "stream",
          "name": "stdout",
          "text": [
            "  0.156340 seconds (231 allocations: 13.680 KiB)\n"
          ]
        },
        {
          "output_type": "execute_result",
          "data": {
            "text/plain": [
              "\u001b[1m4×2 DataFrame\u001b[0m\n",
              "\u001b[1m Row \u001b[0m│\u001b[1m Target ID   \u001b[0m\u001b[1m Source ID \u001b[0m\n",
              "     │\u001b[90m String      \u001b[0m\u001b[90m String    \u001b[0m\n",
              "─────┼────────────────────────\n",
              "   1 │ ec:3.2.1.14  rn:R01206\n",
              "   2 │ ec:3.2.1.14  rn:R02334\n",
              "   3 │ ec:3.2.1.14  rn:R06081\n",
              "   4 │ ec:3.2.1.14  rn:R06082"
            ],
            "text/html": [
              "<div><div style = \"float: left;\"><span>4×2 DataFrame</span></div><div style = \"clear: both;\"></div></div><div class = \"data-frame\" style = \"overflow-x: scroll;\"><table class = \"data-frame\" style = \"margin-bottom: 6px;\"><thead><tr class = \"header\"><th class = \"rowNumber\" style = \"font-weight: bold; text-align: right;\">Row</th><th style = \"text-align: left;\">Target ID</th><th style = \"text-align: left;\">Source ID</th></tr><tr class = \"subheader headerLastRow\"><th class = \"rowNumber\" style = \"font-weight: bold; text-align: right;\"></th><th title = \"String\" style = \"text-align: left;\">String</th><th title = \"String\" style = \"text-align: left;\">String</th></tr></thead><tbody><tr><td class = \"rowNumber\" style = \"font-weight: bold; text-align: right;\">1</td><td style = \"text-align: left;\">ec:3.2.1.14</td><td style = \"text-align: left;\">rn:R01206</td></tr><tr><td class = \"rowNumber\" style = \"font-weight: bold; text-align: right;\">2</td><td style = \"text-align: left;\">ec:3.2.1.14</td><td style = \"text-align: left;\">rn:R02334</td></tr><tr><td class = \"rowNumber\" style = \"font-weight: bold; text-align: right;\">3</td><td style = \"text-align: left;\">ec:3.2.1.14</td><td style = \"text-align: left;\">rn:R06081</td></tr><tr><td class = \"rowNumber\" style = \"font-weight: bold; text-align: right;\">4</td><td style = \"text-align: left;\">ec:3.2.1.14</td><td style = \"text-align: left;\">rn:R06082</td></tr></tbody></table></div>"
            ],
            "text/latex": "\\begin{tabular}{r|cc}\n\t& Target ID & Source ID\\\\\n\t\\hline\n\t& String & String\\\\\n\t\\hline\n\t1 & ec:3.2.1.14 & rn:R01206 \\\\\n\t2 & ec:3.2.1.14 & rn:R02334 \\\\\n\t3 & ec:3.2.1.14 & rn:R06081 \\\\\n\t4 & ec:3.2.1.14 & rn:R06082 \\\\\n\\end{tabular}\n"
          },
          "metadata": {},
          "execution_count": 11
        }
      ],
      "source": [
        "@time kegg_reaction = KEGGAPI.link(\"reaction\", \"ec:3.2.1.14\")\n",
        "DataFrame(\n",
        "  kegg_reaction.data,\n",
        "  kegg_reaction.colnames\n",
        ")"
      ]
    },
    {
      "cell_type": "markdown",
      "metadata": {
        "id": "6UUoZfpJwIr9"
      },
      "source": [
        "### 2. Get reaction information\n",
        "\n",
        "To obtain the reactions information, the \"kegg_get\" function requires an array of reaction KEGG identifier as \"rn:RXXXX\n",
        "\n"
      ]
    },
    {
      "cell_type": "code",
      "execution_count": null,
      "metadata": {
        "id": "80IFJ0FMwUL6"
      },
      "outputs": [],
      "source": [
        "@time kegg_reaction_info = KEGGAPI.kegg_get(kegg_reaction.data[2])\n",
        "split(kegg_reaction_info[2][1], \"\\n\")"
      ]
    },
    {
      "cell_type": "markdown",
      "metadata": {
        "id": "in_p34z8kLTG"
      },
      "source": [
        "### 3. Identify the compounds related to the reaction\n",
        "\n",
        "The input of the link function are two strings. The element the user is looking for, in this case a compound, and the reaction number as rn:RXXXXX."
      ]
    },
    {
      "cell_type": "code",
      "execution_count": null,
      "metadata": {
        "id": "8q7bSQlDOm0m"
      },
      "outputs": [],
      "source": [
        "@time kegg_compound = KEGGAPI.link(\"compound\", \"rn:R01206\")\n",
        "DataFrame(\n",
        "  kegg_compound.data,\n",
        "  kegg_compound.colnames\n",
        ")"
      ]
    },
    {
      "cell_type": "markdown",
      "metadata": {
        "id": "0JzmqlN-xmTt"
      },
      "source": [
        "### 4. Get compound information\n",
        "\n",
        "To obtain the compund information, the \"kegg_get\" function requires an array of compound KEGG identifier as \"cpd:CXXXXX"
      ]
    },
    {
      "cell_type": "code",
      "execution_count": null,
      "metadata": {
        "id": "K2dpoP94x4wv"
      },
      "outputs": [],
      "source": [
        "@time kegg_compound_info = KEGGAPI.kegg_get(kegg_compound.data[2]);\n",
        "split(kegg_compound_info[2][1], \"\\n\")"
      ]
    },
    {
      "cell_type": "markdown",
      "metadata": {
        "id": "2FRRrOXHkSp_"
      },
      "source": [
        "### 5. Download and save a reaction image.\n",
        "\n",
        "The get_image function is to download a any image, the imput is the reaction number as rn:RXXXXX\n",
        "\n",
        "The save_image function is to save the figure in a png file. The input is a string wiht the name of the file and the extension \".png\""
      ]
    },
    {
      "cell_type": "code",
      "execution_count": null,
      "metadata": {
        "id": "kgfyp2LBIdXD"
      },
      "outputs": [],
      "source": [
        "@time kegg_image = KEGGAPI.get_image(\"rn:R01206\")\n",
        "@time KEGGAPI.save_image(kegg_image, \"r01206.png\")"
      ]
    },
    {
      "cell_type": "markdown",
      "metadata": {
        "id": "IKOChndzl0qj"
      },
      "source": [
        "### 6. Visualization of the reaction image\n",
        "\n",
        "To visualize the saved image, load the png file with fileIO package option."
      ]
    },
    {
      "cell_type": "code",
      "execution_count": null,
      "metadata": {
        "id": "aHfUNPsBGYJ8"
      },
      "outputs": [],
      "source": [
        "Pkg.add(\"TestImages\")\n",
        "Pkg.add(\"Images\")\n",
        "Pkg.add(\"FileIO\")\n",
        "Pkg.add(\"Colors\")"
      ]
    },
    {
      "cell_type": "code",
      "execution_count": null,
      "metadata": {
        "id": "wOHYetQBIUJu"
      },
      "outputs": [],
      "source": [
        "using Images, TestImages, Colors\n",
        "img = load(\"r01206.png\")"
      ]
    },
    {
      "cell_type": "markdown",
      "metadata": {
        "id": "scoZ-5Fq_vE1"
      },
      "source": [
        "### 7. Get Kegg Ortholog group\n",
        "\n",
        "To get the ortholog group use the link function with the string \"ko\" and the reaction number or concatenate string as \"RXXXXX\""
      ]
    },
    {
      "cell_type": "code",
      "execution_count": null,
      "metadata": {
        "id": "MtIV0ogU_E90"
      },
      "outputs": [],
      "source": [
        "kegg_orthogroup = KEGGAPI.link(\"ko\", \"R01206\")\n",
        "DataFrame(\n",
        "  kegg_orthogroup.data,\n",
        "  kegg_orthogroup.colnames\n",
        ")"
      ]
    }
  ],
  "metadata": {
    "colab": {
      "provenance": []
    },
    "kernelspec": {
      "display_name": "julia 1.8.2",
      "name": "julia"
    }
  },
  "nbformat": 4,
  "nbformat_minor": 0
}