{
  "nbformat": 4,
  "nbformat_minor": 0,
  "metadata": {
    "colab": {
      "provenance": [],
      "authorship_tag": "ABX9TyP1jec9MfDfgyaBQ9iEawoF",
      "include_colab_link": true
    },
    "kernelspec": {
      "name": "julia",
      "display_name": "julia 1.8.2"
    }
  },
  "cells": [
    {
      "cell_type": "markdown",
      "metadata": {
        "id": "view-in-github",
        "colab_type": "text"
      },
      "source": [
        "<a href=\"https://colab.research.google.com/github/mvapontes/KEGGAPI.jl/blob/main/examples/Case2.ipynb\" target=\"_parent\"><img src=\"https://colab.research.google.com/assets/colab-badge.svg\" alt=\"Open In Colab\"/></a>"
      ]
    },
    {
      "cell_type": "markdown",
      "source": [
        "# <img src=\"https://github.com/JuliaLang/julia-logo-graphics/raw/master/images/julia-logo-color.png\" height=\"100\" /> _Colab Notebook Template_\n",
        "\n",
        "## Instructions\n",
        "1. Work on a copy of this notebook: _File_ > _Save a copy in Drive_ (you will need a Google account). Alternatively, you can download the notebook using _File_ > _Download .ipynb_, then upload it to [Colab](https://colab.research.google.com/).\n",
        "2. If you need a GPU: _Runtime_ > _Change runtime type_ > _Hardware accelerator_ = _GPU_.\n",
        "3. Execute the following cell (click on it and press Ctrl+Enter) to install Julia, IJulia and other packages (if needed, update `JULIA_VERSION` and the other parameters). This takes a couple of minutes.\n",
        "4. Reload this page (press Ctrl+R, or ⌘+R, or the F5 key) and continue to the next section.\n",
        "\n",
        "_Notes_:\n",
        "* If your Colab Runtime gets reset (e.g., due to inactivity), repeat steps 2, 3 and 4.\n",
        "* After installation, if you want to change the Julia version or activate/deactivate the GPU, you will need to reset the Runtime: _Runtime_ > _Factory reset runtime_ and repeat steps 3 and 4."
      ],
      "metadata": {
        "id": "dn69glsQDgDA"
      }
    },
    {
      "cell_type": "code",
      "execution_count": null,
      "metadata": {
        "colab": {
          "base_uri": "https://localhost:8080/"
        },
        "id": "k-JYaoEJDZqG",
        "outputId": "4fd062f4-19fe-446b-b4df-710b171f6b4e"
      },
      "outputs": [
        {
          "output_type": "stream",
          "name": "stdout",
          "text": [
            "Installing Julia 1.8.2 on the current Colab Runtime...\n",
            "2023-08-04 13:35:18 URL:https://storage.googleapis.com/julialang2/bin/linux/x64/1.8/julia-1.8.2-linux-x86_64.tar.gz [135859273/135859273] -> \"/tmp/julia.tar.gz\" [1]\n",
            "Installing Julia package IJulia...\n"
          ]
        }
      ],
      "source": [
        "%%shell\n",
        "set -e\n",
        "\n",
        "#---------------------------------------------------#\n",
        "JULIA_VERSION=\"1.8.2\" # any version ≥ 0.7.0\n",
        "JULIA_PACKAGES=\"IJulia BenchmarkTools\"\n",
        "JULIA_PACKAGES_IF_GPU=\"CUDA\" # or CuArrays for older Julia versions\n",
        "JULIA_NUM_THREADS=2\n",
        "#---------------------------------------------------#\n",
        "\n",
        "if [ -z `which julia` ]; then\n",
        "  # Install Julia\n",
        "  JULIA_VER=`cut -d '.' -f -2 <<< \"$JULIA_VERSION\"`\n",
        "  echo \"Installing Julia $JULIA_VERSION on the current Colab Runtime...\"\n",
        "  BASE_URL=\"https://julialang-s3.julialang.org/bin/linux/x64\"\n",
        "  URL=\"$BASE_URL/$JULIA_VER/julia-$JULIA_VERSION-linux-x86_64.tar.gz\"\n",
        "  wget -nv $URL -O /tmp/julia.tar.gz # -nv means \"not verbose\"\n",
        "  tar -x -f /tmp/julia.tar.gz -C /usr/local --strip-components 1\n",
        "  rm /tmp/julia.tar.gz\n",
        "\n",
        "  # Install Packages\n",
        "  nvidia-smi -L &> /dev/null && export GPU=1 || export GPU=0\n",
        "  if [ $GPU -eq 1 ]; then\n",
        "    JULIA_PACKAGES=\"$JULIA_PACKAGES $JULIA_PACKAGES_IF_GPU\"\n",
        "  fi\n",
        "  for PKG in `echo $JULIA_PACKAGES`; do\n",
        "    echo \"Installing Julia package $PKG...\"\n",
        "    julia -e 'using Pkg; pkg\"add '$PKG'; precompile;\"' &> /dev/null\n",
        "  done\n",
        "\n",
        "  # Install kernel and rename it to \"julia\"\n",
        "  echo \"Installing IJulia kernel...\"\n",
        "  julia -e 'using IJulia; IJulia.installkernel(\"julia\", env=Dict(\n",
        "      \"JULIA_NUM_THREADS\"=>\"'\"$JULIA_NUM_THREADS\"'\"))'\n",
        "  KERNEL_DIR=`julia -e \"using IJulia; print(IJulia.kerneldir())\"`\n",
        "  KERNEL_NAME=`ls -d \"$KERNEL_DIR\"/julia*`\n",
        "  mv -f $KERNEL_NAME \"$KERNEL_DIR\"/julia\n",
        "\n",
        "  echo ''\n",
        "  echo \"Successfully installed `julia -v`!\"\n",
        "  echo \"Please reload this page (press Ctrl+R, ⌘+R, or the F5 key) then\"\n",
        "  echo \"jump to the 'Checking the Installation' section.\"\n",
        "fi"
      ]
    },
    {
      "cell_type": "code",
      "source": [
        "versioninfo()"
      ],
      "metadata": {
        "colab": {
          "base_uri": "https://localhost:8080/"
        },
        "id": "J5ER7bHPELHf",
        "outputId": "3095b7f6-24f2-4e20-dd8e-dc5020bcdc70"
      },
      "execution_count": 17,
      "outputs": [
        {
          "output_type": "stream",
          "name": "stdout",
          "text": [
            "Julia Version 1.8.2\n",
            "Commit 36034abf260 (2022-09-29 15:21 UTC)\n",
            "Platform Info:\n",
            "  OS: Linux (x86_64-linux-gnu)\n",
            "  CPU: 2 × Intel(R) Xeon(R) CPU @ 2.20GHz\n",
            "  WORD_SIZE: 64\n",
            "  LIBM: libopenlibm\n",
            "  LLVM: libLLVM-13.0.1 (ORCJIT, broadwell)\n",
            "  Threads: 2 on 2 virtual cores\n",
            "Environment:\n",
            "  LD_LIBRARY_PATH = /usr/local/nvidia/lib:/usr/local/nvidia/lib64\n",
            "  JULIA_NUM_THREADS = 2\n"
          ]
        }
      ]
    },
    {
      "cell_type": "code",
      "source": [
        "using Pkg"
      ],
      "metadata": {
        "id": "_hJw2NRSDtZ3"
      },
      "execution_count": 18,
      "outputs": []
    },
    {
      "cell_type": "code",
      "source": [
        "Pkg.add(\"Revise\")\n",
        "Pkg.add(\"DataFrames\")\n",
        "Pkg.add(\"BenchmarkTools\")\n",
        "Pkg.add(url=\"https://github.com/bwbioinfo/KEGGAPI.jl\")"
      ],
      "metadata": {
        "id": "0Btoe8xRDuHr",
        "colab": {
          "base_uri": "https://localhost:8080/"
        },
        "outputId": "8a585ece-f4ec-4946-fc8f-19a16f8e601d"
      },
      "execution_count": 3,
      "outputs": [
        {
          "output_type": "stream",
          "name": "stderr",
          "text": [
            "\u001b[32m\u001b[1m    Updating\u001b[22m\u001b[39m registry at `~/.julia/registries/General.toml`\n",
            "\u001b[32m\u001b[1m   Resolving\u001b[22m\u001b[39m package versions...\n",
            "\u001b[32m\u001b[1m   Installed\u001b[22m\u001b[39m OrderedCollections ─ v1.6.2\n",
            "\u001b[32m\u001b[1m   Installed\u001b[22m\u001b[39m LoweredCodeUtils ─── v2.3.0\n",
            "\u001b[32m\u001b[1m   Installed\u001b[22m\u001b[39m Requires ─────────── v1.3.0\n",
            "\u001b[32m\u001b[1m   Installed\u001b[22m\u001b[39m CodeTracking ─────── v1.3.2\n",
            "\u001b[32m\u001b[1m   Installed\u001b[22m\u001b[39m JuliaInterpreter ─── v0.9.23\n",
            "\u001b[32m\u001b[1m   Installed\u001b[22m\u001b[39m Revise ───────────── v3.5.3\n",
            "\u001b[32m\u001b[1m    Updating\u001b[22m\u001b[39m `~/.julia/environments/v1.8/Project.toml`\n",
            " \u001b[90m [295af30f] \u001b[39m\u001b[92m+ Revise v3.5.3\u001b[39m\n",
            "\u001b[32m\u001b[1m    Updating\u001b[22m\u001b[39m `~/.julia/environments/v1.8/Manifest.toml`\n",
            " \u001b[90m [da1fd8a2] \u001b[39m\u001b[92m+ CodeTracking v1.3.2\u001b[39m\n",
            " \u001b[90m [aa1ae85d] \u001b[39m\u001b[92m+ JuliaInterpreter v0.9.23\u001b[39m\n",
            " \u001b[90m [6f1432cf] \u001b[39m\u001b[92m+ LoweredCodeUtils v2.3.0\u001b[39m\n",
            " \u001b[90m [bac558e1] \u001b[39m\u001b[92m+ OrderedCollections v1.6.2\u001b[39m\n",
            " \u001b[90m [ae029012] \u001b[39m\u001b[92m+ Requires v1.3.0\u001b[39m\n",
            " \u001b[90m [295af30f] \u001b[39m\u001b[92m+ Revise v3.5.3\u001b[39m\n",
            " \u001b[90m [8ba89e20] \u001b[39m\u001b[92m+ Distributed\u001b[39m\n",
            "\u001b[32m\u001b[1mPrecompiling\u001b[22m\u001b[39m project...\n",
            "\u001b[32m  ✓ \u001b[39m\u001b[90mRequires\u001b[39m\n",
            "\u001b[32m  ✓ \u001b[39m\u001b[90mOrderedCollections\u001b[39m\n",
            "\u001b[32m  ✓ \u001b[39m\u001b[90mCodeTracking\u001b[39m\n",
            "\u001b[32m  ✓ \u001b[39m\u001b[90mJuliaInterpreter\u001b[39m\n",
            "\u001b[32m  ✓ \u001b[39m\u001b[90mLoweredCodeUtils\u001b[39m\n",
            "\u001b[32m  ✓ \u001b[39mRevise\n",
            "  6 dependencies successfully precompiled in 22 seconds. 20 already precompiled.\n",
            "\u001b[32m\u001b[1m   Resolving\u001b[22m\u001b[39m package versions...\n",
            "\u001b[32m\u001b[1m   Installed\u001b[22m\u001b[39m Crayons ───────────────────── v4.1.1\n",
            "\u001b[32m\u001b[1m   Installed\u001b[22m\u001b[39m TableTraits ───────────────── v1.0.1\n",
            "\u001b[32m\u001b[1m   Installed\u001b[22m\u001b[39m SentinelArrays ────────────── v1.4.0\n",
            "\u001b[32m\u001b[1m   Installed\u001b[22m\u001b[39m DataAPI ───────────────────── v1.15.0\n",
            "\u001b[32m\u001b[1m   Installed\u001b[22m\u001b[39m PooledArrays ──────────────── v1.4.2\n",
            "\u001b[32m\u001b[1m   Installed\u001b[22m\u001b[39m Tables ────────────────────── v1.10.1\n",
            "\u001b[32m\u001b[1m   Installed\u001b[22m\u001b[39m DataValueInterfaces ───────── v1.0.0\n",
            "\u001b[32m\u001b[1m   Installed\u001b[22m\u001b[39m IteratorInterfaceExtensions ─ v1.0.0\n",
            "\u001b[32m\u001b[1m   Installed\u001b[22m\u001b[39m InlineStrings ─────────────── v1.4.0\n",
            "\u001b[32m\u001b[1m   Installed\u001b[22m\u001b[39m LaTeXStrings ──────────────── v1.3.0\n",
            "\u001b[32m\u001b[1m   Installed\u001b[22m\u001b[39m Reexport ──────────────────── v1.2.2\n",
            "\u001b[32m\u001b[1m   Installed\u001b[22m\u001b[39m Compat ────────────────────── v4.9.0\n",
            "\u001b[32m\u001b[1m   Installed\u001b[22m\u001b[39m SortingAlgorithms ─────────── v1.1.1\n",
            "\u001b[32m\u001b[1m   Installed\u001b[22m\u001b[39m StringManipulation ────────── v0.3.0\n",
            "\u001b[32m\u001b[1m   Installed\u001b[22m\u001b[39m DataStructures ────────────── v0.18.15\n",
            "\u001b[32m\u001b[1m   Installed\u001b[22m\u001b[39m PrettyTables ──────────────── v2.2.7\n",
            "\u001b[32m\u001b[1m   Installed\u001b[22m\u001b[39m DataFrames ────────────────── v1.6.1\n",
            "\u001b[32m\u001b[1m   Installed\u001b[22m\u001b[39m Missings ──────────────────── v1.1.0\n",
            "\u001b[32m\u001b[1m   Installed\u001b[22m\u001b[39m InvertedIndices ───────────── v1.3.0\n",
            "\u001b[32m\u001b[1m    Updating\u001b[22m\u001b[39m `~/.julia/environments/v1.8/Project.toml`\n",
            " \u001b[90m [a93c6f00] \u001b[39m\u001b[92m+ DataFrames v1.6.1\u001b[39m\n",
            "\u001b[32m\u001b[1m    Updating\u001b[22m\u001b[39m `~/.julia/environments/v1.8/Manifest.toml`\n",
            " \u001b[90m [34da2185] \u001b[39m\u001b[92m+ Compat v4.9.0\u001b[39m\n",
            " \u001b[90m [a8cc5b0e] \u001b[39m\u001b[92m+ Crayons v4.1.1\u001b[39m\n",
            " \u001b[90m [9a962f9c] \u001b[39m\u001b[92m+ DataAPI v1.15.0\u001b[39m\n",
            " \u001b[90m [a93c6f00] \u001b[39m\u001b[92m+ DataFrames v1.6.1\u001b[39m\n",
            " \u001b[90m [864edb3b] \u001b[39m\u001b[92m+ DataStructures v0.18.15\u001b[39m\n",
            " \u001b[90m [e2d170a0] \u001b[39m\u001b[92m+ DataValueInterfaces v1.0.0\u001b[39m\n",
            " \u001b[90m [842dd82b] \u001b[39m\u001b[92m+ InlineStrings v1.4.0\u001b[39m\n",
            " \u001b[90m [41ab1584] \u001b[39m\u001b[92m+ InvertedIndices v1.3.0\u001b[39m\n",
            " \u001b[90m [82899510] \u001b[39m\u001b[92m+ IteratorInterfaceExtensions v1.0.0\u001b[39m\n",
            " \u001b[90m [b964fa9f] \u001b[39m\u001b[92m+ LaTeXStrings v1.3.0\u001b[39m\n",
            " \u001b[90m [e1d29d7a] \u001b[39m\u001b[92m+ Missings v1.1.0\u001b[39m\n",
            " \u001b[90m [2dfb63ee] \u001b[39m\u001b[92m+ PooledArrays v1.4.2\u001b[39m\n",
            " \u001b[90m [08abe8d2] \u001b[39m\u001b[92m+ PrettyTables v2.2.7\u001b[39m\n",
            " \u001b[90m [189a3867] \u001b[39m\u001b[92m+ Reexport v1.2.2\u001b[39m\n",
            " \u001b[90m [91c51154] \u001b[39m\u001b[92m+ SentinelArrays v1.4.0\u001b[39m\n",
            " \u001b[90m [a2af1166] \u001b[39m\u001b[92m+ SortingAlgorithms v1.1.1\u001b[39m\n",
            " \u001b[90m [892a3eda] \u001b[39m\u001b[92m+ StringManipulation v0.3.0\u001b[39m\n",
            " \u001b[90m [3783bdb8] \u001b[39m\u001b[92m+ TableTraits v1.0.1\u001b[39m\n",
            " \u001b[90m [bd369af6] \u001b[39m\u001b[92m+ Tables v1.10.1\u001b[39m\n",
            " \u001b[90m [9fa8497b] \u001b[39m\u001b[92m+ Future\u001b[39m\n",
            "\u001b[32m\u001b[1mPrecompiling\u001b[22m\u001b[39m project...\n",
            "\u001b[32m  ✓ \u001b[39m\u001b[90mDataValueInterfaces\u001b[39m\n",
            "\u001b[32m  ✓ \u001b[39m\u001b[90mCompat\u001b[39m\n",
            "\u001b[32m  ✓ \u001b[39m\u001b[90mLaTeXStrings\u001b[39m\n",
            "\u001b[32m  ✓ \u001b[39m\u001b[90mReexport\u001b[39m\n",
            "\u001b[32m  ✓ \u001b[39m\u001b[90mInvertedIndices\u001b[39m\n",
            "\u001b[32m  ✓ \u001b[39m\u001b[90mIteratorInterfaceExtensions\u001b[39m\n",
            "\u001b[32m  ✓ \u001b[39m\u001b[90mSentinelArrays\u001b[39m\n",
            "\u001b[32m  ✓ \u001b[39m\u001b[90mDataAPI\u001b[39m\n",
            "\u001b[32m  ✓ \u001b[39m\u001b[90mCrayons\u001b[39m\n",
            "\u001b[32m  ✓ \u001b[39m\u001b[90mStringManipulation\u001b[39m\n",
            "\u001b[32m  ✓ \u001b[39m\u001b[90mTableTraits\u001b[39m\n",
            "\u001b[32m  ✓ \u001b[39m\u001b[90mPooledArrays\u001b[39m\n",
            "\u001b[32m  ✓ \u001b[39m\u001b[90mInlineStrings\u001b[39m\n",
            "\u001b[32m  ✓ \u001b[39m\u001b[90mMissings\u001b[39m\n",
            "\u001b[32m  ✓ \u001b[39m\u001b[90mTables\u001b[39m\n",
            "\u001b[32m  ✓ \u001b[39m\u001b[90mDataStructures\u001b[39m\n",
            "\u001b[32m  ✓ \u001b[39m\u001b[90mSortingAlgorithms\u001b[39m\n",
            "\u001b[32m  ✓ \u001b[39m\u001b[90mPrettyTables\u001b[39m\n",
            "\u001b[32m  ✓ \u001b[39mDataFrames\n",
            "  19 dependencies successfully precompiled in 65 seconds. 26 already precompiled.\n",
            "\u001b[32m\u001b[1m   Resolving\u001b[22m\u001b[39m package versions...\n",
            "\u001b[32m\u001b[1m  No Changes\u001b[22m\u001b[39m to `~/.julia/environments/v1.8/Project.toml`\n",
            "\u001b[32m\u001b[1m  No Changes\u001b[22m\u001b[39m to `~/.julia/environments/v1.8/Manifest.toml`\n",
            "\u001b[32m\u001b[1m     Cloning\u001b[22m\u001b[39m git-repo `https://github.com/bwbioinfo/KEGGAPI.jl`\n",
            "\u001b[32m\u001b[1m    Updating\u001b[22m\u001b[39m git-repo `https://github.com/bwbioinfo/KEGGAPI.jl`\n",
            "\u001b[32m\u001b[1m   Resolving\u001b[22m\u001b[39m package versions...\n",
            "\u001b[32m\u001b[1m   Installed\u001b[22m\u001b[39m OpenSSL_jll ───────── v3.0.10+0\n",
            "\u001b[32m\u001b[1m   Installed\u001b[22m\u001b[39m SimpleBufferStream ── v1.1.0\n",
            "\u001b[32m\u001b[1m   Installed\u001b[22m\u001b[39m BitFlags ──────────── v0.1.7\n",
            "\u001b[32m\u001b[1m   Installed\u001b[22m\u001b[39m LoggingExtras ─────── v1.0.0\n",
            "\u001b[32m\u001b[1m   Installed\u001b[22m\u001b[39m URIs ──────────────── v1.4.2\n",
            "\u001b[32m\u001b[1m   Installed\u001b[22m\u001b[39m ConcurrentUtilities ─ v2.2.1\n",
            "\u001b[32m\u001b[1m   Installed\u001b[22m\u001b[39m OpenSSL ───────────── v1.4.1\n",
            "\u001b[32m\u001b[1m   Installed\u001b[22m\u001b[39m CodecZlib ─────────── v0.7.2\n",
            "\u001b[32m\u001b[1m   Installed\u001b[22m\u001b[39m TranscodingStreams ── v0.9.13\n",
            "\u001b[32m\u001b[1m   Installed\u001b[22m\u001b[39m ExceptionUnwrapping ─ v0.1.9\n",
            "\u001b[32m\u001b[1m   Installed\u001b[22m\u001b[39m HTTP ──────────────── v1.9.14\n",
            "\u001b[32m\u001b[1m    Updating\u001b[22m\u001b[39m `~/.julia/environments/v1.8/Project.toml`\n",
            " \u001b[90m [e8256861] \u001b[39m\u001b[92m+ KEGGAPI v1.0.0-DEV `https://github.com/bwbioinfo/KEGGAPI.jl#main`\u001b[39m\n",
            "\u001b[32m\u001b[1m    Updating\u001b[22m\u001b[39m `~/.julia/environments/v1.8/Manifest.toml`\n",
            " \u001b[90m [d1d4a3ce] \u001b[39m\u001b[92m+ BitFlags v0.1.7\u001b[39m\n",
            " \u001b[90m [944b1d66] \u001b[39m\u001b[92m+ CodecZlib v0.7.2\u001b[39m\n",
            " \u001b[90m [f0e56b4a] \u001b[39m\u001b[92m+ ConcurrentUtilities v2.2.1\u001b[39m\n",
            " \u001b[90m [460bff9d] \u001b[39m\u001b[92m+ ExceptionUnwrapping v0.1.9\u001b[39m\n",
            " \u001b[90m [cd3eb016] \u001b[39m\u001b[92m+ HTTP v1.9.14\u001b[39m\n",
            " \u001b[90m [e8256861] \u001b[39m\u001b[92m+ KEGGAPI v1.0.0-DEV `https://github.com/bwbioinfo/KEGGAPI.jl#main`\u001b[39m\n",
            " \u001b[90m [e6f89c97] \u001b[39m\u001b[92m+ LoggingExtras v1.0.0\u001b[39m\n",
            " \u001b[90m [4d8831e6] \u001b[39m\u001b[92m+ OpenSSL v1.4.1\u001b[39m\n",
            " \u001b[90m [777ac1f9] \u001b[39m\u001b[92m+ SimpleBufferStream v1.1.0\u001b[39m\n",
            " \u001b[90m [3bb67fe8] \u001b[39m\u001b[92m+ TranscodingStreams v0.9.13\u001b[39m\n",
            " \u001b[90m [5c2747f8] \u001b[39m\u001b[92m+ URIs v1.4.2\u001b[39m\n",
            " \u001b[90m [458c3c95] \u001b[39m\u001b[92m+ OpenSSL_jll v3.0.10+0\u001b[39m\n",
            "\u001b[32m\u001b[1mPrecompiling\u001b[22m\u001b[39m project...\n",
            "\u001b[32m  ✓ \u001b[39m\u001b[90mSimpleBufferStream\u001b[39m\n",
            "\u001b[32m  ✓ \u001b[39m\u001b[90mBitFlags\u001b[39m\n",
            "\u001b[32m  ✓ \u001b[39m\u001b[90mURIs\u001b[39m\n",
            "\u001b[32m  ✓ \u001b[39m\u001b[90mLoggingExtras\u001b[39m\n",
            "\u001b[32m  ✓ \u001b[39m\u001b[90mExceptionUnwrapping\u001b[39m\n",
            "\u001b[32m  ✓ \u001b[39m\u001b[90mConcurrentUtilities\u001b[39m\n",
            "\u001b[32m  ✓ \u001b[39m\u001b[90mOpenSSL_jll\u001b[39m\n",
            "\u001b[32m  ✓ \u001b[39m\u001b[90mTranscodingStreams\u001b[39m\n",
            "\u001b[32m  ✓ \u001b[39m\u001b[90mCodecZlib\u001b[39m\n",
            "\u001b[32m  ✓ \u001b[39m\u001b[90mOpenSSL\u001b[39m\n",
            "\u001b[32m  ✓ \u001b[39m\u001b[90mHTTP\u001b[39m\n",
            "\u001b[32m  ✓ \u001b[39mKEGGAPI\n",
            "  12 dependencies successfully precompiled in 10 seconds. 45 already precompiled.\n"
          ]
        }
      ]
    },
    {
      "cell_type": "code",
      "source": [
        "using Revise\n",
        "using DataFrames\n",
        "using BenchmarkTools\n",
        "using KEGGAPI"
      ],
      "metadata": {
        "id": "bYixR5WhD0cw"
      },
      "execution_count": 19,
      "outputs": []
    },
    {
      "cell_type": "markdown",
      "source": [
        "# Case 2: EC reaction information in Kegg Database\n",
        "\n"
      ],
      "metadata": {
        "id": "6NJZS9B7D9H9"
      }
    },
    {
      "cell_type": "markdown",
      "source": [
        "### 1. Identify reactions in KEGG database assiciated to a European Community number (EC.)\n",
        "\n",
        "To determine if a reaction is part of KEGG database and obtain its information the function link takes as input the element the user is looking for, in this case \"reaction\", and the EC number of a reaction as \"ec:X.XX.XX.XX\""
      ],
      "metadata": {
        "id": "hsBidRhEGBua"
      }
    },
    {
      "cell_type": "code",
      "source": [
        "@time kegg_reaction = KEGGAPI.link(\"reaction\", \"ec:3.2.1.14\")\n",
        "DataFrame(\n",
        "  kegg_reaction.data,\n",
        "  kegg_reaction.colnames\n",
        ")"
      ],
      "metadata": {
        "id": "uqpyI-hmGLYX",
        "colab": {
          "base_uri": "https://localhost:8080/",
          "height": 200
        },
        "outputId": "9db2444a-f1f7-4a47-f2e4-b04cc5cedcd0"
      },
      "execution_count": 5,
      "outputs": [
        {
          "output_type": "stream",
          "name": "stdout",
          "text": [
            " 15.293495 seconds (15.20 M allocations: 767.305 MiB, 6.45% gc time, 95.27% compilation time: 2% of which was recompilation)\n"
          ]
        },
        {
          "output_type": "execute_result",
          "data": {
            "text/plain": [
              "\u001b[1m4×2 DataFrame\u001b[0m\n",
              "\u001b[1m Row \u001b[0m│\u001b[1m Target ID   \u001b[0m\u001b[1m Source ID \u001b[0m\n",
              "     │\u001b[90m String      \u001b[0m\u001b[90m String    \u001b[0m\n",
              "─────┼────────────────────────\n",
              "   1 │ ec:3.2.1.14  rn:R01206\n",
              "   2 │ ec:3.2.1.14  rn:R02334\n",
              "   3 │ ec:3.2.1.14  rn:R06081\n",
              "   4 │ ec:3.2.1.14  rn:R06082"
            ],
            "text/html": [
              "<div><div style = \"float: left;\"><span>4×2 DataFrame</span></div><div style = \"clear: both;\"></div></div><div class = \"data-frame\" style = \"overflow-x: scroll;\"><table class = \"data-frame\" style = \"margin-bottom: 6px;\"><thead><tr class = \"header\"><th class = \"rowNumber\" style = \"font-weight: bold; text-align: right;\">Row</th><th style = \"text-align: left;\">Target ID</th><th style = \"text-align: left;\">Source ID</th></tr><tr class = \"subheader headerLastRow\"><th class = \"rowNumber\" style = \"font-weight: bold; text-align: right;\"></th><th title = \"String\" style = \"text-align: left;\">String</th><th title = \"String\" style = \"text-align: left;\">String</th></tr></thead><tbody><tr><td class = \"rowNumber\" style = \"font-weight: bold; text-align: right;\">1</td><td style = \"text-align: left;\">ec:3.2.1.14</td><td style = \"text-align: left;\">rn:R01206</td></tr><tr><td class = \"rowNumber\" style = \"font-weight: bold; text-align: right;\">2</td><td style = \"text-align: left;\">ec:3.2.1.14</td><td style = \"text-align: left;\">rn:R02334</td></tr><tr><td class = \"rowNumber\" style = \"font-weight: bold; text-align: right;\">3</td><td style = \"text-align: left;\">ec:3.2.1.14</td><td style = \"text-align: left;\">rn:R06081</td></tr><tr><td class = \"rowNumber\" style = \"font-weight: bold; text-align: right;\">4</td><td style = \"text-align: left;\">ec:3.2.1.14</td><td style = \"text-align: left;\">rn:R06082</td></tr></tbody></table></div>"
            ],
            "text/latex": "\\begin{tabular}{r|cc}\n\t& Target ID & Source ID\\\\\n\t\\hline\n\t& String & String\\\\\n\t\\hline\n\t1 & ec:3.2.1.14 & rn:R01206 \\\\\n\t2 & ec:3.2.1.14 & rn:R02334 \\\\\n\t3 & ec:3.2.1.14 & rn:R06081 \\\\\n\t4 & ec:3.2.1.14 & rn:R06082 \\\\\n\\end{tabular}\n"
          },
          "metadata": {},
          "execution_count": 5
        }
      ]
    },
    {
      "cell_type": "markdown",
      "source": [
        "### 2. Get reaction information\n",
        "\n",
        "To obtain the reactions information, the \"kegg_get\" function requires an array of reaction KEGG identifier as \"rn:RXXXX\n",
        "\n"
      ],
      "metadata": {
        "id": "6UUoZfpJwIr9"
      }
    },
    {
      "cell_type": "code",
      "source": [
        "@time kegg_reaction_info = KEGGAPI.kegg_get(kegg_reaction.data[2])\n",
        "kegg_reaction_info[2]"
      ],
      "metadata": {
        "colab": {
          "base_uri": "https://localhost:8080/"
        },
        "id": "80IFJ0FMwUL6",
        "outputId": "2d4e3070-c3d7-4bb4-fab4-6ad7ea634685"
      },
      "execution_count": 7,
      "outputs": [
        {
          "output_type": "stream",
          "name": "stdout",
          "text": [
            "  0.197751 seconds (235 allocations: 21.617 KiB)\n"
          ]
        },
        {
          "output_type": "execute_result",
          "data": {
            "text/plain": [
              "4-element Vector{String}:\n",
              " \"ENTRY       R01206             \" ⋯ 527 bytes ⋯ \" endochitinase B [EC:3.2.1.14]\"\n",
              " \"ENTRY       R02334             \" ⋯ 480 bytes ⋯ \" endochitinase B [EC:3.2.1.14]\"\n",
              " \"ENTRY       R06081             \" ⋯ 221 bytes ⋯ \"s: R01206\\nENZYME      3.2.1.14\"\n",
              " \"ENTRY       R06082             \" ⋯ 209 bytes ⋯ \"s: R02334\\nENZYME      3.2.1.14\""
            ]
          },
          "metadata": {},
          "execution_count": 7
        }
      ]
    },
    {
      "cell_type": "markdown",
      "source": [
        "### 3. Identify the compounds related to the reaction\n",
        "\n",
        "The input of the link function are two strings. The element the user is looking for, in this case a compound, and the reaction number as rn:RXXXXX."
      ],
      "metadata": {
        "id": "in_p34z8kLTG"
      }
    },
    {
      "cell_type": "code",
      "source": [
        "@time kegg_compound = KEGGAPI.link(\"compound\", \"rn:R01206\")\n",
        "DataFrame(\n",
        "  kegg_compound.data,\n",
        "  kegg_compound.colnames\n",
        ")"
      ],
      "metadata": {
        "colab": {
          "base_uri": "https://localhost:8080/",
          "height": 200
        },
        "id": "8q7bSQlDOm0m",
        "outputId": "831e122b-216e-417d-dcc7-a25c309ed570"
      },
      "execution_count": 9,
      "outputs": [
        {
          "output_type": "stream",
          "name": "stdout",
          "text": [
            "  0.235061 seconds (232 allocations: 13.734 KiB)\n"
          ]
        },
        {
          "output_type": "execute_result",
          "data": {
            "text/plain": [
              "\u001b[1m4×2 DataFrame\u001b[0m\n",
              "\u001b[1m Row \u001b[0m│\u001b[1m Target ID \u001b[0m\u001b[1m Source ID  \u001b[0m\n",
              "     │\u001b[90m String    \u001b[0m\u001b[90m String     \u001b[0m\n",
              "─────┼───────────────────────\n",
              "   1 │ rn:R01206  cpd:C00001\n",
              "   2 │ rn:R01206  cpd:C00140\n",
              "   3 │ rn:R01206  cpd:C00461\n",
              "   4 │ rn:R01206  cpd:C00461"
            ],
            "text/html": [
              "<div><div style = \"float: left;\"><span>4×2 DataFrame</span></div><div style = \"clear: both;\"></div></div><div class = \"data-frame\" style = \"overflow-x: scroll;\"><table class = \"data-frame\" style = \"margin-bottom: 6px;\"><thead><tr class = \"header\"><th class = \"rowNumber\" style = \"font-weight: bold; text-align: right;\">Row</th><th style = \"text-align: left;\">Target ID</th><th style = \"text-align: left;\">Source ID</th></tr><tr class = \"subheader headerLastRow\"><th class = \"rowNumber\" style = \"font-weight: bold; text-align: right;\"></th><th title = \"String\" style = \"text-align: left;\">String</th><th title = \"String\" style = \"text-align: left;\">String</th></tr></thead><tbody><tr><td class = \"rowNumber\" style = \"font-weight: bold; text-align: right;\">1</td><td style = \"text-align: left;\">rn:R01206</td><td style = \"text-align: left;\">cpd:C00001</td></tr><tr><td class = \"rowNumber\" style = \"font-weight: bold; text-align: right;\">2</td><td style = \"text-align: left;\">rn:R01206</td><td style = \"text-align: left;\">cpd:C00140</td></tr><tr><td class = \"rowNumber\" style = \"font-weight: bold; text-align: right;\">3</td><td style = \"text-align: left;\">rn:R01206</td><td style = \"text-align: left;\">cpd:C00461</td></tr><tr><td class = \"rowNumber\" style = \"font-weight: bold; text-align: right;\">4</td><td style = \"text-align: left;\">rn:R01206</td><td style = \"text-align: left;\">cpd:C00461</td></tr></tbody></table></div>"
            ],
            "text/latex": "\\begin{tabular}{r|cc}\n\t& Target ID & Source ID\\\\\n\t\\hline\n\t& String & String\\\\\n\t\\hline\n\t1 & rn:R01206 & cpd:C00001 \\\\\n\t2 & rn:R01206 & cpd:C00140 \\\\\n\t3 & rn:R01206 & cpd:C00461 \\\\\n\t4 & rn:R01206 & cpd:C00461 \\\\\n\\end{tabular}\n"
          },
          "metadata": {},
          "execution_count": 9
        }
      ]
    },
    {
      "cell_type": "markdown",
      "source": [
        "### 4. Get compound information\n",
        "\n",
        "To obtain the compund information, the \"kegg_get\" function requires an array of compound KEGG identifier as \"cpd:CXXXXX"
      ],
      "metadata": {
        "id": "0JzmqlN-xmTt"
      }
    },
    {
      "cell_type": "code",
      "source": [
        "@time kegg_compound_info = KEGGAPI.kegg_get(kegg_compound.data[2])"
      ],
      "metadata": {
        "colab": {
          "base_uri": "https://localhost:8080/"
        },
        "id": "K2dpoP94x4wv",
        "outputId": "253e9d46-2187-42ff-eb34-a83718b80b61"
      },
      "execution_count": 16,
      "outputs": [
        {
          "output_type": "stream",
          "name": "stdout",
          "text": [
            "  1.952866 seconds (478 allocations: 624.625 KiB)\n"
          ]
        },
        {
          "output_type": "execute_result",
          "data": {
            "text/plain": [
              "2-element Vector{Vector{String}}:\n",
              " [\"https://rest.kegg.jp/get/cpd:C00001+cpd:C00140+cpd:C00461+cpd:C00461/\"]\n",
              " [\"ENTRY       C00001                      Compound\\nNAME        H2O;\\n            Water\\nFORMULA     H2O\\nEXACT_MASS  18.0106\\nMOL_WEIGHT  18.0153\\nREMARK      Same as: D00001\\nREACTION    R00001 R00002 R00004 R00005 R00009 R00010 R00011 R00017 \\n            R00022 R00024 R00025 R00026 R00028 R00036 R00041 R00044 \\n            R00045 R00047 R00048 R00052 R00053 R00054 R00055 R00056 \\n            R00058 R00059 R00060 R00061 R00068 R00069 R00070 R00072 \\n            R00073 R00074 R00077 R00078 R00080 R00081 R00082 R00083 \\n            R00084 R00085 R00086 R00087 R00088 R00090 R00102 R00103 \\n            R00111 R00113 R00118 R00122 R00123 R00125 R00128 R00131 \\n            R00132 R00135 R00138 R00143 R00145 R00146 R00148 R00149 \\n            R00150 R00152 R00155 R00159 R00160 R00164 R00173 R00177 \\n            R00181 R00182 R00183 R00184 R00187 R00188 R00191 R00192 \\n            R00193 R00194 R00195 R00199 R00203 R00205 R00208 R00213 \\n            R00218 R00227 R00243 R00245 R00248 R00250 R00251 R00254 \\n            R00256 R00257 R00264 R00269 R00270 R00271 R00274 R00277 \\n            R00279 R00280 R00283 R00284 R00286 R00287 R00293 R00294 \\n            R00295 R00303 R00304 R00306 R00308 R00311 R00317 R00318 \\n            R00319 R00321 R00322 R00324 R00326 R00327 R00328 R00329 \\n            R00335 R00336 R00337 R00338 R00339 R00340 R00345 R00348 \\n            R00351 R00357 R00359 R00364 R00365 R00366 R00368 R00383 \\n            R00396 R00398 R00407 R00411 R00414 R00421 R00424 R00425 \\n            R00426 R00428 R00446 R00447 R00448 R00449 R00452 R00458 \\n            R00463 R00466 R00469 R00472 R00484 R00485 R00486 R00488 \\n            R00494 R00499 R00501 R00507 R00508 R00510 R00511 R00514 \\n            R00515 R00521 R00524 R00525 R00526 R00527 R00528 R00531 \\n            R00532 R00533 R00534 R00538 R00539 R00540 R00542 R00543 \\n            R00544 R00545 R00546 R00547 R00548 R00551 R00552 R00557 \\n            R00558 R00559 R00562 R00563 R00569 R00573 R00575 R00578 \\n            R00581 R00582 R00590 R00602 R00603 R00604 R00606 R00609 \\n            R00610 R00612 R00614 R00615 R00618 R00626 R00628 R00630 \\n            R00631 R00634 R00635 R00638 R00644 R00646 R00648 R00653 \\n            R00654 R00657 R00658 R00662 R00665 R00666 R00668 R00669 \\n            R00673 R00674 R00675 R00676 R00677 R00679 R00682 R00686 \\n            R00688 R00689 R00690 R00691 R00707 R00708 R00710 R00711 \\n            R00713 R00714 R00715 R00716 R00719 R00720 R00723 R00728 \\n            R00729 R00730 R00731 R00744 R00747 R00748 R00761 R00762 \\n            R00763 R00765 R00775 R00777 R00778 R00782 R00783 R00784 \\n            R00785 R00787 R00789 R00790 R00791 R00792 R00793 R00794 \\n            R00796 R00798 R00799 R00801 R00802 R00804 R00805 R00815 \\n            R00818 R00828 R00837 R00838 R00839 R00841 R00855 R00857 \\n            R00858 R00859 R00861 R00872 R00879 R00880 R00881 R00888 \\n            R00891 R00899 R00904 R00905 R00906 R00909 R00911 R00913 \\n            R00917 R00918 R00931 R00932 R00941 R00944 R00945 R00947 \\n            R00951 R00957 R00961 R00963 R00969 R00974 R00976 R00985 \\n            R00987 R00988 R00997 R00998 R00999 R01001 R01003 R01004 \\n            R01006 R01010 R01019 R01026 R01028 R01029 R01030 R01031 \\n            R01032 R01043 R01047 R01054 R01055 R01058 R01072 R01076 \\n            R01077 R01079 R01080 R01082 R01085 R01088 R01098 R01100 \\n            R01101 R01103 R01104 R01105 R01106 R01115 R01126 R01127 \\n            R01128 R01130 R01142 R01143 R01144 R01145 R01151 R01152 \\n            R01156 R01157 R01158 R01163 R01166 R01180 R01184 R01185 \\n            R01186 R01187 R01193 R01194 R01200 R01202 R01203 R01206 \\n            R01209 R01212 R01213 R01225 R01226 R01227 R01231 R01232 \\n            R01233 R01234 R01237 R01241 R01243 R01244 R01245 R01258 \\n            R01259 R01260 R01263 R01264 R01266 R01267 R01268 R01270 \\n            R01273 R01274 R01283 R01286 R01289 R01290 R01293 R01294 \\n            R01295 R01296 R01297 R01298 R01299 R01301 R01303 R01306 \\n            R01307 R01308 R01309 R01310 R01312 R01313 R01314 R01315 \\n            R01316 R01317 R01325 R01328 R01329 R01331 R01332 R01333 \\n            R01334 R01335 R01337 R01338 R01340 R01342 R01347 R01348 \\n            R01351 R01352 R01358 R01364 R01367 R01369 R01373 R01374 \\n            R01401 R01408 R01410 R01411 R01413 R01416 R01418 R01419 \\n            R01420 R01421 R01423 R01424 R01425 R01426 R01433 R01434 \\n            R01444 R01446 R01448 R01452 R01453 R01454 R01460 R01462 \\n            R01463 R01466 R01469 R01470 R01478 R01480 R01483 R01484 \\n            R01486 R01489 R01493 R01494 R01498 R01508 R01511 R01515 \\n            R01519 R01532 R01533 R01538 R01540 R01560 R01562 R01563 \\n            R01566 R01569 R01579 R01581 R01583 R01584 R01587 R01588 \\n            R01589 R01599 R01604 R01607 R01609 R01611 R01621 R01623 \\n            R01627 R01628 R01629 R01630 R01649 R01650 R01655 R01663 \\n            R01664 R01667 R01668 R01669 R01676 R01677 R01678 R01683 \\n            R01685 R01690 R01703 R01704 R01705 R01706 R01709 R01710 \\n            R01718 R01720 R01724 R01732 R01735 R01736 R01748 R01752 \\n            R01760 R01762 R01768 R01769 R01770 R01788 R01790 R01791 \\n            R01795 R01797 R01803 R01804 R01805 R01810 R01814 R01815 \\n            R01825 R01826 R01833 R01840 R01842 R01845 R01851 R01853 \\n            R01854 R01855 R01856 R01862 R01874 R01877 R01878 R01882 \\n            R01884 R01885 R01886 R01887 R01900 R01911 R01914 R01915 \\n            R01918 R01922 R01924 R01930 R01937 R01938 R01959 R01960 \\n            R01962 R01963 R01966 R01968 R01978 R01981 R01982 R01984 \\n            R01986 R01987 R01990 R01992 R01993 R01998 R02004 R02006 \\n            R02014 R02017 R02018 R02019 R02020 R02022 R02023 R02024 \\n            R02025 R02027 R02029 R02035 R02036 R02039 R02040 R02041 \\n            R02042 R02051 R02052 R02053 R02054 R02059 R02078 R02083 \\n            R02085 R02088 R02092 R02095 R02100 R02102 R02103 R02106 \\n            R02107 R02108 R02109 R02115 R02123 R02125 R02130 R02131 \\n            R02132 R02133 R02135 R02137 R02139 R02141 R02143 R02145 \\n            R02148 R02150 R02160 R02165 R02167 R02170 R02171 R02172 \\n            R02173 R02178 R02182 R02190 R02192 R02196 R02197 R02210 \\n            R02211 R02212 R02213 R02214 R02218 R02222 R02224 R02228 \\n            R02231 R02233 R02239 R02248 R02249 R02250 R02253 R02254 \\n            R02269 R02273 R02276 R02278 R02279 R02280 R02281 R02284 \\n            R02285 R02286 R02288 R02300 R02313 R02315 R02317 R02319 \\n            R02322 R02323 R02325 R02330 R02333 R02334 R02336 R02337 \\n            R02339 R02341 R02351 R02354 R02355 R02356 R02359 R02360 \\n            R02362 R02363 R02368 R02370 R02374 R02376 R02378 R02381 \\n            R02382 R02383 R02394 R02401 R02408 R02410 R02418 R02419 \\n            R02422 R02423 R02425 R02426 R02427 R02428 R02429 R02434 \\n            R02436 R02442 R02443 R02445 R02449 R02451 R02457 R02458 \\n            R02468 R02469 R02470 R02474 R02485 R02490 R02491 R02492 \\n            R02494 R02501 R02503 R02504 R02509 R02511 R02513 R02514 \\n            R02515 R02516 R02517 R02518 R02520 R02522 R02526 R02529 \\n            R02532 R02535 R02536 R02537 R02540 R02541 R02542 R02547 \\n            R02549 R02550 R02551 R02552 R02554 R02556 R02558 R02560 \\n            R02561 R02562 R02564 R02565 R02566 R02583 R02585 R02587 \\n            R02588 R02589 R02591 R02595 R02597 R02598 R02601 R02603 \\n            R02604 R02605 R02606 R02612 R02613 R02618 R02621 R02622 \\n            R02624 R02648 R02655 R02657 R02659 R02668 R02675 R02677 \\n            R02678 R02681 R02682 R02685 R02687 R02688 R02695 R02697 \\n            R02698 R02706 R02707 R02708 R02712 R02714 R02719 R02720 \\n            R02722 R02723 R02724 R02725 R02726 R02730 R02731 R02733 \\n            R02734 R02744 R02745 R02746 R02747 R02751 R02752 R02755 \\n            R02762 R02764 R02769 R02778 R02782 R02797 R02798 R02801 \\n            R02804 R02805 R02810 R02813 R02814 R02815 R02817 R02822 \\n            R02823 R02826 R02827 R02828 R02830 R02833 R02838 R02843 \\n            R02853 R02857 R02860 R02866 R02874 R02875 R02879 R02885 \\n            R02886 R02887 R02901 R02907 R02908 R02914 R02915 R02919 \\n            R02922 R02923 R02926 R02930 R02933 R02938 R02940 R02941 \\n            R02942 R02950 R02953 R02957 R02960 R02963 R02973 R02974 \\n            R02983 R02985 R02987 R02991 R02992 R02995 R02997 R03004 \\n            R03006 R03013 R03015 R03016 R03023 R03024 R03026 R03027 \\n            R03032 R03033 R03034 R03036 R03037 R03040 R03042 R03045 \\n            R03049 R03055 R03057 R03058 R03060 R03062 R03066 R03069 \\n            R03071 R03084 R03086 R03087 R03088 R03089 R03090 R03093 \\n            R03096 R03102 R03103 R03107 R03115 R03122 R03124 R03125 \\n            R03126 R03139 R03145 R03151 R03158 R03162 R03165 R03166 \\n            R03167 R03177 R03180 R03187 R03188 R03198 R03202 R03204 \\n            R03206 R03208 R03211 R03216 R03220 R03224 R03249 R03250 \\n            R03254 R03255 R03256 R03259 R03262 R03263 R03273 R03281 \\n            R03283 R03288 R03299 R03300 R03302 R03314 R03317 R03326 \\n            R03329 R03330 R03331 R03332 R03333 R03344 R03346 R03349 \\n            R03350 R03352 R03355 R03360 R03363 R03369 R03370 R03371 \\n            R03372 R03391 R03392 R03393 R03394 R03404 R03408 R03409 \\n            R03415 R03416 R03417 R03421 R03422 R03423 R03427 R03430 \\n            R03434 R03435 R03444 R03445 R03446 R03448 R03450 R03452 \\n            R03454 R03457 R03459 R03464 R03465 R03467 R03476 R03482 \\n            R03491 R03492 R03493 R03496 R03506 R03507 R03508 R03510 \\n            R03511 R03515 R03517 R03518 R03521 R03523 R03527 R03528 \\n            R03531 R03532 R03535 R03537 R03538 R03540 R03541 R03542 \\n            R03549 R03551 R03555 R03556 R03560 R03562 R03563 R03564 \\n            R03566 R03568 R03570 R03575 R03579 R03590 R03593 R03595 \\n            R03596 R03597 R03600 R03604 R03608 R03610 R03611 R03612 \\n            R03615 R03616 R03617 R03618 R03620 R03622 R03624 R03629 \\n            R03634 R03635 R03637 R03638 R03639 R03641 R03642 R03645 \\n            R03671 R03675 R03685 R03687 R03688 R03692 R03693 R03694 \\n            R03695 R03697 R03702 R03703 R03708 R03711 R03712 R03728 \\n            R03732 R03735 R03737 R03738 R03739 R03742 R03743 R03751 \\n            R03772 R03774 R03781 R03783 R03784 R03800 R03801 R03802 \\n            R03803 R03804 R03806 R03807 R03810 R03814 R03818 R03820 \\n            R03826 R03830 R03833 R03834 R03842 R03849 R03851 R03859 \\n            R03866 R03869 R03870 R03871 R03877 R03878 R03885 R03887 \\n            R03889 R03893 R03896 R03897 R03898 R03899 R03905 R03906 \\n            R03907 R03909 R03912 R03916 R03921 R03927 R03929 R03933 \\n            R03935 R03936 R03937 R03953 R03954 R03964 R03968 R03969 \\n            R03970 R03971 R03974 R03975 R03977 R03978 R03979 R03980 \\n            R03982 R03984 R03986 R03993 R03995 R03997 R03998 R03999 \\n            R04001 R04006 R04014 R04018 R04019 R04020 R04025 R04026 \\n            R04031 R04034 R04035 R04037 R04043 R04046 R04047 R04056 \\n            R04060 R04065 R04066 R04068 R04070 R04084 R04085 R04090 \\n            R04093 R04094 R04101 R04102 R04103 R04112 R04113 R04118 \\n            R04119 R04120 R04121 R04122 R04130 R04131 R04132 R04137 \\n            R04140 R04141 R04142 R04146 R04149 R04156 R04162 R04166 \\n            R04167 R04170 R04174 R04175 R04177 R04180 R04183 R04184 \\n            R04189 R04191 R04198 R04199 R04200 R04201 R04202 R04204 \\n            R04206 R04212 R04214 R04223 R04224 R04228 R04229 R04238 \\n            R04239 R04242 R04251 R04256 R04268 R04270 R04272 R04276 \\n            R04277 R04282 R04283 R04292 R04293 R04294 R04300 R04303 \\n            R04305 R04306 R04313 R04315 R04317 R04318 R04320 R04326 \\n            R04328 R04336 R04341 R04342 R04349 R04350 R04362 R04364 \\n            R04365 R04366 R04368 R04371 R04372 R04373 R04374 R04384 \\n            R04392 R04397 R04399 R04400 R04404 R04416 R04418 R04419 \\n            R04424 R04425 R04428 R04435 R04437 R04441 R04443 R04444 \\n            R04445 R04446 R04447 R04450 R04452 R04453 R04457 R04460 \\n            R04461 R04463 R04470 R04471 R04478 R04479 R04486 R04487 \\n            R04488 R04490 R04501 R04503 R04506 R04512 R04513 R04515 \\n            R04523 R04524 R04525 R04527 R04535 R04537 R04542 R04544 \\n            R04549 R04568 R04571 R04586 R04587 R04593 R04594 R04608 \\n            R04609 R04611 R04620 R04621 R04633 R04634 R04638 R04639 \\n            R04641 R04650 R04666 R04674 R04675 R04676 R04687 R04688 \\n            R04690 R04693 R04694 R04696 R04699 R04700 R04701 R04702 \\n            R04708 R04727 R04728 R04731 R04734 R04738 R04740 R04744 \\n            R04746 R04749 R04759 R04761 R04770 R04771 R04780 R04781 \\n            R04783 R04784 R04785 R04789 R04790 R04791 R04792 R04794 \\n            R04798 R04799 R04800 R04803 R04806 R04807 R04809 R04813 \\n            R04826 R04850 R04852 R04853 R04854 R04855 R04856 R04857 \\n            R04861 R04868 R04869 R04870 R04872 R04875 R04879 R04882 \\n            R04883 R04884 R04886 R04888 R04889 R04890 R04891 R04892 \\n            R04893 R04894 R04895 R04902 R04903 R04904 R04908 R04911 \\n            R04914 R04916 R04917 R04930 R04937 R04938 R04941 R04942 \\n            R04949 R04951 R04954 R04965 R04975 R04979 R04980 R04987 \\n            R04996 R04998 R04999 R05036 R05037 R05046 R05049 R05050 \\n            R05051 R05055 R05063 R05064 R05070 R05076 R05077 R05078 \\n            R05079 R05086 R05099 R05100 R05112 R05115 R05117 R05118 \\n            R05119 R05120 R05122 R05129 R05133 R05134 R05135 R05136 \\n            R05138 R05141 R05142 R05144 R05151 R05152 R05154 R05158 \\n            R05166 R05167 R05168 R05169 R05170 R05172 R05174 R05183 \\n            R05185 R05186 R05188 R05189 R05190 R05207 R05209 R05210 \\n            R05215 R05217 R05219 R05224 R05225 R05226 R05227 R05228 \\n            R05235 R05236 R05237 R05238 R05249 R05250 R05251 R05252 \\n            R05258 R05259 R05265 R05266 R05270 R05272 R05273 R05274 \\n            R05281 R05284 R05286 R05287 R05288 R05289 R05296 R05297 \\n            R05301 R05316 R05321 R05322 R05334 R05335 R05337 R05345 \\n            R05346 R05353 R05356 R05357 R05358 R05359 R05360 R05361 \\n            R05362 R05363 R05364 R05365 R05366 R05367 R05368 R05369 \\n            R05370 R05371 R05372 R05379 R05380 R05401 R05408 R05418 \\n            R05420 R05421 R05422 R05425 R05426 R05441 R05442 R05443 \\n            R05444 R05445 R05446 R05447 R05448 R05449 R05450 R05453 \\n            R05454 R05462 R05463 R05468 R05469 R05477 R05478 R05481 \\n            R05482 R05485 R05486 R05487 R05488 R05495 R05496 R05510 \\n            R05511 R05518 R05519 R05521 R05522 R05538 R05543 R05544 \\n            R05545 R05546 R05548 R05549 R05551 R05552 R05554 R05558 \\n            R05559 R05560 R05563 R05569 R05572 R05573 R05574 R05590 \\n            R05591 R05592 R05593 R05594 R05595 R05596 R05597 R05599 \\n            R05600 R05601 R05602 R05603 R05606 R05608 R05618 R05623 \\n            R05624 R05625 R05627 R05632 R05635 R05640 R05643 R05647 \\n            R05648 R05649 R05653 R05654 R05655 R05658 R05659 R05663 \\n            R05664 R05666 R05677 R05695 R05697 R05699 R05700 R05701 \\n            R05708 R05712 R05723 R05727 R05728 R05729 R05730 R05731 \\n            R05732 R05733 R05734 R05735 R05739 R05740 R05741 R05742 \\n            R05745 R05746 R05748 R05749 R05750 R05751 R05771 R05772 \\n            R05775 R05777 R05779 R05780 R05781 R05782 R05783 R05784 \\n            R05788 R05789 R05790 R05791 R05792 R05793 R05796 R05797 \\n            R05811 R05815 R05816 R05821 R05825 R05828 R05829 R05832 \\n            R05833 R05835 R05838 R05842 R05845 R05849 R05855 R05856 \\n            R05861 R05862 R05863 R05864 R05865 R05866 R05877 R05880 \\n            R05884 R05917 R05961 R05963 R05966 R05979 R05980 R05981 \\n            R05984 R05994 R05996 R05998 R05999 R06001 R06004 R06010 \\n            R06012 R06054 R06063 R06064 R06070 R06077 R06078 R06080 \\n            R06081 R06082 R06084 R06087 R06088 R06091 R06092 R06093 \\n            R06094 R06096 R06098 R06099 R06100 R06101 R06102 R06103 \\n            R06104 R06105 R06106 R06107 R06108 R06109 R06110 R06112 \\n            R06113 R06114 R06115 R06116 R06118 R06119 R06124 R06134 \\n            R06138 R06140 R06141 R06142 R06143 R06144 R06147 R06149 \\n            R06150 R06151 R06152 R06154 R06157 R06158 R06160 R06161 \\n            R06175 R06199 R06200 R06201 R06202 R06203 R06204 R06206 \\n            R06207 R06208 R06209 R06211 R06225 R06228 R06239 R06241 \\n            R06250 R06253 R06254 R06255 R06265 R06266 R06267 R06268 \\n            R06280 R06282 R06283 R06291 R06292 R06293 R06294 R06295 \\n            R06296 R06297 R06306 R06308 R06309 R06313 R06323 R06351 \\n            R06354 R06357 R06361 R06363 R06366 R06367 R06368 R06369 \\n            R06371 R06386 R06387 R06388 R06389 R06390 R06391 R06392 \\n            R06393 R06396 R06398 R06400 R06401 R06402 R06403 R06404 \\n            R06406 R06407 R06408 R06411 R06412 R06415 R06421 R06428 \\n            R06448 R06449 R06453 R06454 R06458 R06459 R06462 R06463 \\n            R06464 R06465 R06467 R06468 R06470 R06480 R06481 R06482 \\n            R06483 R06513 R06515 R06518 R06519 R06520 R06521 R06522 \\n            R06525 R06526 R06528 R06532 R06533 R06537 R06538 R06539 \\n            R06540 R06551 R06560 R06561 R06568 R06572 R06573 R06582 \\n            R06591 R06593 R06595 R06601 R06606 R06607 R06615 R06622 \\n            R06623 R06625 R06650 R06665 R06679 R06683 R06685 R06688 \\n            R06689 R06690 R06691 R06692 R06696 R06699 R06700 R06704 \\n            R06722 R06728 R06729 R06740 R06752 R06759 R06786 R06787 \\n            R06789 R06792 R06793 R06835 R06838 R06851 R06852 R06854 \\n            R06865 R06870 R06871 R06875 R06883 R06884 R06885 R06888 \\n            R06890 R06892 R06893 R06894 R06897 R06902 R06906 R06913 \\n            R06914 R06915 R06916 R06918 R06923 R06924 R06926 R06928 \\n            R06934 R06935 R06936 R06939 R06940 R06942 R06945 R06946 \\n            R06947 R06957 R06966 R06967 R06968 R06969 R06970 R06971 \\n            R06972 R06979 R06980 R07000 R07001 R07013 R07014 R07016 \\n            R07020 R07021 R07022 R07027 R07031 R07032 R07034 R07035 \\n            R07036 R07037 R07041 R07044 R07045 R07046 R07048 R07050 \\n            R07051 R07052 R07054 R07055 R07056 R07063 R07064 R07066 \\n            R07067 R07068 R07071 R07072 R07075 R07079 R07080 R07081 \\n            R07082 R07084 R07085 R07087 R07088 R07089 R07090 R07095 \\n            R07096 R07097 R07098 R07099 R07101 R07105 R07107 R07108 \\n            R07109 R07110 R07111 R07112 R07117 R07121 R07122 R07124 \\n            R07150 R07156 R07157 R07158 R07159 R07164 R07165 R07166 \\n            R07167 R07170 R07178 R07179 R07190 R07191 R07192 R07193 \\n            R07194 R07195 R07196 R07197 R07198 R07201 R07202 R07203 \\n            R07204 R07205 R07206 R07207 R07208 R07209 R07210 R07214 \\n            R07215 R07216 R07217 R07218 R07220 R07221 R07222 R07224 \\n            R07225 R07226 R07227 R07228 R07229 R07250 R07251 R07253 \\n            R07262 R07263 R07280 R07291 R07292 R07293 R07294 R07296 \\n            R07297 R07298 R07299 R07300 R07301 R07303 R07306 R07307 \\n            R07308 R07309 R07310 R07311 R07314 R07317 R07318 R07323 \\n            R07342 R07343 R07353 R07356 R07357 R07360 R07365 R07366 \\n            R07367 R07368 R07369 R07370 R07371 R07372 R07373 R07374 \\n            R07379 R07380 R07381 R07383 R07385 R07387 R07388 R07392 \\n            R07394 R07395 R07398 R07399 R07400 R07401 R07402 R07403 \\n            R07409 R07411 R07412 R07413 R07415 R07417 R07418 R07419 \\n            R07421 R07422 R07423 R07430 R07431 R07440 R07441 R07442 \\n            R07445 R07446 R07448 R07450 R07451 R07452 R07453 R07454 \\n            R07455 R07456 R07457 R07458 R07467 R07470 R07471 R07474 \\n            R07486 R07489 R07491 R07506 R07509 R07513 R07514 R07515 \\n            R07516 R07518 R07519 R07522 R07525 R07526 R07528 R07530 \\n            R07531 R07532 R07536 R07537 R07538 R07539 R07543 R07557 \\n            R07558 R07559 R07561 R07562 R07563 R07564 R07565 R07566 \\n            R07567 R07568 R07569 R07570 R07571 R07572 R07573 R07582 \\n            R07583 R07584 R07597 R07598 R07606 R07607 R07608 R07612 \\n            R07613 R07626 R07627 R07629 R07631 R07632 R07634 R07638 \\n            R07647 R07651 R07654 R07662 R07665 R07666 R07667 R07669 \\n            R07670 R07674 R07677 R07680 R07685 R07692 R07708 R07709 \\n            R07710 R07711 R07712 R07713 R07714 R07715 R07723 R07727 \\n            R07728 R07734 R07738 R07745 R07746 R07748 R07752 R07760 \\n            R07764 R07772 R07776 R07777 R07778 R07779 R07780 R07782 \\n            R07786 R07787 R07791 R07792 R07795 R07800 R07802 R07805 \\n            R07806 R07807 R07808 R07809 R07810 R07811 R07812 R07813 \\n            R07814 R07816 R07817 R07818 R07819 R07820 R07821 R07822 \\n            R07823 R07824 R07825 R07831 R07835 R07836 R07837 R07850 \\n            R07851 R07854 R07855 R07859 R07860 R07861 R07863 R07865 \\n            R07867 R07871 R07881 R07889 R07893 R07897 R07902 R07918 \\n            R07933 R07935 R07939 R07942 R07946 R07947 R07951 R07954 \\n            R07955 R07956 R07957 R07958 R07959 R07960 R07961 R07962 \\n            R07963 R07964 R07965 R07966 R07967 R07968 R07969 R07970 \\n            R07971 R07972 R07973 R07974 R07975 R07976 R07977 R07978 \\n            R07979 R07980 R07981 R07982 R07983 R07984 R07986 R08002 \\n            R08005 R08008 R08009 R08010 R08014 R08015 R08016 R08017 \\n            R08018 R08019 R08020 R08032 R08037 R08038 R08042 R08043 \\n            R08044 R08045 R08046 R08047 R08053 R08054 R08055 R08056 \\n            R08058 R08060 R08061 R08062 R08063 R08064 R08066 R08068 \\n            R08069 R08070 R08071 R08072 R08073 R08074 R08079 R08080 \\n            R08081 R08082 R08086 R08087 R08093 R08096 R08097 R08118 \\n            R08120 R08121 R08125 R08127 R08144 R08146 R08148 R08149 \\n            R08150 R08152 R08153 R08157 R08158 R08159 R08160 R08161 \\n            R08162 R08163 R08168 R08170 R08173 R08174 R08175 R08176 \\n            R08177 R08178 R08179 R08180 R08181 R08182 R08183 R08184 \\n            R08185 R08186 R08187 R08188 R08189 R08190 R08191 R08192 \\n            R08200 R08203 R08204 R08205 R08206 R08207 R08210 R08211 \\n            R08212 R08220 R08221 R08224 R08225 R08227 R08228 R08235 \\n            R08240 R08243 R08244 R08249 R08251 R08253 R08254 R08255 \\n            R08257 R08258 R08260 R08264 R08265 R08266 R08267 R08270 \\n            R08271 R08273 R08274 R08275 R08280 R08282 R08283 R08285 \\n            R08294 R08295 R08300 R08303 R08304 R08305 R08307 R08311 \\n            R08312 R08313 R08314 R08325 R08326 R08327 R08331 R08332 \\n            R08346 R08347 R08348 R08349 R08350 R08351 R08360 R08362 \\n            R08363 R08364 R08365 R08374 R08384 R08385 R08388 R08390 \\n            R08391 R08392 R08396 R08403 R08408 R08436 R08440 R08448 \\n            R08451 R08462 R08505 R08517 R08518 R08522 R08523 R08527 \\n            R08529 R08543 R08548 R08555 R08569 R08571 R08587 R08600 \\n            R08601 R08602 R08603 R08604 R08607 R08608 R08610 R08612 \\n            R08613 R08614 R08615 R08619 R08623 R08627 R08631 R08637 \\n            R08640 R08644 R08650 R08652 R08653 R08654 R08655 R08658 \\n            R08659 R08660 R08663 R08664 R08665 R08666 R08667 R08670 \\n            R08672 R08673 R08674 R08675 R08678 R08680 R08684 R08685 \\n            R08686 R08689 R08697 R08698 R08701 R08702 R08707 R08715 \\n            R08717 R08718 R08725 R08726 R08727 R08757 R08760 R08761 \\n            R08762 R08764 R08766 R08767 R08768 R08770 R08784 R08785 \\n            R08790 R08796 R08797 R08807 R08808 R08809 R08810 R08815 \\n            R08818 R08820 R08821 R08825 R08826 R08827 R08828 R08831 \\n            R08832 R08834 R08835 R08837 R08838 R08840 R08841 R08850 \\n            R08851 R08852 R08853 R08854 R08855 R08863 R08870 R08872 \\n            R08874 R08876 R08895 R08899 R08901 R08908 R08912 R08913 \\n            R08922 R08923 R08925 R08930 R08941 R08942 R08943 R08949 \\n            R08961 R08965 R08970 R08974 R08975 R08979 R08981 R08982 \\n            R08991 R08992 R08993 R08997 R08998 R08999 R09002 R09038 \\n            R09039 R09042 R09048 R09053 R09054 R09059 R09060 R09061 \\n            R09068 R09071 R09074 R09075 R09076 R09077 R09079 R09080 \\n            R09083 R09093 R09098 R09099 R09105 R09107 R09122 R09126 \\n            R09136 R09140 R09141 R09148 R09151 R09152 R09156 R09157 \\n            R09167 R09168 R09169 R09171 R09174 R09178 R09186 R09187 \\n            R09190 R09195 R09198 R09211 R09220 R09222 R09226 R09230 \\n            R09231 R09232 R09234 R09235 R09238 R09240 R09241 R09242 \\n            R09243 R09265 R09266 R09267 R09268 R09269 R09273 R09275 \\n            R09277 R09282 R09285 R09287 R09288 R09305 R09308 R09311 \\n            R09313 R09314 R09317 R09323 R09327 R09337 R09338 R09342 \\n            R09344 R09364 R09366 R09367 R09372 R09374 R09377 R09385 \\n            R09387 R09389 R09390 R09393 R09403 R09404 R09405 R09406 \\n            R09407 R09408 R09410 R09416 R09417 R09418 R09421 R09423 \\n            R09424 R09425 R09435 R09436 R09441 R09442 R09443 R09445 \\n            R09446 R09447 R09450 R09451 R09452 R09453 R09454 R09460 \\n            R09461 R09464 R09465 R09471 R09472 R09473 R09487 R09492 \\n            R09493 R09495 R09497 R09498 R09500 R09501 R09503 R09504 \\n            R09505 R09507 R09513 R09514 R09515 R09516 R09517 R09518 \\n            R09519 R09526 R09532 R09533 R09534 R09535 R09536 R09537 \\n            R09538 R09540 R09545 R09548 R09549 R09554 R09555 R09556 \\n            R09562 R09563 R09564 R09566 R09567 R09568 R09570 R09571 \\n            R09573 R09575 R09576 R09577 R09578 R09579 R09580 R09581 \\n            R09583 R09584 R09585 R09586 R09587 R09597 R09598 R09599 \\n            R09602 R09604 R09605 R09617 R09618 R09628 R09629 R09630 \\n            R09640 R09643 R09644 R09645 R09646 R09647 R09648 R09649 \\n            R09650 R09651 R09657 R09660 R09661 R09664 R09671 R09672 \\n            R09673 R09674 R09680 R09686 R09694 R09696 R09697 R09698 \\n            R09699 R09700 R09701 R09702 R09721 R09722 R09723 R09724 \\n            R09725 R09727 R09728 R09735 R09740 R09741 R09743 R09747 \\n            R09751 R09771 R09779 R09783 R09784 R09785 R09786 R09787 \\n            R09788 R09789 R09790 R09795 R09796 R09798 R09799 R09800 \\n            R09801 R09805 R09809 R09812 R09813 R09814 R09815 R09816 \\n            R09817 R09818 R09819 R09820 R09826 R09827 R09830 R09831 \\n            R09832 R09833 R09834 R09835 R09836 R09838 R09840 R09841 \\n            R09845 R09846 R09859 R09860 R09861 R09862 R09863 R09864 \\n            R09865 R09866 R09867 R09868 R09874 R09875 R09876 R09877 \\n            R09879 R09880 R09881 R09882 R09883 R09891 R09896 R09898 \\n            R09921 R09922 R09923 R09924 R09925 R09934 R09935 R09938 \\n            R09947 R09948 R09949 R09950 R09959 R09960 R09964 R09967 \\n            R09968 R09973 R09978 R09980 R09981 R09983 R09991 R09992 \\n            R09993 R10012 R10013 R10023 R10024 R10025 R10026 R10027 \\n            R10028 R10029 R10031 R10032 R10033 R10035 R10036 R10038 \\n            R10039 R10040 R10042 R10043 R10044 R10045 R10046 R10047 \\n            R10051 R10055 R10057 R10066 R10067 R10068 R10069 R10070 \\n            R10072 R10073 R10076 R10077 R10078 R10080 R10082 R10086 \\n            R10088 R10089 R10092 R10101 R10102 R10103 R10105 R10106 \\n            R10107 R10108 R10117 R10121 R10123 R10127 R10133 R10134 \\n            R10135 R10143 R10145 R10146 R10147 R10151 R10154 R10155 \\n            R10158 R10162 R10164 R10181 R10186 R10187 R10193 R10203 \\n            R10205 R10206 R10208 R10210 R10211 R10212 R10216 R10223 \\n            R10224 R10230 R10231 R10232 R10233 R10234 R10235 R10238 \\n            R10239 R10241 R10245 R10247 R10258 R10260 R10266 R10269 \\n            R10270 R10274 R10301 R10304 R10313 R10314 R10315 R10316 \\n            R10317 R10318 R10319 R10320 R10321 R10322 R10323 R10324 \\n            R10344 R10345 R10346 R10347 R10348 R10350 R10351 R10356 \\n            R10357 R10358 R10359 R10361 R10362 R10366 R10367 R10368 \\n            R10371 R10373 R10376 R10379 R10381 R10388 R10389 R10392 \\n            R10393 R10395 R10396 R10398 R10401 R10402 R10414 R10415 \\n            R10416 R10437 R10442 R10443 R10444 R10445 R10463 R10466 \\n            R10467 R10468 R10469 R10470 R10475 R10476 R10477 R10478 \\n            R10479 R10485 R10486 R10493 R10496 R10500 R10510 R10511 \\n            R10515 R10517 R10518 R10530 R10531 R10532 R10533 R10534 \\n            R10535 R10538 R10540 R10541 R10545 R10546 R10547 R10551 \\n            R10552 R10553 R10562 R10579 R10580 R10581 R10582 R10583 \\n            R10589 R10591 R10602 R10604 R10612 R10615 R10617 R10621 \\n            R10622 R10626 R10627 R10628 R10630 R10633 R10634 R10637 \\n            R10656 R10662 R10663 R10664 R10666 R10667 R10668 R10669 \\n            R10670 R10671 R10672 R10675 R10682 R10683 R10684 R10685 \\n            R10687 R10688 R10689 R10691 R10692 R10694 R10695 R10696 \\n            R10701 R10702 R10704 R10705 R10711 R10720 R10721 R10725 \\n            R10728 R10731 R10740 R10741 R10747 R10748 R10752 R10761 \\n            R10762 R10763 R10767 R10768 R10773 R10775 R10776 R10777 \\n            R10778 R10782 R10784 R10789 R10790 R10791 R10792 R10793 \\n            R10794 R10795 R10796 R10803 R10809 R10814 R10815 R10816 \\n            R10827 R10830 R10831 R10854 R10856 R10858 R10859 R10860 \\n            R10861 R10862 R10867 R10875 R10877 R10878 R10879 R10880 \\n            R10882 R10891 R10897 R10899 R10905 R10911 R10912 R10914 \\n            R10915 R10921 R10922 R10923 R10924 R10925 R10926 R10927 \\n            R10928 R10933 R10935 R10936 R10945 R10947 R10950 R10952 \\n            R10954 R10960 R10965 R10972 R10973 R10974 R10975 R10976 \\n            R10978 R10980 R10982 R10983 R10999 R11000 R11001 R11002 \\n            R11003 R11004 R11005 R11006 R11007 R11008 R11009 R11010 \\n            R11011 R11012 R11013 R11014 R11015 R11017 R11018 R11021 \\n            R11022 R11031 R11032 R11043 R11044 R11049 R11054 R11055 \\n            R11056 R11057 R11058 R11059 R11060 R11072 R11075 R11076 \\n            R11077 R11094 R11095 R11097 R11098 R11099 R11104 R11105 \\n            R11106 R11107 R11108 R11109 R11110 R11111 R11113 R11116 \\n            R11121 R11124 R11125 R11132 R11133 R11134 R11135 R11136 \\n            R11142 R11148 R11149 R11150 R11151 R11152 R11153 R11155 \\n            R11156 R11157 R11158 R11161 R11162 R11163 R11164 R11166 \\n            R11168 R11173 R11176 R11177 R11178 R11179 R11180 R11181 \\n            R11187 R11188 R11189 R11190 R11194 R11195 R11197 R11198 \\n            R11202 R11208 R11209 R11210 R11211 R11212 R11214 R11222 \\n            R11227 R11228 R11231 R11232 R11233 R11240 R11242 R11251 \\n            R11256 R11257 R11258 R11259 R11261 R11262 R11263 R11274 \\n            R11275 R11279 R11281 R11283 R11307 R11313 R11316 R11317 \\n            R11323 R11324 R11325 R11326 R11335 R11346 R11347 R11348 \\n            R11349 R11350 R11351 R11352 R11354 R11355 R11356 R11357 \\n            R11358 R11359 R11360 R11361 R11368 R11372 R11373 R11374 \\n            R11382 R11383 R11384 R11385 R11387 R11393 R11401 R11403 \\n            R11404 R11405 R11410 R11412 R11424 R11425 R11435 R11439 \\n            R11440 R11445 R11446 R11447 R11448 R11449 R11450 R11451 \\n            R11454 R11455 R11456 R11457 R11458 R11459 R11463 R11468 \\n            R11471 R11473 R11477 R11478 R11482 R11483 R11484 R11487 \\n            R11493 R11494 R11495 R11496 R11501 R11502 R11503 R11506 \\n            R11510 R11511 R11512 R11513 R11515 R11522 R11524 R11525 \\n            R11526 R11527 R11531 R11532 R11540 R11541 R11542 R11543 \\n            R11544 R11551 R11552 R11559 R11560 R11561 R11562 R11563 \\n            R11564 R11565 R11566 R11568 R11569 R11578 R11579 R11583 \\n            R11590 R11592 R11597 R11598 R11604 R11615 R11616 R11617 \\n            R11619 R11622 R11625 R11627 R11628 R11633 R11634 R11635 \\n            R11636 R11639 R11640 R11641 R11642 R11643 R11644 R11645 \\n            R11646 R11647 R11648 R11649 R11650 R11651 R11652 R11653 \\n            R11655 R11656 R11657 R11658 R11660 R11663 R11664 R11666 \\n            R11667 R11677 R11678 R11680 R11682 R11684 R11687 R11688 \\n            R11690 R11693 R11694 R11708 R11709 R11710 R11711 R11712 \\n            R11713 R11730 R11732 R11733 R11734 R11735 R11736 R11737 \\n            R11738 R11739 R11741 R11742 R11743 R11744 R11745 R11747 \\n            R11768 R11771 R11785 R11786 R11787 R11788 R11789 R11790 \\n            R11791 R11792 R11793 R11794 R11795 R11804 R11805 R11806 \\n            R11807 R11808 R11809 R11810 R11811 R11812 R11813 R11814 \\n            R11815 R11816 R11817 R11819 R11820 R11821 R11822 R11828 \\n            R11831 R11832 R11834 R11835 R11836 R11837 R11838 R11839 \\n            R11840 R11841 R11847 R11848 R11849 R11852 R11864 R11865 \\n            R11875 R11878 R11880 R11881 R11882 R11886 R11889 R11893 \\n            R11896 R11901 R11903 R11904 R11906 R11911 R11912 R11913 \\n            R11914 R11916 R11917 R11918 R11930 R11941 R11942 R11947 \\n            R11949 R11951 R11952 R11958 R11960 R11961 R11962 R11963 \\n            R11964 R11965 R11971 R11973 R11974 R11975 R11976 R11977 \\n            R11978 R11979 R11980 R11981 R11982 R11983 R11984 R11985 \\n            R11986 R11987 R11988 R11989 R11990 R11991 R11992 R11993 \\n            R12007 R12008 R12009 R12010 R12013 R12015 R12016 R12018 \\n            R12019 R12020 R12021 R12022 R12023 R12024 R12026 R12027 \\n            R12028 R12029 R12030 R12031 R12032 R12033 R12034 R12048 \\n            R12051 R12052 R12053 R12058 R12067 R12068 R12069 R12070 \\n            R12071 R12072 R12073 R12074 R12076 R12081 R12082 R12083 \\n            R12084 R12091 R12094 R12095 R12096 R12097 R12098 R12114 \\n            R12118 R12119 R12120 R12121 R12122 R12123 R12124 R12125 \\n            R12128 R12129 R12130 R12131 R12132 R12133 R12140 R12149 \\n            R12150 R12151 R12152 R12153 R12154 R12155 R12165 R12166 \\n            R12167 R12168 R12169 R12170 R12171 R12172 R12173 R12176 \\n            R12177 R12178 R12181 R12182 R12185 R12188 R12196 R12198 \\n            R12199 R12201 R12203 R12204 R12205 R12208 R12209 R12215 \\n            R12218 R12219 R12223 R12224 R12225 R12226 R12227 R12228 \\n            R12229 R12230 R12231 R12232 R12233 R12234 R12237 R12248 \\n            R12249 R12250 R12251 R12253 R12259 R12265 R12266 R12267 \\n            R12268 R12270 R12271 R12273 R12274 R12275 R12276 R12277 \\n            R12278 R12279 R12282 R12283 R12284 R12285 R12286 R12301 \\n            R12307 R12317 R12318 R12319 R12320 R12321 R12322 R12323 \\n            R12324 R12325 R12326 R12328 R12329 R12332 R12333 R12337 \\n            R12345 R12346 R12347 R12352 R12355 R12357 R12358 R12359 \\n            R12360 R12364 R12367 R12368 R12369 R12370 R12372 R12373 \\n            R12374 R12377 R12378 R12379 R12380 R12381 R12390 R12391 \\n            R12392 R12403 R12407 R12408 R12412 R12416 R12417 R12418 \\n            R12419 R12441 R12442 R12444 R12445 R12446 R12448 R12454 \\n            R12455 R12456 R12462 R12463 R12464 R12467 R12468 R12473 \\n            R12474 R12475 R12476 R12477 R12478 R12479 R12487 R12488 \\n            R12489 R12499 R12500 R12505 R12511 R12512 R12513 R12514 \\n            R12515 R12516 R12531 R12532 R12533 R12537 R12539 R12544 \\n            R12546 R12550 R12557 R12559 R12564 R12565 R12566 R12567 \\n            R12570 R12571 R12578 R12579 R12580 R12583 R12585 R12587 \\n            R12588 R12589 R12590 R12591 R12592 R12595 R12602 R12603 \\n            R12611 R12617 R12618 R12619 R12621 R12623 R12624 R12625 \\n            R12631 R12634 R12635 R12652 R12653 R12658 R12659 R12660 \\n            R12661 R12670 R12671 R12672 R12673 R12674 R12675 R12676 \\n            R12677 R12678 R12679 R12682 R12683 R12684 R12686 R12688 \\n            R12692 R12693 R12700 R12706 R12707 R12710 R12711 R12712 \\n            R12714 R12715 R12716 R12717 R12746 R12748 R12749 R12755 \\n            R12761 R12762 R12795 R12796 R12797 R12798 R12801 R12802 \\n            R12827 R12828 R12831 R12832 R12833 R12834 R12846 R12847 \\n            R12857 R12858 R12877 R12878 R12879 R12894 R12896 R12907 \\n            R12908 R12909 R12910 R12911 R12912 R12913 R12915 R12917 \\n            R12918 R12921 R12922 R12923 R12924 R12925 R12926 R12927 \\n            R12937 R12939 R12941 R12942 R12943 R12949 R12950 R12952 \\n            R12953 R12955 R12956 R12958 R12959 R12961 R12963 R12965 \\n            R12969 R12970 R12974 R12975 R12977 R12983 R12987 R12988 \\n            R12989 R12990 R13013 R13014 R13016 R13017 R13018 R13019 \\n            R13020 R13021 R13022 R13023 R13025 R13026 R13027 R13028 \\n            R13029 R13031 R13032 R13038 R13043 R13044 R13045 R13046 \\n            R13051 R13052 R13058 R13059 R13063 R13064 R13065 R13076 \\n            R13077 R13079 R13080 R13081 R13082 R13085 R13090 R13092 \\n            R13100 R13101 R13108 R13110 R13114 R13115 R13117 R13118 \\n            R13119 R13120 R13126 R13127 R13128 R13139 R13141 R13142 \\n            R13148\\nPATHWAY     map00190  Oxidative phosphorylation\\n            map00195  Photosynthesis\\n            map00710  Carbon fixation in photosynthetic organisms\\n            map01100  Metabolic pathways\\n            map01120  Microbial metabolism in diverse environments\\n            map04918  Thyroid hormone synthesis\\n            map04924  Renin secretion\\n            map04962  Vasopressin-regulated water reabsorption\\n            map04964  Proximal tubule bicarbonate reclamation\\n            map04966  Collecting duct acid secretion\\n            map04970  Salivary secretion\\n            map04971  Gastric acid secretion\\n            map04972  Pancreatic secretion\\n            map04976  Bile secretion\\n            map05014  Amyotrophic lateral sclerosis\\n            map05022  Pathways of neurodegeneration - multiple diseases\\n            map05208  Chemical carcinogenesis - reactive oxygen species\\n            map05415  Diabetic cardiomyopathy\\nMODULE      M00416  Cytochrome aa3-600 menaquinol oxidase\\nNETWORK     nt06252  Mitochondrial ROS formation\\n            nt06253  Antioxidant system\\n            nt06418  Oxidative phosphorylation\\n            nt06460  Alzheimer disease\\nENZYME      1.1.1.1         1.1.1.22        1.1.1.23        1.1.1.115       \\n            1.1.1.132       1.1.1.136       1.1.1.170       1.1.1.186       \\n            1.1.1.192       1.1.1.205       1.1.1.240       1.1.1.270       \\n            1.1.1.306       1.1.1.308       1.1.1.312       1.1.1.336       \\n            1.1.1.394       1.1.1.-         1.1.3.9         1.1.3.14        \\n            1.1.3.17        1.1.3.20        1.1.3.23        1.1.3.28        \\n            1.1.3.29        1.1.3.39        1.1.3.47        1.1.3.-         \\n            1.1.7.1         1.1.98.6        1.1.-.-         1.2.1.3         \\n            1.2.1.4         1.2.1.5         1.2.1.7         1.2.1.8         \\n            1.2.1.9         1.2.1.15        1.2.1.16        1.2.1.19        \\n            1.2.1.20        1.2.1.21        1.2.1.22        1.2.1.23        \\n            1.2.1.24        1.2.1.26        1.2.1.28        1.2.1.29        \\n            1.2.1.31        1.2.1.32        1.2.1.33        1.2.1.36        \\n            1.2.1.39        1.2.1.46        1.2.1.47        1.2.1.48        \\n            1.2.1.49        1.2.1.53        1.2.1.54        1.2.1.60        \\n            1.2.1.61        1.2.1.62        1.2.1.63        1.2.1.64        \\n            1.2.1.65        1.2.1.67        1.2.1.68        1.2.1.69        \\n            1.2.1.71        1.2.1.72        1.2.1.73        1.2.1.74        \\n            1.2.1.77        1.2.1.78        1.2.1.79        1.2.1.82        \\n            1.2.1.83        1.2.1.85        1.2.1.86        1.2.1.88        \\n            1.2.1.89        1.2.1.90        1.2.1.91        1.2.1.92        \\n            1.2.1.96        1.2.1.97        1.2.1.98        1.2.1.99        \\n            1.2.1.100       1.2.1.102       1.2.1.-         1.2.3.1         \\n            1.2.3.5         1.2.3.7         1.2.3.8         1.2.3.9         \\n            1.2.3.14        1.2.3.15        1.2.3.-         1.2.4.-         \\n            1.2.5.1         1.2.5.2         1.2.5.3         1.2.7.4         \\n            1.2.7.5         1.2.7.6         1.2.7.12        1.2.98.1        \\n            1.2.99.6        1.2.99.7        1.2.99.8        1.2.99.10       \\n            1.2.-.-         1.3.3.3         1.3.3.5         1.3.3.11        \\n            1.3.5.6         1.3.7.7         1.3.7.8         1.3.7.14        \\n            1.3.7.15        1.3.98.5        1.3.99.8        1.3.99.16       \\n            1.3.99.17       1.3.99.18       1.3.99.19       1.3.99.26       \\n            1.3.99.28       1.3.99.30       1.3.99.31       1.3.-.-         \\n            1.4.1.1         1.4.1.2         1.4.1.3         1.4.1.4         \\n            1.4.1.5         1.4.1.7         1.4.1.8         1.4.1.9         \\n            1.4.1.10        1.4.1.11        1.4.1.12        1.4.1.13        \\n            1.4.1.14        1.4.1.15        1.4.1.16        1.4.1.17        \\n            1.4.1.18        1.4.1.19        1.4.1.20        1.4.1.21        \\n            1.4.1.23        1.4.1.24        1.4.1.25        1.4.1.26        \\n            1.4.1.28        1.4.1.-         1.4.2.1         1.4.2.3         \\n            1.4.2.-         1.4.3.1         1.4.3.2         1.4.3.3         \\n            1.4.3.4         1.4.3.5         1.4.3.7         1.4.3.8         \\n            1.4.3.10        1.4.3.11        1.4.3.12        1.4.3.13        \\n            1.4.3.14        1.4.3.15        1.4.3.16        1.4.3.19        \\n            1.4.3.20        1.4.3.21        1.4.3.22        1.4.3.25        \\n            1.4.3.26        1.4.3.27        1.4.3.-         1.4.5.1         \\n            1.4.7.1         1.4.9.1         1.4.9.2         1.4.99.2        \\n            1.4.99.6        1.4.-.-         1.5.1.6         1.5.1.7         \\n            1.5.1.8         1.5.1.9         1.5.1.10        1.5.1.11        \\n            1.5.1.16        1.5.1.17        1.5.1.19        1.5.1.22        \\n            1.5.1.23        1.5.1.24        1.5.1.26        1.5.1.28        \\n            1.5.1.43        1.5.1.51        1.5.1.52        1.5.1.-         \\n            1.5.3.1         1.5.3.2         1.5.3.4         1.5.3.5         \\n            1.5.3.6         1.5.3.13        1.5.3.14        1.5.3.15        \\n            1.5.3.16        1.5.3.17        1.5.3.18        1.5.3.19        \\n            1.5.3.21        1.5.3.22        1.5.3.25        1.5.3.26        \\n            1.5.3.-         1.5.4.1         1.5.7.3         1.5.8.1         \\n            1.5.8.2         1.5.99.4        1.5.99.5        1.5.99.6        \\n            1.5.99.12       1.5.99.14       1.5.99.-        1.6.3.2         \\n            1.6.3.4         1.7.1.1         1.7.1.2         1.7.1.3         \\n            1.7.1.4         1.7.1.9         1.7.1.10        1.7.1.11        \\n            1.7.1.12        1.7.1.14        1.7.1.15        1.7.1.16        \\n            1.7.1.-         1.7.2.1         1.7.2.2         1.7.2.3         \\n            1.7.2.4         1.7.2.5         1.7.2.6         1.7.2.7         \\n            1.7.3.1         1.7.3.3         1.7.3.5         1.7.3.6         \\n            1.7.5.1         1.7.5.2         1.7.6.1         1.7.7.1         \\n            1.7.7.2         1.7.99.1        1.7.99.-        1.8.1.2         \\n            1.8.1.9         1.8.1.17        1.8.1.-         1.8.2.1         \\n            1.8.2.4         1.8.2.6         1.8.2.7         1.8.3.1         \\n            1.8.3.4         1.8.3.5         1.8.3.6         1.8.3.7         \\n            1.8.4.11        1.8.4.12        1.8.4.13        1.8.4.14        \\n            1.8.5.3         1.8.5.6         1.8.7.1         1.8.98.3        \\n            1.8.99.5        1.8.99.-        1.9.6.1         1.10.3.1        \\n            1.10.3.2        1.10.3.3        1.10.3.4        1.10.3.9        \\n            1.10.3.11       1.10.3.15       1.10.3.-        1.11.1.1        \\n            1.11.1.2        1.11.1.3        1.11.1.5        1.11.1.6        \\n            1.11.1.7        1.11.1.8        1.11.1.9        1.11.1.10       \\n            1.11.1.11       1.11.1.12       1.11.1.13       1.11.1.14       \\n            1.11.1.16       1.11.1.17       1.11.1.18       1.11.1.19       \\n            1.11.1.21       1.11.1.23       1.11.1.24       1.11.1.25       \\n            1.11.1.26       1.11.1.27       1.11.1.28       1.11.1.-        \\n            1.11.2.1        1.11.2.2        1.11.2.4        1.11.2.5        \\n            1.11.2.6        1.13.11.2       1.13.11.3       1.13.11.18      \\n            1.13.11.34      1.13.11.55      1.13.11.79      1.13.11.-       \\n            1.13.12.1       1.13.12.2       1.13.12.3       1.13.12.4       \\n            1.13.12.9       1.13.12.16      1.13.12.17      1.13.12.18      \\n            1.13.12.19      1.13.12.20      1.13.12.21      1.13.12.22      \\n            1.13.12.23      1.13.12.-       1.13.99.1       1.14.11.6       \\n            1.14.11.12      1.14.11.21      1.14.11.36      1.14.11.38      \\n            1.14.11.78      1.14.11.80      1.14.11.81      1.14.12.11      \\n            1.14.12.12      1.14.12.-       1.14.13.1       1.14.13.2       \\n            1.14.13.4       1.14.13.5       1.14.13.6       1.14.13.7       \\n            1.14.13.8       1.14.13.9       1.14.13.10      1.14.13.14      \\n            1.14.13.16      1.14.13.18      1.14.13.19      1.14.13.20      \\n            1.14.13.22      1.14.13.23      1.14.13.24      1.14.13.25      \\n            1.14.13.27      1.14.13.29      1.14.13.31      1.14.13.32      \\n            1.14.13.33      1.14.13.34      1.14.13.38      1.14.13.39      \\n            1.14.13.40      1.14.13.44      1.14.13.46      1.14.13.50      \\n            1.14.13.51      1.14.13.54      1.14.13.58      1.14.13.59      \\n            1.14.13.61      1.14.13.62      1.14.13.63      1.14.13.64      \\n            1.14.13.66      1.14.13.69      1.14.13.81      1.14.13.82      \\n            1.14.13.83      1.14.13.84      1.14.13.92      1.14.13.101     \\n            1.14.13.105     1.14.13.107     1.14.13.111     1.14.13.113     \\n            1.14.13.114     1.14.13.122     1.14.13.127     1.14.13.128     \\n            1.14.13.130     1.14.13.131     1.14.13.135     1.14.13.146     \\n            1.14.13.148     1.14.13.149     1.14.13.153     1.14.13.154     \\n            1.14.13.160     1.14.13.161     1.14.13.163     1.14.13.167     \\n            1.14.13.168     1.14.13.170     1.14.13.171     1.14.13.172     \\n            1.14.13.178     1.14.13.179     1.14.13.180     1.14.13.181     \\n            1.14.13.182     1.14.13.187     1.14.13.189     1.14.13.195     \\n            1.14.13.196     1.14.13.200     1.14.13.208     1.14.13.209     \\n            1.14.13.210     1.14.13.211     1.14.13.212     1.14.13.215     \\n            1.14.13.216     1.14.13.217     1.14.13.218     1.14.13.219     \\n            1.14.13.220     1.14.13.222     1.14.13.223     1.14.13.224     \\n            1.14.13.225     1.14.13.226     1.14.13.227     1.14.13.228     \\n            1.14.13.229     1.14.13.230     1.14.13.231     1.14.13.232     \\n            1.14.13.233     1.14.13.234     1.14.13.235     1.14.13.236     \\n            1.14.13.237     1.14.13.238     1.14.13.239     1.14.13.240     \\n            1.14.13.243     1.14.13.244     1.14.13.245     1.14.13.246     \\n            1.14.13.247     1.14.13.248     1.14.13.249     1.14.13.250     \\n            1.14.13.251     1.14.13.-       1.14.14.1       1.14.14.3       \\n            1.14.14.5       1.14.14.8       1.14.14.9       1.14.14.10      \\n            1.14.14.11      1.14.14.12      1.14.14.13      1.14.14.14      \\n            1.14.14.15      1.14.14.16      1.14.14.17      1.14.14.18      \\n            1.14.14.19      1.14.14.20      1.14.14.21      1.14.14.22      \\n            1.14.14.23      1.14.14.24      1.14.14.25      1.14.14.26      \\n            1.14.14.27      1.14.14.29      1.14.14.30      1.14.14.31      \\n            1.14.14.32      1.14.14.33      1.14.14.34      1.14.14.35      \\n            1.14.14.36      1.14.14.37      1.14.14.38      1.14.14.39      \\n            1.14.14.40      1.14.14.41      1.14.14.42      1.14.14.43      \\n            1.14.14.44      1.14.14.45      1.14.14.46      1.14.14.47      \\n            1.14.14.48      1.14.14.49      1.14.14.50      1.14.14.51      \\n            1.14.14.52      1.14.14.53      1.14.14.54      1.14.14.55      \\n            1.14.14.56      1.14.14.57      1.14.14.58      1.14.14.59      \\n            1.14.14.60      1.14.14.61      1.14.14.62      1.14.14.63      \\n            1.14.14.64      1.14.14.65      1.14.14.66      1.14.14.67      \\n            1.14.14.68      1.14.14.69      1.14.14.70      1.14.14.71      \\n            1.14.14.72      1.14.14.73      1.14.14.74      1.14.14.75      \\n            1.14.14.76      1.14.14.77      1.14.14.78      1.14.14.79      \\n            1.14.14.80      1.14.14.81      1.14.14.82      1.14.14.83      \\n            1.14.14.84      1.14.14.85      1.14.14.86      1.14.14.87      \\n            1.14.14.88      1.14.14.89      1.14.14.90      1.14.14.91      \\n            1.14.14.92      1.14.14.93      1.14.14.94      1.14.14.95      \\n            1.14.14.96      1.14.14.97      1.14.14.98      1.14.14.99      \\n            1.14.14.100     1.14.14.101     1.14.14.102     1.14.14.103     \\n            1.14.14.104     1.14.14.105     1.14.14.106     1.14.14.107     \\n            1.14.14.108     1.14.14.109     1.14.14.110     1.14.14.111     \\n            1.14.14.112     1.14.14.113     1.14.14.114     1.14.14.115     \\n            1.14.14.116     1.14.14.117     1.14.14.118     1.14.14.119     \\n            1.14.14.120     1.14.14.121     1.14.14.122     1.14.14.123     \\n            1.14.14.124     1.14.14.125     1.14.14.126     1.14.14.127     \\n            1.14.14.128     1.14.14.129     1.14.14.130     1.14.14.131     \\n            1.14.14.132     1.14.14.133     1.14.14.134     1.14.14.135     \\n            1.14.14.136     1.14.14.137     1.14.14.138     1.14.14.139     \\n            1.14.14.141     1.14.14.142     1.14.14.143     1.14.14.144     \\n            1.14.14.145     1.14.14.146     1.14.14.147     1.14.14.148     \\n            1.14.14.149     1.14.14.150     1.14.14.151     1.14.14.152     \\n            1.14.14.153     1.14.14.154     1.14.14.155     1.14.14.156     \\n            1.14.14.157     1.14.14.158     1.14.14.159     1.14.14.160     \\n            1.14.14.161     1.14.14.162     1.14.14.163     1.14.14.164     \\n            1.14.14.165     1.14.14.166     1.14.14.167     1.14.14.168     \\n            1.14.14.169     1.14.14.170     1.14.14.171     1.14.14.172     \\n            1.14.14.173     1.14.14.174     1.14.14.175     1.14.14.176     \\n            1.14.14.177     1.14.14.178     1.14.14.179     1.14.14.180     \\n            1.14.14.181     1.14.14.182     1.14.14.183     1.14.14.184     \\n            1.14.14.-       1.14.15.1       1.14.15.3       1.14.15.4       \\n            1.14.15.5       1.14.15.6       1.14.15.7       1.14.15.8       \\n            1.14.15.9       1.14.15.10      1.14.15.11      1.14.15.13      \\n            1.14.15.15      1.14.15.16      1.14.15.17      1.14.15.18      \\n            1.14.15.19      1.14.15.20      1.14.15.21      1.14.15.22      \\n            1.14.15.23      1.14.15.24      1.14.15.25      1.14.15.26      \\n            1.14.15.27      1.14.15.28      1.14.15.29      1.14.15.30      \\n            1.14.15.31      1.14.15.32      1.14.15.33      1.14.15.34      \\n            1.14.15.35      1.14.15.36      1.14.15.37      1.14.15.38      \\n            1.14.15.39      1.14.15.-       1.14.16.1       1.14.16.2       \\n            1.14.16.4       1.14.16.5       1.14.16.-       1.14.17.1       \\n            1.14.17.3       1.14.17.4       1.14.18.1       1.14.18.2       \\n            1.14.18.3       1.14.18.4       1.14.18.5       1.14.18.6       \\n            1.14.18.7       1.14.18.9       1.14.18.10      1.14.18.11      \\n            1.14.18.12      1.14.18.-       1.14.19.1       1.14.19.2       \\n            1.14.19.3       1.14.19.6       1.14.19.8       1.14.19.9       \\n            1.14.19.10      1.14.19.11      1.14.19.12      1.14.19.13      \\n            1.14.19.15      1.14.19.17      1.14.19.18      1.14.19.19      \\n            1.14.19.20      1.14.19.21      1.14.19.25      1.14.19.26      \\n            1.14.19.29      1.14.19.32      1.14.19.37      1.14.19.39      \\n            1.14.19.41      1.14.19.44      1.14.19.47      1.14.19.48      \\n            1.14.19.49      1.14.19.50      1.14.19.51      1.14.19.52      \\n            1.14.19.53      1.14.19.54      1.14.19.55      1.14.19.56      \\n            1.14.19.57      1.14.19.58      1.14.19.59      1.14.19.60      \\n            1.14.19.61      1.14.19.62      1.14.19.63      1.14.19.64      \\n            1.14.19.65      1.14.19.66      1.14.19.67      1.14.19.68      \\n            1.14.19.69      1.14.19.70      1.14.19.71      1.14.19.72      \\n            1.14.19.73      1.14.19.74      1.14.19.75      1.14.19.76      \\n            1.14.19.77      1.14.19.78      1.14.19.79      1.14.19.-       \\n            1.14.20.1       1.14.20.3       1.14.20.4       1.14.20.5       \\n            1.14.20.6       1.14.20.7       1.14.20.8       1.14.20.9       \\n            1.14.20.10      1.14.20.11      1.14.20.12      1.14.20.13      \\n            1.14.20.14      1.14.20.15      1.14.20.-       1.14.21.-       \\n            1.14.99.1       1.14.99.4       1.14.99.11      1.14.99.12      \\n            1.14.99.14      1.14.99.15      1.14.99.20      1.14.99.21      \\n            1.14.99.22      1.14.99.23      1.14.99.24      1.14.99.26      \\n            1.14.99.29      1.14.99.34      1.14.99.35      1.14.99.38      \\n            1.14.99.39      1.14.99.44      1.14.99.46      1.14.99.47      \\n            1.14.99.48      1.14.99.50      1.14.99.52      1.14.99.53      \\n            1.14.99.54      1.14.99.55      1.14.99.56      1.14.99.57      \\n            1.14.99.58      1.14.99.59      1.14.99.60      1.14.99.61      \\n            1.14.99.62      1.14.99.63      1.14.99.64      1.14.99.65      \\n            1.14.99.66      1.14.99.67      1.14.99.68      1.14.99.69      \\n            1.14.99.-       1.14.-.-        1.16.3.1        1.16.3.3        \\n            1.16.3.4        1.17.1.1        1.17.1.3        1.17.1.4        \\n            1.17.1.5        1.17.1.8        1.17.2.1        1.17.2.2        \\n            1.17.3.2        1.17.3.3        1.17.3.4        1.17.4.1        \\n            1.17.4.2        1.17.4.4        1.17.5.1        1.17.5.2        \\n            1.17.7.1        1.17.7.2        1.17.7.3        1.17.7.4        \\n            1.17.8.1        1.17.9.1        1.17.9.2        1.17.98.2       \\n            1.17.99.2       1.17.99.3       1.17.99.4       1.17.99.6       \\n            1.17.99.8       1.17.99.9       1.17.99.10      1.17.99.11      \\n            1.17.-.-        1.18.6.1        1.18.6.2        1.19.6.1        \\n            1.20.1.1        1.20.2.1        1.20.4.2        1.20.4.4        \\n            1.20.9.1        1.21.3.1        1.21.3.2        1.21.3.4        \\n            1.21.3.5        1.21.3.6        1.21.3.10       1.21.4.2        \\n            1.21.4.3        1.21.4.4        1.21.98.2       1.21.98.3       \\n            1.23.5.1        1.97.1.1        1.97.1.9        1.-.-.-         \\n            2.1.1.90        2.1.1.137       2.1.1.152       2.1.1.246       \\n            2.1.1.-         2.1.2.1         2.1.2.2         2.1.2.7         \\n            2.1.2.8         2.1.2.10        2.1.2.11        2.3.1.74        \\n            2.3.1.85        2.3.1.86        2.3.1.89        2.3.1.94        \\n            2.3.1.111       2.3.1.117       2.3.1.159       2.3.1.161       \\n            2.3.1.164       2.3.1.165       2.3.1.169       2.3.1.170       \\n            2.3.1.211       2.3.1.212       2.3.1.216       2.3.1.217       \\n            2.3.1.219       2.3.1.221       2.3.1.226       2.3.1.230       \\n            2.3.1.233       2.3.1.235       2.3.1.236       2.3.1.237       \\n            2.3.1.239       2.3.1.240       2.3.1.244       2.3.1.246       \\n            2.3.1.252       2.3.1.261       2.3.1.281       2.3.1.286       \\n            2.3.1.287       2.3.1.289       2.3.1.290       2.3.1.-         \\n            2.3.2.2         2.3.2.-         2.3.3.1         2.3.3.2         \\n            2.3.3.3         2.3.3.4         2.3.3.5         2.3.3.6         \\n            2.3.3.7         2.3.3.9         2.3.3.10        2.3.3.11        \\n            2.3.3.12        2.3.3.13        2.3.3.14        2.3.3.16        \\n            2.3.3.17        2.3.3.18        2.3.3.19        2.3.3.20        \\n            2.3.3.21        2.3.3.-         2.4.1.17        2.4.1.139       \\n            2.4.2.14        2.4.2.59        2.4.2.60        2.5.1.6         \\n            2.5.1.15        2.5.1.18        2.5.1.48        2.5.1.54        \\n            2.5.1.55        2.5.1.56        2.5.1.57        2.5.1.61        \\n            2.5.1.72        2.5.1.78        2.5.1.97        2.5.1.101       \\n            2.5.1.120       2.5.1.132       2.5.1.141       2.5.1.149       \\n            2.5.1.150       2.5.1.-         2.6.1.7         2.6.1.13        \\n            2.6.1.63        2.6.1.82        2.6.1.83        2.6.1.85        \\n            2.6.1.114       2.6.1.121       2.6.1.123       2.6.99.2        \\n            2.7.1.170       2.7.1.232       2.7.1.238       2.7.2.2         \\n            2.7.3.13        2.7.7.87        2.7.9.2         2.7.9.3         \\n            2.7.9.6         2.8.1.9         2.8.1.10        2.8.1.16        \\n            2.8.3.-         2.9.1.2         2.9.1.3         2.10.1.1        \\n            3.1.1.1         3.1.1.2         3.1.1.3         3.1.1.4         \\n            3.1.1.5         3.1.1.6         3.1.1.7         3.1.1.8         \\n            3.1.1.10        3.1.1.11        3.1.1.13        3.1.1.14        \\n            3.1.1.15        3.1.1.17        3.1.1.19        3.1.1.20        \\n            3.1.1.22        3.1.1.23        3.1.1.24        3.1.1.25        \\n            3.1.1.26        3.1.1.27        3.1.1.28        3.1.1.29        \\n            3.1.1.30        3.1.1.31        3.1.1.32        3.1.1.33        \\n            3.1.1.34        3.1.1.35        3.1.1.36        3.1.1.37        \\n            3.1.1.38        3.1.1.39        3.1.1.40        3.1.1.41        \\n            3.1.1.42        3.1.1.43        3.1.1.44        3.1.1.45        \\n            3.1.1.46        3.1.1.47        3.1.1.48        3.1.1.49        \\n            3.1.1.50        3.1.1.51        3.1.1.52        3.1.1.53        \\n            3.1.1.54        3.1.1.55        3.1.1.56        3.1.1.57        \\n            3.1.1.58        3.1.1.59        3.1.1.60        3.1.1.61        \\n            3.1.1.63        3.1.1.64        3.1.1.65        3.1.1.66        \\n            3.1.1.67        3.1.1.68        3.1.1.70        3.1.1.71        \\n            3.1.1.73        3.1.1.74        3.1.1.75        3.1.1.76        \\n            3.1.1.77        3.1.1.78        3.1.1.79        3.1.1.80        \\n            3.1.1.81        3.1.1.82        3.1.1.83        3.1.1.84        \\n            3.1.1.85        3.1.1.87        3.1.1.88        3.1.1.90        \\n            3.1.1.91        3.1.1.92        3.1.1.93        3.1.1.94        \\n            3.1.1.95        3.1.1.97        3.1.1.98        3.1.1.99        \\n            3.1.1.100       3.1.1.101       3.1.1.102       3.1.1.103       \\n            3.1.1.104       3.1.1.105       3.1.1.106       3.1.1.107       \\n            3.1.1.110       3.1.1.111       3.1.1.112       3.1.1.113       \\n            3.1.1.114       3.1.1.115       3.1.1.117       3.1.1.118       \\n            3.1.1.120       3.1.1.-         3.1.2.1         3.1.2.2         \\n            3.1.2.3         3.1.2.4         3.1.2.5         3.1.2.6         \\n            3.1.2.7         3.1.2.10        3.1.2.11        3.1.2.12        \\n            3.1.2.13        3.1.2.14        3.1.2.16        3.1.2.17        \\n            3.1.2.18        3.1.2.19        3.1.2.20        3.1.2.21        \\n            3.1.2.22        3.1.2.23        3.1.2.25        3.1.2.27        \\n            3.1.2.28        3.1.2.29        3.1.2.30        3.1.2.31        \\n            3.1.2.32        3.1.2.-         3.1.3.1         3.1.3.2         \\n            3.1.3.3         3.1.3.4         3.1.3.5         3.1.3.6         \\n            3.1.3.7         3.1.3.8         3.1.3.9         3.1.3.10        \\n            3.1.3.11        3.1.3.12        3.1.3.14        3.1.3.15        \\n            3.1.3.16        3.1.3.17        3.1.3.18        3.1.3.19        \\n            3.1.3.20        3.1.3.21        3.1.3.22        3.1.3.23        \\n            3.1.3.24        3.1.3.25        3.1.3.26        3.1.3.27        \\n            3.1.3.28        3.1.3.29        3.1.3.32        3.1.3.33        \\n            3.1.3.34        3.1.3.35        3.1.3.36        3.1.3.37        \\n            3.1.3.38        3.1.3.39        3.1.3.40        3.1.3.41        \\n            3.1.3.42        3.1.3.43        3.1.3.44        3.1.3.45        \\n            3.1.3.46        3.1.3.47        3.1.3.48        3.1.3.49        \\n            3.1.3.50        3.1.3.51        3.1.3.52        3.1.3.53        \\n            3.1.3.54        3.1.3.55        3.1.3.56        3.1.3.57        \\n            3.1.3.58        3.1.3.59        3.1.3.60        3.1.3.62        \\n            3.1.3.63        3.1.3.64        3.1.3.66        3.1.3.67        \\n            3.1.3.68        3.1.3.69        3.1.3.70        3.1.3.71        \\n            3.1.3.72        3.1.3.73        3.1.3.74        3.1.3.75        \\n            3.1.3.76        3.1.3.77        3.1.3.78        3.1.3.79        \\n            3.1.3.80        3.1.3.82        3.1.3.83        3.1.3.85        \\n            3.1.3.86        3.1.3.87        3.1.3.88        3.1.3.89        \\n            3.1.3.90        3.1.3.91        3.1.3.92        3.1.3.93        \\n            3.1.3.94        3.1.3.95        3.1.3.96        3.1.3.97        \\n            3.1.3.99        3.1.3.100       3.1.3.101       3.1.3.102       \\n            3.1.3.103       3.1.3.104       3.1.3.105       3.1.3.106       \\n            3.1.3.107       3.1.3.108       3.1.3.109       3.1.3.-         \\n            3.1.4.2         3.1.4.3         3.1.4.4         3.1.4.11        \\n            3.1.4.12        3.1.4.13        3.1.4.14        3.1.4.16        \\n            3.1.4.17        3.1.4.35        3.1.4.37        3.1.4.38        \\n            3.1.4.39        3.1.4.40        3.1.4.41        3.1.4.42        \\n            3.1.4.43        3.1.4.44        3.1.4.45        3.1.4.46        \\n            3.1.4.48        3.1.4.49        3.1.4.50        3.1.4.51        \\n            3.1.4.52        3.1.4.53        3.1.4.55        3.1.4.56        \\n            3.1.4.57        3.1.4.58        3.1.4.59        3.1.4.60        \\n            3.1.4.61        3.1.4.-         3.1.5.1         3.1.6.1         \\n            3.1.6.2         3.1.6.3         3.1.6.4         3.1.6.6         \\n            3.1.6.8         3.1.6.9         3.1.6.10        3.1.6.11        \\n            3.1.6.12        3.1.6.13        3.1.6.14        3.1.6.16        \\n            3.1.6.17        3.1.6.18        3.1.6.20        3.1.6.21        \\n            3.1.6.22        3.1.7.1         3.1.7.2         3.1.7.3         \\n            3.1.7.5         3.1.7.6         3.1.7.10        3.1.7.11        \\n            3.1.7.12        3.1.7.13        3.1.8.1         3.1.8.2         \\n            3.2.1.1         3.2.1.2         3.2.1.3         3.2.1.4         \\n            3.2.1.10        3.2.1.14        3.2.1.15        3.2.1.18        \\n            3.2.1.20        3.2.1.21        3.2.1.22        3.2.1.23        \\n            3.2.1.24        3.2.1.25        3.2.1.26        3.2.1.28        \\n            3.2.1.31        3.2.1.33        3.2.1.35        3.2.1.37        \\n            3.2.1.39        3.2.1.40        3.2.1.42        3.2.1.45        \\n            3.2.1.46        3.2.1.48        3.2.1.49        3.2.1.50        \\n            3.2.1.51        3.2.1.52        3.2.1.54        3.2.1.55        \\n            3.2.1.56        3.2.1.58        3.2.1.62        3.2.1.63        \\n            3.2.1.64        3.2.1.65        3.2.1.67        3.2.1.68        \\n            3.2.1.74        3.2.1.76        3.2.1.77        3.2.1.78        \\n            3.2.1.80        3.2.1.82        3.2.1.85        3.2.1.86        \\n            3.2.1.88        3.2.1.91        3.2.1.93        3.2.1.97        \\n            3.2.1.103       3.2.1.104       3.2.1.105       3.2.1.106       \\n            3.2.1.107       3.2.1.108       3.2.1.112       3.2.1.113       \\n            3.2.1.114       3.2.1.117       3.2.1.118       3.2.1.119       \\n            3.2.1.122       3.2.1.123       3.2.1.125       3.2.1.126       \\n            3.2.1.128       3.2.1.132       3.2.1.133       3.2.1.137       \\n            3.2.1.139       3.2.1.140       3.2.1.141       3.2.1.144       \\n            3.2.1.147       3.2.1.149       3.2.1.163       3.2.1.165       \\n            3.2.1.166       3.2.1.167       3.2.1.168       3.2.1.169       \\n            3.2.1.170       3.2.1.175       3.2.1.179       3.2.1.180       \\n            3.2.1.182       3.2.1.183       3.2.1.184       3.2.1.185       \\n            3.2.1.186       3.2.1.187       3.2.1.188       3.2.1.189       \\n            3.2.1.190       3.2.1.197       3.2.1.199       3.2.1.204       \\n            3.2.1.205       3.2.1.206       3.2.1.207       3.2.1.208       \\n            3.2.1.209       3.2.1.214       3.2.1.216       3.2.1.218       \\n            3.2.1.219       3.2.1.-         3.2.2.1         3.2.2.2         \\n            3.2.2.3         3.2.2.4         3.2.2.5         3.2.2.6         \\n            3.2.2.7         3.2.2.8         3.2.2.9         3.2.2.10        \\n            3.2.2.11        3.2.2.12        3.2.2.13        3.2.2.14        \\n            3.2.2.16        3.2.2.19        3.2.2.24        3.2.2.25        \\n            3.2.2.26        3.2.2.30        3.2.-.-         3.3.2.1         \\n            3.3.2.2         3.3.2.4         3.3.2.6         3.3.2.7         \\n            3.3.2.8         3.3.2.9         3.3.2.10        3.3.2.11        \\n            3.3.2.12        3.3.2.13        3.3.2.14        3.3.2.15        \\n            3.3.2.-         3.4.11.1        3.4.11.2        3.4.11.5        \\n            3.4.11.23       3.4.13.4        3.4.13.5        3.4.13.12       \\n            3.4.13.18       3.4.13.20       3.4.13.22       3.4.13.23       \\n            3.4.13.-        3.4.14.13       3.4.14.14       3.4.15.6        \\n            3.4.17.8        3.4.17.21       3.4.17.23       3.4.17.25       \\n            3.4.19.9        3.4.19.12       3.4.19.13       3.4.19.14       \\n            3.4.19.16       3.4.22.-        3.4.24.84       3.4.-.-         \\n            3.5.1.1         3.5.1.2         3.5.1.3         3.5.1.4         \\n            3.5.1.5         3.5.1.6         3.5.1.7         3.5.1.8         \\n            3.5.1.9         3.5.1.10        3.5.1.11        3.5.1.12        \\n            3.5.1.13        3.5.1.14        3.5.1.15        3.5.1.16        \\n            3.5.1.17        3.5.1.18        3.5.1.19        3.5.1.20        \\n            3.5.1.21        3.5.1.22        3.5.1.23        3.5.1.24        \\n            3.5.1.25        3.5.1.26        3.5.1.28        3.5.1.29        \\n            3.5.1.30        3.5.1.31        3.5.1.32        3.5.1.33        \\n            3.5.1.35        3.5.1.36        3.5.1.38        3.5.1.39        \\n            3.5.1.40        3.5.1.41        3.5.1.42        3.5.1.43        \\n            3.5.1.44        3.5.1.46        3.5.1.47        3.5.1.48        \\n            3.5.1.49        3.5.1.50        3.5.1.51        3.5.1.52        \\n            3.5.1.53        3.5.1.54        3.5.1.55        3.5.1.56        \\n            3.5.1.57        3.5.1.58        3.5.1.59        3.5.1.60        \\n            3.5.1.62        3.5.1.63        3.5.1.64        3.5.1.65        \\n            3.5.1.66        3.5.1.67        3.5.1.68        3.5.1.71        \\n            3.5.1.72        3.5.1.73        3.5.1.74        3.5.1.75        \\n            3.5.1.76        3.5.1.77        3.5.1.78        3.5.1.79        \\n            3.5.1.81        3.5.1.82        3.5.1.83        3.5.1.84        \\n            3.5.1.85        3.5.1.86        3.5.1.87        3.5.1.88        \\n            3.5.1.89        3.5.1.90        3.5.1.91        3.5.1.92        \\n            3.5.1.93        3.5.1.94        3.5.1.95        3.5.1.96        \\n            3.5.1.97        3.5.1.99        3.5.1.100       3.5.1.101       \\n            3.5.1.102       3.5.1.103       3.5.1.104       3.5.1.105       \\n            3.5.1.106       3.5.1.107       3.5.1.108       3.5.1.110       \\n            3.5.1.111       3.5.1.112       3.5.1.113       3.5.1.114       \\n            3.5.1.115       3.5.1.116       3.5.1.117       3.5.1.118       \\n            3.5.1.119       3.5.1.121       3.5.1.122       3.5.1.123       \\n            3.5.1.124       3.5.1.125       3.5.1.126       3.5.1.127       \\n            3.5.1.128       3.5.1.129       3.5.1.130       3.5.1.131       \\n            3.5.1.132       3.5.1.133       3.5.1.134       3.5.1.135       \\n            3.5.1.136       3.5.1.137       3.5.1.-         3.5.2.1         \\n            3.5.2.2         3.5.2.3         3.5.2.4         3.5.2.5         \\n            3.5.2.6         3.5.2.7         3.5.2.9         3.5.2.10        \\n            3.5.2.11        3.5.2.12        3.5.2.13        3.5.2.14        \\n            3.5.2.15        3.5.2.16        3.5.2.17        3.5.2.18        \\n            3.5.2.19        3.5.2.20        3.5.2.-         3.5.3.1         \\n            3.5.3.2         3.5.3.3         3.5.3.4         3.5.3.5         \\n            3.5.3.6         3.5.3.7         3.5.3.8         3.5.3.9         \\n            3.5.3.10        3.5.3.11        3.5.3.12        3.5.3.13        \\n            3.5.3.14        3.5.3.15        3.5.3.16        3.5.3.17        \\n            3.5.3.18        3.5.3.20        3.5.3.21        3.5.3.22        \\n            3.5.3.23        3.5.3.24        3.5.3.25        3.5.3.26        \\n            3.5.3.-         3.5.4.1         3.5.4.2         3.5.4.3         \\n            3.5.4.4         3.5.4.5         3.5.4.6         3.5.4.7         \\n            3.5.4.8         3.5.4.9         3.5.4.10        3.5.4.11        \\n            3.5.4.12        3.5.4.13        3.5.4.15        3.5.4.16        \\n            3.5.4.17        3.5.4.18        3.5.4.19        3.5.4.20        \\n            3.5.4.21        3.5.4.22        3.5.4.23        3.5.4.24        \\n            3.5.4.25        3.5.4.26        3.5.4.27        3.5.4.28        \\n            3.5.4.29        3.5.4.30        3.5.4.31        3.5.4.32        \\n            3.5.4.33        3.5.4.34        3.5.4.35        3.5.4.37        \\n            3.5.4.39        3.5.4.40        3.5.4.41        3.5.4.42        \\n            3.5.4.43        3.5.4.44        3.5.4.45        3.5.4.46        \\n            3.5.4.-         3.5.5.1         3.5.5.2         3.5.5.4         \\n            3.5.5.5         3.5.5.6         3.5.5.7         3.5.5.8         \\n            3.5.5.-         3.5.99.1        3.5.99.2        3.5.99.5        \\n            3.5.99.6        3.5.99.7        3.5.99.8        3.5.99.9        \\n            3.5.99.10       3.5.99.11       3.5.99.-        3.5.-.-         \\n            3.6.1.1         3.6.1.2         3.6.1.5         3.6.1.6         \\n            3.6.1.7         3.6.1.8         3.6.1.9         3.6.1.10        \\n            3.6.1.11        3.6.1.12        3.6.1.13        3.6.1.14        \\n            3.6.1.15        3.6.1.16        3.6.1.17        3.6.1.18        \\n            3.6.1.20        3.6.1.21        3.6.1.22        3.6.1.23        \\n            3.6.1.25        3.6.1.26        3.6.1.27        3.6.1.28        \\n            3.6.1.29        3.6.1.31        3.6.1.39        3.6.1.40        \\n            3.6.1.41        3.6.1.42        3.6.1.43        3.6.1.44        \\n            3.6.1.45        3.6.1.52        3.6.1.53        3.6.1.54        \\n            3.6.1.55        3.6.1.56        3.6.1.57        3.6.1.58        \\n            3.6.1.59        3.6.1.60        3.6.1.61        3.6.1.62        \\n            3.6.1.63        3.6.1.64        3.6.1.65        3.6.1.66        \\n            3.6.1.67        3.6.1.68        3.6.1.69        3.6.1.73        \\n            3.6.1.75        3.6.1.76        3.6.1.-         3.6.2.1         \\n            3.6.2.2         3.6.5.1         3.6.5.2         3.6.5.3         \\n            3.6.5.4         3.6.5.5         3.6.5.6         3.7.1.1         \\n            3.7.1.2         3.7.1.3         3.7.1.4         3.7.1.5         \\n            3.7.1.6         3.7.1.7         3.7.1.8         3.7.1.9         \\n            3.7.1.10        3.7.1.11        3.7.1.12        3.7.1.13        \\n            3.7.1.14        3.7.1.17        3.7.1.18        3.7.1.19        \\n            3.7.1.20        3.7.1.21        3.7.1.22        3.7.1.23        \\n            3.7.1.24        3.7.1.25        3.7.1.26        3.7.1.28        \\n            3.7.1.-         3.8.1.2         3.8.1.3         3.8.1.5         \\n            3.8.1.6         3.8.1.7         3.8.1.8         3.8.1.9         \\n            3.8.1.10        3.8.1.11        3.8.1.-         3.9.1.1         \\n            3.9.1.2         3.9.1.3         3.10.1.1        3.10.1.2        \\n            3.11.1.1        3.11.1.2        3.11.1.3        3.12.1.1        \\n            3.13.1.1        3.13.1.3        3.13.1.4        3.13.1.5        \\n            3.13.1.6        3.13.1.7        3.13.1.9        3.13.2.1        \\n            3.13.2.3        4.1.1.31        4.1.1.39        4.1.1.48        \\n            4.1.1.60        4.1.1.78        4.1.1.90        4.1.1.93        \\n            4.1.1.107       4.1.1.108       4.1.1.109       4.1.1.123       \\n            4.1.1.-         4.1.2.9         4.1.2.22        4.1.2.34        \\n            4.1.2.44        4.1.2.45        4.1.2.50        4.1.2.61        \\n            4.1.2.-         4.1.3.27        4.1.3.36        4.1.3.44        \\n            4.1.3.-         4.1.99.1        4.1.99.2        4.1.99.5        \\n            4.1.99.16       4.1.99.20       4.1.99.24       4.1.99.25       \\n            4.2.1.1         4.2.1.2         4.2.1.3         4.2.1.5         \\n            4.2.1.6         4.2.1.7         4.2.1.8         4.2.1.9         \\n            4.2.1.10        4.2.1.11        4.2.1.12        4.2.1.17        \\n            4.2.1.18        4.2.1.19        4.2.1.20        4.2.1.22        \\n            4.2.1.24        4.2.1.25        4.2.1.27        4.2.1.28        \\n            4.2.1.30        4.2.1.31        4.2.1.32        4.2.1.33        \\n            4.2.1.34        4.2.1.35        4.2.1.36        4.2.1.39        \\n            4.2.1.40        4.2.1.41        4.2.1.42        4.2.1.43        \\n            4.2.1.44        4.2.1.45        4.2.1.46        4.2.1.47        \\n            4.2.1.48        4.2.1.49        4.2.1.50        4.2.1.51        \\n            4.2.1.53        4.2.1.54        4.2.1.55        4.2.1.56        \\n            4.2.1.57        4.2.1.59        4.2.1.62        4.2.1.65        \\n            4.2.1.66        4.2.1.67        4.2.1.68        4.2.1.69        \\n            4.2.1.70        4.2.1.73        4.2.1.74        4.2.1.75        \\n            4.2.1.76        4.2.1.77        4.2.1.78        4.2.1.79        \\n            4.2.1.80        4.2.1.81        4.2.1.82        4.2.1.83        \\n            4.2.1.84        4.2.1.85        4.2.1.90        4.2.1.91        \\n            4.2.1.92        4.2.1.94        4.2.1.95        4.2.1.96        \\n            4.2.1.97        4.2.1.98        4.2.1.99        4.2.1.100       \\n            4.2.1.103       4.2.1.105       4.2.1.106       4.2.1.107       \\n            4.2.1.108       4.2.1.109       4.2.1.110       4.2.1.111       \\n            4.2.1.112       4.2.1.113       4.2.1.114       4.2.1.115       \\n            4.2.1.116       4.2.1.117       4.2.1.118       4.2.1.119       \\n            4.2.1.120       4.2.1.121       4.2.1.122       4.2.1.123       \\n            4.2.1.124       4.2.1.125       4.2.1.126       4.2.1.127       \\n            4.2.1.128       4.2.1.129       4.2.1.130       4.2.1.131       \\n            4.2.1.132       4.2.1.133       4.2.1.134       4.2.1.135       \\n            4.2.1.137       4.2.1.138       4.2.1.139       4.2.1.140       \\n            4.2.1.141       4.2.1.142       4.2.1.143       4.2.1.144       \\n            4.2.1.145       4.2.1.146       4.2.1.147       4.2.1.148       \\n            4.2.1.149       4.2.1.151       4.2.1.152       4.2.1.153       \\n            4.2.1.154       4.2.1.155       4.2.1.156       4.2.1.157       \\n            4.2.1.158       4.2.1.159       4.2.1.160       4.2.1.161       \\n            4.2.1.162       4.2.1.164       4.2.1.165       4.2.1.169       \\n            4.2.1.171       4.2.1.172       4.2.1.173       4.2.1.174       \\n            4.2.1.175       4.2.1.176       4.2.1.177       4.2.1.178       \\n            4.2.1.179       4.2.1.180       4.2.1.-         4.2.3.1         \\n            4.2.3.2         4.2.3.10        4.2.3.11        4.2.3.22        \\n            4.2.3.25        4.2.3.26        4.2.3.39        4.2.3.42        \\n            4.2.3.45        4.2.3.48        4.2.3.49        4.2.3.64        \\n            4.2.3.68        4.2.3.70        4.2.3.74        4.2.3.84        \\n            4.2.3.85        4.2.3.91        4.2.3.96        4.2.3.98        \\n            4.2.3.108       4.2.3.111       4.2.3.112       4.2.3.118       \\n            4.2.3.134       4.2.3.138       4.2.3.141       4.2.3.143       \\n            4.2.3.144       4.2.3.145       4.2.3.146       4.2.3.149       \\n            4.2.3.151       4.2.3.153       4.2.3.154       4.2.3.156       \\n            4.2.3.157       4.2.3.163       4.2.3.166       4.2.3.167       \\n            4.2.3.169       4.2.3.170       4.2.3.171       4.2.3.172       \\n            4.2.3.173       4.2.3.174       4.2.3.175       4.2.3.176       \\n            4.2.3.182       4.2.3.183       4.2.3.184       4.2.3.187       \\n            4.2.3.194       4.2.3.197       4.2.3.202       4.2.3.204       \\n            4.2.3.207       4.2.3.208       4.3.1.9         4.3.1.10        \\n            4.3.1.13        4.3.1.15        4.3.1.17        4.3.1.19        \\n            4.3.2.4         4.3.2.10        4.3.2.11        4.3.3.2         \\n            4.3.3.3         4.3.3.4         4.3.3.5         4.3.3.6         \\n            4.3.3.7         4.3.3.8         4.4.1.1         4.4.1.2         \\n            4.4.1.11        4.4.1.13        4.4.1.15        4.4.1.25        \\n            4.4.1.28        4.4.1.35        4.4.1.36        4.4.1.43        \\n            4.4.1.-         4.5.1.2         4.5.1.3         4.5.1.4         \\n            4.6.1.13        4.6.1.17        4.8.1.1         4.8.1.2         \\n            4.8.1.3         4.8.1.4         4.-.-.-         5.1.1.11        \\n            5.1.1.23        5.1.3.14        6.1.2.2         6.2.1.-         \\n            6.3.2.26        6.3.2.-         6.3.3.5         6.3.3.7         \\n            6.3.4.2         6.3.4.8         6.3.4.16        6.3.4.19        \\n            6.3.4.20        6.3.4.21        6.3.4.22        6.3.5.1         \\n            6.3.5.2         6.3.5.3         6.3.5.4         6.3.5.5         \\n            6.3.5.6         6.3.5.7         6.3.5.9         6.3.5.10        \\n            6.3.5.11        6.3.5.12        6.3.5.13        6.3.5.-         \\n            6.4.1.6         6.4.1.8         6.6.1.1         6.6.1.2         \\n            6.7.1.1         7.1.1.3         7.1.1.4         7.1.1.5         \\n            7.1.1.7         7.1.1.9         7.3.2.6\\nBRITE       Therapeutic category of drugs in Japan [BR:br08301]\\n             7  Agents not mainly for therapeutic purpose\\n              71  Dispensing medicines\\n               713  Solvents\\n                7131  Purified water\\n                 D00001  Water (JP18/USP); Purified water (JP18); Purified water in containers (JP18); Water, purified (USP); Sterile purified water in containers (JP18); Water for injection (JP18); Water for injection in containers (JP18)\\n            Risk category of Japanese OTC drugs [BR:br08312]\\n             Third-class OTC drugs\\n              Inorganic and organic chemicals\\n               Water\\n                D00001  Water (JP18/USP)\\n            Drugs listed in the Japanese Pharmacopoeia [BR:br08311]\\n             Chemicals\\n              D00001  Water\\n              D00001  Purified water\\n              D00001  Purified water in containers\\n              D00001  Sterile purified Water in containers\\n              D00001  Water for injection\\n              D00001  Sterile water for injection in containers\\nDBLINKS     CAS: 7732-18-5\\n            PubChem: 3303\\n            ChEBI: 15377\\n            PDB-CCD: HOH O\\n            3DMET: B01124\\n            NIKKAJI: J43.587B\\nATOM        1\\n            1   O0  O    22.1250  -16.2017\\nBOND        0\", \"ENTRY       C00140                      Compound\\nNAME        N-Acetyl-D-glucosamine;\\n            N-Acetylchitosamine;\\n            2-Acetamido-2-deoxy-D-glucose;\\n            GlcNAc\\nFORMULA     C8H15NO6\\nEXACT_MASS  221.0899\\nMOL_WEIGHT  221.2078\\nREACTION    R00022 R01200 R01201 R01203 R01204 R01205 R01206 R01207 \\n            R01266 R04373 R05199 R05326 R06055 R06057 R06081 R06141 \\n            R07809 R07816 R08968 R09323 R09672 R09673 R09942 R10829 \\n            R10831 R11316 R11317 R12973\\nPATHWAY     map00520  Amino sugar and nucleotide sugar metabolism\\n            map01100  Metabolic pathways\\n            map01250  Biosynthesis of nucleotide sugars\\n            map02010  ABC transporters\\n            map02060  Phosphotransferase system (PTS)\\nENZYME      1.1.3.29        2.3.1.3         2.4.1.90        2.4.1.211       \\n            2.4.1.280       2.4.1.320       2.7.1.59        2.7.1.162       \\n            2.7.1.193       2.7.1.-         3.1.4.45        3.2.1.14        \\n            3.2.1.50        3.2.1.52        3.2.1.169       3.2.2.11        \\n            3.5.1.33        5.1.3.8\\nBRITE       Compounds with biological roles [BR:br08001]\\n             Carbohydrates\\n              Monosaccharides\\n               Amino sugars\\n                C00140  N-Acetyl-D-glucosamine\\nDBLINKS     CAS: 7512-17-6\\n            PubChem: 3440\\n            ChEBI: 506227\\n            PDB-CCD: NAG NDG\\n            3DMET: B04639\\n            NIKKAJI: J81.413J\\nATOM        15\\n            1   C1y C    25.5264  -17.9432\\n            2   C1y C    24.3483  -18.6258\\n            3   C1y C    25.5264  -16.5899\\n            4   C1y C    23.1874  -17.9432\\n            5   O1a O    24.3540  -19.9732\\n            6   O2x O    24.3483  -15.9074\\n            7   O1a O    26.7049  -15.9074\\n            8   C1y C    23.1874  -16.5899\\n            9   O1a O    22.0207  -18.6258\\n            10  C1b C    22.0207  -15.9074\\n            11  O1a O    20.9883  -16.7941\\n            12  N1b N    26.7624  -18.6200\\n            13  C5a C    27.9749  -17.9200\\n            14  C1a C    29.1873  -18.6200\\n            15  O5a O    27.9749  -16.6602\\nBOND        15\\n            1     1   2 1\\n            2     1   3 1\\n            3     2   4 1\\n            4     2   5 1 #Up\\n            5     3   6 1\\n            6     3   7 1 #Either\\n            7     4   8 1\\n            8     4   9 1 #Down\\n            9     8  10 1 #Up\\n            10   10  11 1\\n            11    6   8 1\\n            12    1  12 1 #Down\\n            13   12  13 1\\n            14   13  14 1\\n            15   13  15 2\", \"ENTRY       C00461                      Compound\\nNAME        Chitin;\\n            beta-1,4-Poly-N-acetyl-D-glucosamine;\\n            [1,4-(N-Acetyl-beta-D-glucosaminyl)]n;\\n            [1,4-(N-Acetyl-beta-D-glucosaminyl)]n+1\\nFORMULA     (C8H13NO5)n\\nREMARK      Same as: G10483\\nREACTION    R01206 R02333 R02334 R02335 R11660\\nPATHWAY     map00520  Amino sugar and nucleotide sugar metabolism\\n            map01100  Metabolic pathways\\nENZYME      1.14.99.53      2.4.1.16        3.2.1.14        3.5.1.41\\nDBLINKS     CAS: 1398-61-4\\n            PubChem: 3745\\n            ChEBI: 17029\\n            NIKKAJI: J209.135F\\nATOM        16\\n            1   C1y C    17.7100  -15.8200\\n            2   C1y C    17.7100  -17.2200\\n            3   C1y C    18.9224  -17.9200\\n            4   C1y C    20.1349  -17.2200\\n            5   C1x C    20.1349  -15.8200\\n            6   O2x O    18.9224  -15.1200\\n            7   C1b C    16.4976  -15.1200\\n            8   O1a O    15.3021  -15.8104\\n            9   O1a O    16.4976  -17.9200\\n            10  N1b N    21.3660  -17.9310\\n            11  O1a O    18.9224  -19.3198\\n            12  Z   *    23.4660  -13.7090\\n            13  Z   *    13.5576  -17.9200\\n            14  C5a C    22.5712  -17.2353\\n            15  C1a C    23.7535  -17.9181\\n            16  O5a O    22.5717  -15.8204\\nBOND        16\\n            1     1   2 1\\n            2     2   3 1\\n            3     3   4 1\\n            4     4   5 1\\n            5     5   6 1\\n            6     1   6 1\\n            7     1   7 1 #Up\\n            8     7   8 1\\n            9     2   9 1 #Down\\n            10    4  10 1 #Down\\n            11    3  11 1 #Up\\n            12    5  12 1 #Up\\n            13    9  13 1\\n            14   10  14 1\\n            15   14  15 1\\n            16   14  16 2\\nBRACKET     1    15.4700  -19.0400   15.4700  -17.1500\\n            1    22.2600  -13.0900   22.2600  -15.0500\\n            1  n\\n  ORIGINAL  1    1   2   3   4   5   6   7   8   9  10  11  14  15  16\\n  REPEAT    1 \", \"ENTRY       C00461                      Compound\\nNAME        Chitin;\\n            beta-1,4-Poly-N-acetyl-D-glucosamine;\\n            [1,4-(N-Acetyl-beta-D-glucosaminyl)]n;\\n            [1,4-(N-Acetyl-beta-D-glucosaminyl)]n+1\\nFORMULA     (C8H13NO5)n\\nREMARK      Same as: G10483\\nREACTION    R01206 R02333 R02334 R02335 R11660\\nPATHWAY     map00520  Amino sugar and nucleotide sugar metabolism\\n            map01100  Metabolic pathways\\nENZYME      1.14.99.53      2.4.1.16        3.2.1.14        3.5.1.41\\nDBLINKS     CAS: 1398-61-4\\n            PubChem: 3745\\n            ChEBI: 17029\\n            NIKKAJI: J209.135F\\nATOM        16\\n            1   C1y C    17.7100  -15.8200\\n            2   C1y C    17.7100  -17.2200\\n            3   C1y C    18.9224  -17.9200\\n            4   C1y C    20.1349  -17.2200\\n            5   C1x C    20.1349  -15.8200\\n            6   O2x O    18.9224  -15.1200\\n            7   C1b C    16.4976  -15.1200\\n            8   O1a O    15.3021  -15.8104\\n            9   O1a O    16.4976  -17.9200\\n            10  N1b N    21.3660  -17.9310\\n            11  O1a O    18.9224  -19.3198\\n            12  Z   *    23.4660  -13.7090\\n            13  Z   *    13.5576  -17.9200\\n            14  C5a C    22.5712  -17.2353\\n            15  C1a C    23.7535  -17.9181\\n            16  O5a O    22.5717  -15.8204\\nBOND        16\\n            1     1   2 1\\n            2     2   3 1\\n            3     3   4 1\\n            4     4   5 1\\n            5     5   6 1\\n            6     1   6 1\\n            7     1   7 1 #Up\\n            8     7   8 1\\n            9     2   9 1 #Down\\n            10    4  10 1 #Down\\n            11    3  11 1 #Up\\n            12    5  12 1 #Up\\n            13    9  13 1\\n            14   10  14 1\\n            15   14  15 1\\n            16   14  16 2\\nBRACKET     1    15.4700  -19.0400   15.4700  -17.1500\\n            1    22.2600  -13.0900   22.2600  -15.0500\\n            1  n\\n  ORIGINAL  1    1   2   3   4   5   6   7   8   9  10  11  14  15  16\\n  REPEAT    1 \"]"
            ]
          },
          "metadata": {},
          "execution_count": 16
        }
      ]
    },
    {
      "cell_type": "markdown",
      "source": [
        "### 5. Download and save a reaction image.\n",
        "\n",
        "The get_image function is to download a any image, the imput is the reaction number as rn:RXXXXX\n",
        "\n",
        "The save_image function is to save the figure in a png file. The input is a string wiht the name of the file and the extension \".png\""
      ],
      "metadata": {
        "id": "2FRRrOXHkSp_"
      }
    },
    {
      "cell_type": "code",
      "source": [
        "@time kegg_image = KEGGAPI.get_image(\"rn:R01206\")\n",
        "@time KEGGAPI.save_image(kegg_image, \"r01206.png\")"
      ],
      "metadata": {
        "colab": {
          "base_uri": "https://localhost:8080/"
        },
        "id": "kgfyp2LBIdXD",
        "outputId": "e5efa881-643a-40f6-b16a-05cd7ef894f7"
      },
      "execution_count": null,
      "outputs": [
        {
          "output_type": "stream",
          "name": "stdout",
          "text": [
            "  0.252686 seconds (206 allocations: 39.047 KiB)\n",
            "  0.017544 seconds (10.67 k allocations: 571.283 KiB, 97.37% compilation time)\n"
          ]
        },
        {
          "output_type": "execute_result",
          "data": {
            "text/plain": [
              "\"r01206.png\""
            ]
          },
          "metadata": {},
          "execution_count": 7
        }
      ]
    },
    {
      "cell_type": "markdown",
      "source": [
        "### 6. Visualization of the reaction image\n",
        "\n",
        "To visualize the saved image, load the png file with fileIO package option."
      ],
      "metadata": {
        "id": "IKOChndzl0qj"
      }
    },
    {
      "cell_type": "code",
      "source": [
        "Pkg.add(\"TestImages\")\n",
        "Pkg.add(\"Images\")\n",
        "Pkg.add(\"FileIO\")\n",
        "Pkg.add(\"Colors\")"
      ],
      "metadata": {
        "colab": {
          "base_uri": "https://localhost:8080/"
        },
        "id": "aHfUNPsBGYJ8",
        "outputId": "4b6fb831-cc83-45b8-bce4-cec5b954f2c7"
      },
      "execution_count": null,
      "outputs": [
        {
          "output_type": "stream",
          "name": "stderr",
          "text": [
            "\u001b[32m\u001b[1m   Resolving\u001b[22m\u001b[39m package versions...\n",
            "\u001b[32m\u001b[1m   Installed\u001b[22m\u001b[39m JpegTurbo_jll ─────── v2.1.91+0\n",
            "\u001b[32m\u001b[1m   Installed\u001b[22m\u001b[39m ImageIO ───────────── v0.6.7\n",
            "\u001b[32m\u001b[1m   Installed\u001b[22m\u001b[39m Adapt ─────────────── v3.6.2\n",
            "\u001b[32m\u001b[1m   Installed\u001b[22m\u001b[39m ColorTypes ────────── v0.11.4\n",
            "\u001b[32m\u001b[1m   Installed\u001b[22m\u001b[39m OffsetArrays ──────── v1.12.10\n",
            "\u001b[32m\u001b[1m   Installed\u001b[22m\u001b[39m AxisArrays ────────── v0.4.7\n",
            "\u001b[32m\u001b[1m   Installed\u001b[22m\u001b[39m TiffImages ────────── v0.6.4\n",
            "\u001b[32m\u001b[1m   Installed\u001b[22m\u001b[39m ImageCore ─────────── v0.10.1\n",
            "\u001b[32m\u001b[1m   Installed\u001b[22m\u001b[39m JpegTurbo ─────────── v0.1.3\n",
            "\u001b[32m\u001b[1m   Installed\u001b[22m\u001b[39m ImageBase ─────────── v0.1.7\n",
            "\u001b[32m\u001b[1m   Installed\u001b[22m\u001b[39m PNGFiles ──────────── v0.4.0\n",
            "\u001b[32m\u001b[1m   Installed\u001b[22m\u001b[39m Zstd_jll ──────────── v1.5.5+0\n",
            "\u001b[32m\u001b[1m   Installed\u001b[22m\u001b[39m LERC_jll ──────────── v3.0.0+1\n",
            "\u001b[32m\u001b[1m   Installed\u001b[22m\u001b[39m TensorCore ────────── v0.1.1\n",
            "\u001b[32m\u001b[1m   Installed\u001b[22m\u001b[39m IntervalSets ──────── v0.7.7\n",
            "\u001b[32m\u001b[1m   Installed\u001b[22m\u001b[39m IterTools ─────────── v1.8.0\n",
            "\u001b[32m\u001b[1m   Installed\u001b[22m\u001b[39m ImageMagick ───────── v1.3.0\n",
            "\u001b[32m\u001b[1m   Installed\u001b[22m\u001b[39m Inflate ───────────── v0.1.3\n",
            "\u001b[32m\u001b[1m   Installed\u001b[22m\u001b[39m TestImages ────────── v1.8.0\n",
            "\u001b[32m\u001b[1m   Installed\u001b[22m\u001b[39m Imath_jll ─────────── v3.1.7+0\n",
            "\u001b[32m\u001b[1m   Installed\u001b[22m\u001b[39m IndirectArrays ────── v1.0.0\n",
            "\u001b[32m\u001b[1m   Installed\u001b[22m\u001b[39m PkgVersion ────────── v0.3.2\n",
            "\u001b[32m\u001b[1m   Installed\u001b[22m\u001b[39m QOI ───────────────── v1.0.0\n",
            "\u001b[32m\u001b[1m   Installed\u001b[22m\u001b[39m FixedPointNumbers ─── v0.8.4\n",
            "\u001b[32m\u001b[1m   Installed\u001b[22m\u001b[39m Sixel ─────────────── v0.1.3\n",
            "\u001b[32m\u001b[1m   Installed\u001b[22m\u001b[39m Libtiff_jll ───────── v4.4.0+0\n",
            "\u001b[32m\u001b[1m   Installed\u001b[22m\u001b[39m ProgressMeter ─────── v1.7.2\n",
            "\u001b[32m\u001b[1m   Installed\u001b[22m\u001b[39m OpenEXR ───────────── v0.3.2\n",
            "\u001b[32m\u001b[1m   Installed\u001b[22m\u001b[39m AbstractFFTs ──────── v1.5.0\n",
            "\u001b[32m\u001b[1m   Installed\u001b[22m\u001b[39m libsixel_jll ──────── v1.10.3+0\n",
            "\u001b[32m\u001b[1m   Installed\u001b[22m\u001b[39m CEnum ─────────────── v0.4.2\n",
            "\u001b[32m\u001b[1m   Installed\u001b[22m\u001b[39m ColorVectorSpace ──── v0.10.0\n",
            "\u001b[32m\u001b[1m   Installed\u001b[22m\u001b[39m ChainRulesCore ────── v1.16.0\n",
            "\u001b[32m\u001b[1m   Installed\u001b[22m\u001b[39m FileIO ────────────── v1.16.1\n",
            "\u001b[32m\u001b[1m   Installed\u001b[22m\u001b[39m ImageMagick_jll ───── v6.9.10-12+3\n",
            "\u001b[32m\u001b[1m   Installed\u001b[22m\u001b[39m ImageMetadata ─────── v0.9.9\n",
            "\u001b[32m\u001b[1m   Installed\u001b[22m\u001b[39m MappedArrays ──────── v0.4.2\n",
            "\u001b[32m\u001b[1m   Installed\u001b[22m\u001b[39m Netpbm ────────────── v1.1.1\n",
            "\u001b[32m\u001b[1m   Installed\u001b[22m\u001b[39m ImageAxes ─────────── v0.6.11\n",
            "\u001b[32m\u001b[1m   Installed\u001b[22m\u001b[39m Colors ────────────── v0.12.10\n",
            "\u001b[32m\u001b[1m   Installed\u001b[22m\u001b[39m StackViews ────────── v0.1.1\n",
            "\u001b[32m\u001b[1m   Installed\u001b[22m\u001b[39m PaddedViews ───────── v0.5.12\n",
            "\u001b[32m\u001b[1m   Installed\u001b[22m\u001b[39m RangeArrays ───────── v0.3.2\n",
            "\u001b[32m\u001b[1m   Installed\u001b[22m\u001b[39m Distances ─────────── v0.10.9\n",
            "\u001b[32m\u001b[1m   Installed\u001b[22m\u001b[39m StringDistances ───── v0.11.2\n",
            "\u001b[32m\u001b[1m   Installed\u001b[22m\u001b[39m StatsAPI ──────────── v1.6.0\n",
            "\u001b[32m\u001b[1m   Installed\u001b[22m\u001b[39m SimpleTraits ──────── v0.9.4\n",
            "\u001b[32m\u001b[1m   Installed\u001b[22m\u001b[39m MacroTools ────────── v0.5.10\n",
            "\u001b[32m\u001b[1m   Installed\u001b[22m\u001b[39m LazyModules ───────── v0.3.1\n",
            "\u001b[32m\u001b[1m   Installed\u001b[22m\u001b[39m MosaicViews ───────── v0.3.4\n",
            "\u001b[32m\u001b[1m   Installed\u001b[22m\u001b[39m OpenEXR_jll ───────── v3.1.4+0\n",
            "\u001b[32m\u001b[1m   Installed\u001b[22m\u001b[39m libpng_jll ────────── v1.6.38+0\n",
            "\u001b[32m\u001b[1m   Installed\u001b[22m\u001b[39m DocStringExtensions ─ v0.9.3\n",
            "\u001b[32m\u001b[1m    Updating\u001b[22m\u001b[39m `~/.julia/environments/v1.8/Project.toml`\n",
            " \u001b[90m [5e47fb64] \u001b[39m\u001b[92m+ TestImages v1.8.0\u001b[39m\n",
            "\u001b[32m\u001b[1m    Updating\u001b[22m\u001b[39m `~/.julia/environments/v1.8/Manifest.toml`\n",
            " \u001b[90m [621f4979] \u001b[39m\u001b[92m+ AbstractFFTs v1.5.0\u001b[39m\n",
            " \u001b[90m [79e6a3ab] \u001b[39m\u001b[92m+ Adapt v3.6.2\u001b[39m\n",
            " \u001b[90m [39de3d68] \u001b[39m\u001b[92m+ AxisArrays v0.4.7\u001b[39m\n",
            " \u001b[90m [fa961155] \u001b[39m\u001b[92m+ CEnum v0.4.2\u001b[39m\n",
            " \u001b[90m [d360d2e6] \u001b[39m\u001b[92m+ ChainRulesCore v1.16.0\u001b[39m\n",
            " \u001b[90m [3da002f7] \u001b[39m\u001b[92m+ ColorTypes v0.11.4\u001b[39m\n",
            " \u001b[90m [c3611d14] \u001b[39m\u001b[92m+ ColorVectorSpace v0.10.0\u001b[39m\n",
            " \u001b[90m [5ae59095] \u001b[39m\u001b[92m+ Colors v0.12.10\u001b[39m\n",
            " \u001b[90m [b4f34e82] \u001b[39m\u001b[92m+ Distances v0.10.9\u001b[39m\n",
            " \u001b[90m [ffbed154] \u001b[39m\u001b[92m+ DocStringExtensions v0.9.3\u001b[39m\n",
            " \u001b[90m [5789e2e9] \u001b[39m\u001b[92m+ FileIO v1.16.1\u001b[39m\n",
            " \u001b[90m [53c48c17] \u001b[39m\u001b[92m+ FixedPointNumbers v0.8.4\u001b[39m\n",
            " \u001b[90m [2803e5a7] \u001b[39m\u001b[92m+ ImageAxes v0.6.11\u001b[39m\n",
            " \u001b[90m [c817782e] \u001b[39m\u001b[92m+ ImageBase v0.1.7\u001b[39m\n",
            " \u001b[90m [a09fc81d] \u001b[39m\u001b[92m+ ImageCore v0.10.1\u001b[39m\n",
            " \u001b[90m [82e4d734] \u001b[39m\u001b[92m+ ImageIO v0.6.7\u001b[39m\n",
            " \u001b[90m [6218d12a] \u001b[39m\u001b[92m+ ImageMagick v1.3.0\u001b[39m\n",
            " \u001b[90m [bc367c6b] \u001b[39m\u001b[92m+ ImageMetadata v0.9.9\u001b[39m\n",
            " \u001b[90m [9b13fd28] \u001b[39m\u001b[92m+ IndirectArrays v1.0.0\u001b[39m\n",
            " \u001b[90m [d25df0c9] \u001b[39m\u001b[92m+ Inflate v0.1.3\u001b[39m\n",
            " \u001b[90m [8197267c] \u001b[39m\u001b[92m+ IntervalSets v0.7.7\u001b[39m\n",
            " \u001b[90m [c8e1da08] \u001b[39m\u001b[92m+ IterTools v1.8.0\u001b[39m\n",
            " \u001b[90m [b835a17e] \u001b[39m\u001b[92m+ JpegTurbo v0.1.3\u001b[39m\n",
            " \u001b[90m [8cdb02fc] \u001b[39m\u001b[92m+ LazyModules v0.3.1\u001b[39m\n",
            " \u001b[90m [1914dd2f] \u001b[39m\u001b[92m+ MacroTools v0.5.10\u001b[39m\n",
            " \u001b[90m [dbb5928d] \u001b[39m\u001b[92m+ MappedArrays v0.4.2\u001b[39m\n",
            " \u001b[90m [e94cdb99] \u001b[39m\u001b[92m+ MosaicViews v0.3.4\u001b[39m\n",
            " \u001b[90m [f09324ee] \u001b[39m\u001b[92m+ Netpbm v1.1.1\u001b[39m\n",
            " \u001b[90m [6fe1bfb0] \u001b[39m\u001b[92m+ OffsetArrays v1.12.10\u001b[39m\n",
            " \u001b[90m [52e1d378] \u001b[39m\u001b[92m+ OpenEXR v0.3.2\u001b[39m\n",
            " \u001b[90m [f57f5aa1] \u001b[39m\u001b[92m+ PNGFiles v0.4.0\u001b[39m\n",
            " \u001b[90m [5432bcbf] \u001b[39m\u001b[92m+ PaddedViews v0.5.12\u001b[39m\n",
            " \u001b[90m [eebad327] \u001b[39m\u001b[92m+ PkgVersion v0.3.2\u001b[39m\n",
            " \u001b[90m [92933f4c] \u001b[39m\u001b[92m+ ProgressMeter v1.7.2\u001b[39m\n",
            " \u001b[90m [4b34888f] \u001b[39m\u001b[92m+ QOI v1.0.0\u001b[39m\n",
            " \u001b[90m [b3c3ace0] \u001b[39m\u001b[92m+ RangeArrays v0.3.2\u001b[39m\n",
            " \u001b[90m [699a6c99] \u001b[39m\u001b[92m+ SimpleTraits v0.9.4\u001b[39m\n",
            " \u001b[90m [45858cf5] \u001b[39m\u001b[92m+ Sixel v0.1.3\u001b[39m\n",
            " \u001b[90m [cae243ae] \u001b[39m\u001b[92m+ StackViews v0.1.1\u001b[39m\n",
            " \u001b[90m [82ae8749] \u001b[39m\u001b[92m+ StatsAPI v1.6.0\u001b[39m\n",
            " \u001b[90m [88034a9c] \u001b[39m\u001b[92m+ StringDistances v0.11.2\u001b[39m\n",
            " \u001b[90m [62fd8b95] \u001b[39m\u001b[92m+ TensorCore v0.1.1\u001b[39m\n",
            " \u001b[90m [5e47fb64] \u001b[39m\u001b[92m+ TestImages v1.8.0\u001b[39m\n",
            " \u001b[90m [731e570b] \u001b[39m\u001b[92m+ TiffImages v0.6.4\u001b[39m\n",
            "\u001b[33m⌅\u001b[39m\u001b[90m [c73af94c] \u001b[39m\u001b[92m+ ImageMagick_jll v6.9.10-12+3\u001b[39m\n",
            " \u001b[90m [905a6f67] \u001b[39m\u001b[92m+ Imath_jll v3.1.7+0\u001b[39m\n",
            " \u001b[90m [aacddb02] \u001b[39m\u001b[92m+ JpegTurbo_jll v2.1.91+0\u001b[39m\n",
            " \u001b[90m [88015f11] \u001b[39m\u001b[92m+ LERC_jll v3.0.0+1\u001b[39m\n",
            "\u001b[33m⌅\u001b[39m\u001b[90m [89763e89] \u001b[39m\u001b[92m+ Libtiff_jll v4.4.0+0\u001b[39m\n",
            " \u001b[90m [18a262bb] \u001b[39m\u001b[92m+ OpenEXR_jll v3.1.4+0\u001b[39m\n",
            " \u001b[90m [3161d3a3] \u001b[39m\u001b[92m+ Zstd_jll v1.5.5+0\u001b[39m\n",
            " \u001b[90m [b53b4c65] \u001b[39m\u001b[92m+ libpng_jll v1.6.38+0\u001b[39m\n",
            " \u001b[90m [075b6546] \u001b[39m\u001b[92m+ libsixel_jll v1.10.3+0\u001b[39m\n",
            "\u001b[36m\u001b[1m        Info\u001b[22m\u001b[39m Packages marked with \u001b[33m⌅\u001b[39m have new versions available but compatibility constraints restrict them from upgrading. To see why use `status --outdated -m`\n",
            "\u001b[32m\u001b[1mPrecompiling\u001b[22m\u001b[39m project...\n",
            "\u001b[32m  ✓ \u001b[39m\u001b[90mLazyModules\u001b[39m\n",
            "\u001b[32m  ✓ \u001b[39m\u001b[90mRangeArrays\u001b[39m\n",
            "\u001b[32m  ✓ \u001b[39m\u001b[90mIndirectArrays\u001b[39m\n",
            "\u001b[32m  ✓ \u001b[39m\u001b[90mInflate\u001b[39m\n",
            "\u001b[32m  ✓ \u001b[39m\u001b[90mIntervalSets\u001b[39m\n",
            "\u001b[32m  ✓ \u001b[39m\u001b[90mDocStringExtensions\u001b[39m\n",
            "\u001b[32m  ✓ \u001b[39m\u001b[90mAdapt\u001b[39m\n",
            "\u001b[32m  ✓ \u001b[39m\u001b[90mTensorCore\u001b[39m\n",
            "\u001b[32m  ✓ \u001b[39m\u001b[90mStatsAPI\u001b[39m\n",
            "\u001b[32m  ✓ \u001b[39m\u001b[90mIterTools\u001b[39m\n",
            "\u001b[32m  ✓ \u001b[39m\u001b[90mFixedPointNumbers\u001b[39m\n",
            "\u001b[32m  ✓ \u001b[39m\u001b[90mPkgVersion\u001b[39m\n",
            "\u001b[32m  ✓ \u001b[39m\u001b[90mProgressMeter\u001b[39m\n",
            "\u001b[32m  ✓ \u001b[39m\u001b[90mCEnum\u001b[39m\n",
            "\u001b[32m  ✓ \u001b[39m\u001b[90mMappedArrays\u001b[39m\n",
            "\u001b[32m  ✓ \u001b[39m\u001b[90mChainRulesCore\u001b[39m\n",
            "\u001b[32m  ✓ \u001b[39m\u001b[90mJpegTurbo_jll\u001b[39m\n",
            "\u001b[32m  ✓ \u001b[39m\u001b[90mMacroTools\u001b[39m\n",
            "\u001b[32m  ✓ \u001b[39m\u001b[90mlibpng_jll\u001b[39m\n",
            "\u001b[32m  ✓ \u001b[39m\u001b[90mZstd_jll\u001b[39m\n",
            "\u001b[32m  ✓ \u001b[39m\u001b[90mImath_jll\u001b[39m\n",
            "\u001b[32m  ✓ \u001b[39m\u001b[90mLERC_jll\u001b[39m\n",
            "\u001b[32m  ✓ \u001b[39m\u001b[90mDistances\u001b[39m\n",
            "\u001b[32m  ✓ \u001b[39m\u001b[90mOffsetArrays\u001b[39m\n",
            "\u001b[32m  ✓ \u001b[39m\u001b[90mFileIO\u001b[39m\n",
            "\u001b[32m  ✓ \u001b[39m\u001b[90mAxisArrays\u001b[39m\n",
            "\u001b[32m  ✓ \u001b[39m\u001b[90mAbstractFFTs\u001b[39m\n",
            "\u001b[32m  ✓ \u001b[39m\u001b[90mSimpleTraits\u001b[39m\n",
            "\u001b[32m  ✓ \u001b[39m\u001b[90mlibsixel_jll\u001b[39m\n",
            "\u001b[32m  ✓ \u001b[39m\u001b[90mOpenEXR_jll\u001b[39m\n",
            "\u001b[32m  ✓ \u001b[39m\u001b[90mColorTypes\u001b[39m\n",
            "\u001b[32m  ✓ \u001b[39m\u001b[90mLibtiff_jll\u001b[39m\n",
            "\u001b[32m  ✓ \u001b[39m\u001b[90mStringDistances\u001b[39m\n",
            "\u001b[32m  ✓ \u001b[39m\u001b[90mPaddedViews\u001b[39m\n",
            "\u001b[32m  ✓ \u001b[39m\u001b[90mStackViews\u001b[39m\n",
            "\u001b[32m  ✓ \u001b[39m\u001b[90mColorVectorSpace\u001b[39m\n",
            "\u001b[32m  ✓ \u001b[39m\u001b[90mQOI\u001b[39m\n",
            "\u001b[32m  ✓ \u001b[39m\u001b[90mColors\u001b[39m\n",
            "\u001b[32m  ✓ \u001b[39m\u001b[90mImageMagick_jll\u001b[39m\n",
            "\u001b[32m  ✓ \u001b[39m\u001b[90mMosaicViews\u001b[39m\n",
            "\u001b[32m  ✓ \u001b[39m\u001b[90mOpenEXR\u001b[39m\n",
            "\u001b[32m  ✓ \u001b[39m\u001b[90mImageCore\u001b[39m\n",
            "\u001b[32m  ✓ \u001b[39m\u001b[90mImageBase\u001b[39m\n",
            "\u001b[32m  ✓ \u001b[39m\u001b[90mPNGFiles\u001b[39m\n",
            "\u001b[32m  ✓ \u001b[39m\u001b[90mJpegTurbo\u001b[39m\n",
            "\u001b[32m  ✓ \u001b[39m\u001b[90mImageMagick\u001b[39m\n",
            "\u001b[32m  ✓ \u001b[39m\u001b[90mTiffImages\u001b[39m\n",
            "\u001b[32m  ✓ \u001b[39m\u001b[90mSixel\u001b[39m\n",
            "\u001b[32m  ✓ \u001b[39m\u001b[90mImageAxes\u001b[39m\n",
            "\u001b[32m  ✓ \u001b[39m\u001b[90mImageMetadata\u001b[39m\n",
            "\u001b[32m  ✓ \u001b[39m\u001b[90mNetpbm\u001b[39m\n",
            "\u001b[32m  ✓ \u001b[39m\u001b[90mImageIO\u001b[39m\n",
            "\u001b[32m  ✓ \u001b[39mTestImages\n",
            "  53 dependencies successfully precompiled in 110 seconds. 57 already precompiled.\n",
            "\u001b[32m\u001b[1m   Resolving\u001b[22m\u001b[39m package versions...\n",
            "\u001b[32m\u001b[1m   Installed\u001b[22m\u001b[39m TiledIteration ─────────────────── v0.5.0\n",
            "\u001b[32m\u001b[1m   Installed\u001b[22m\u001b[39m ImageSegmentation ──────────────── v1.8.2\n",
            "\u001b[32m\u001b[1m   Installed\u001b[22m\u001b[39m FFTW ───────────────────────────── v1.7.1\n",
            "\u001b[32m\u001b[1m   Installed\u001b[22m\u001b[39m HistogramThresholding ──────────── v0.3.1\n",
            "\u001b[32m\u001b[1m   Installed\u001b[22m\u001b[39m MutableArithmetics ─────────────── v1.3.0\n",
            "\u001b[32m\u001b[1m   Installed\u001b[22m\u001b[39m NearestNeighbors ───────────────── v0.4.13\n",
            "\u001b[32m\u001b[1m   Installed\u001b[22m\u001b[39m RegionTrees ────────────────────── v0.3.2\n",
            "\u001b[32m\u001b[1m   Installed\u001b[22m\u001b[39m StaticArrays ───────────────────── v1.6.2\n",
            "\u001b[32m\u001b[1m   Installed\u001b[22m\u001b[39m Images ─────────────────────────── v0.26.0\n",
            "\u001b[32m\u001b[1m   Installed\u001b[22m\u001b[39m IntelOpenMP_jll ────────────────── v2023.1.0+0\n",
            "\u001b[32m\u001b[1m   Installed\u001b[22m\u001b[39m MetaGraphs ─────────────────────── v0.7.2\n",
            "\u001b[32m\u001b[1m   Installed\u001b[22m\u001b[39m Polynomials ────────────────────── v3.2.13\n",
            "\u001b[32m\u001b[1m   Installed\u001b[22m\u001b[39m Static ─────────────────────────── v0.8.8\n",
            "\u001b[32m\u001b[1m   Installed\u001b[22m\u001b[39m SLEEFPirates ───────────────────── v0.6.39\n",
            "\u001b[32m\u001b[1m   Installed\u001b[22m\u001b[39m RealDot ────────────────────────── v0.1.0\n",
            "\u001b[32m\u001b[1m   Installed\u001b[22m\u001b[39m SIMDTypes ──────────────────────── v0.1.0\n",
            "\u001b[32m\u001b[1m   Installed\u001b[22m\u001b[39m JLD2 ───────────────────────────── v0.4.33\n",
            "\u001b[32m\u001b[1m   Installed\u001b[22m\u001b[39m IrrationalConstants ────────────── v0.2.2\n",
            "\u001b[32m\u001b[1m   Installed\u001b[22m\u001b[39m ArnoldiMethod ──────────────────── v0.2.0\n",
            "\u001b[32m\u001b[1m   Installed\u001b[22m\u001b[39m CpuId ──────────────────────────── v0.3.1\n",
            "\u001b[32m\u001b[1m   Installed\u001b[22m\u001b[39m IfElse ─────────────────────────── v0.1.1\n",
            "\u001b[32m\u001b[1m   Installed\u001b[22m\u001b[39m StaticArraysCore ───────────────── v1.4.2\n",
            "\u001b[32m\u001b[1m   Installed\u001b[22m\u001b[39m NaNMath ────────────────────────── v1.0.2\n",
            "\u001b[32m\u001b[1m   Installed\u001b[22m\u001b[39m Clustering ─────────────────────── v0.15.4\n",
            "\u001b[32m\u001b[1m   Installed\u001b[22m\u001b[39m SpecialFunctions ───────────────── v2.3.0\n",
            "\u001b[32m\u001b[1m   Installed\u001b[22m\u001b[39m ArrayInterfaceCore ─────────────── v0.1.29\n",
            "\u001b[32m\u001b[1m   Installed\u001b[22m\u001b[39m CustomUnitRanges ───────────────── v1.0.2\n",
            "\u001b[32m\u001b[1m   Installed\u001b[22m\u001b[39m ManualMemory ───────────────────── v0.1.8\n",
            "\u001b[32m\u001b[1m   Installed\u001b[22m\u001b[39m ThreadingUtilities ─────────────── v0.5.2\n",
            "\u001b[32m\u001b[1m   Installed\u001b[22m\u001b[39m SnoopPrecompile ────────────────── v1.0.3\n",
            "\u001b[32m\u001b[1m   Installed\u001b[22m\u001b[39m Graphics ───────────────────────── v1.1.2\n",
            "\u001b[32m\u001b[1m   Installed\u001b[22m\u001b[39m Ratios ─────────────────────────── v0.4.5\n",
            "\u001b[32m\u001b[1m   Installed\u001b[22m\u001b[39m ColorSchemes ───────────────────── v3.22.0\n",
            "\u001b[32m\u001b[1m   Installed\u001b[22m\u001b[39m CommonSubexpressions ───────────── v0.3.0\n",
            "\u001b[32m\u001b[1m   Installed\u001b[22m\u001b[39m Graphs ─────────────────────────── v1.8.0\n",
            "\u001b[32m\u001b[1m   Installed\u001b[22m\u001b[39m ComputationalResources ─────────── v0.3.2\n",
            "\u001b[32m\u001b[1m   Installed\u001b[22m\u001b[39m CatIndices ─────────────────────── v0.2.2\n",
            "\u001b[32m\u001b[1m   Installed\u001b[22m\u001b[39m ImageCorners ───────────────────── v0.1.3\n",
            "\u001b[32m\u001b[1m   Installed\u001b[22m\u001b[39m StaticArrayInterface ───────────── v1.4.0\n",
            "\u001b[32m\u001b[1m   Installed\u001b[22m\u001b[39m BitTwiddlingConvenienceFunctions ─ v0.1.5\n",
            "\u001b[32m\u001b[1m   Installed\u001b[22m\u001b[39m ImageTransformations ───────────── v0.10.0\n",
            "\u001b[32m\u001b[1m   Installed\u001b[22m\u001b[39m StatsBase ──────────────────────── v0.34.0\n",
            "\u001b[32m\u001b[1m   Installed\u001b[22m\u001b[39m ImageContrastAdjustment ────────── v0.3.12\n",
            "\u001b[32m\u001b[1m   Installed\u001b[22m\u001b[39m DiffRules ──────────────────────── v1.15.1\n",
            "\u001b[32m\u001b[1m   Installed\u001b[22m\u001b[39m DiffResults ────────────────────── v1.1.0\n",
            "\u001b[32m\u001b[1m   Installed\u001b[22m\u001b[39m LayoutPointers ─────────────────── v0.1.14\n",
            "\u001b[32m\u001b[1m   Installed\u001b[22m\u001b[39m ImageQualityIndexes ────────────── v0.3.7\n",
            "\u001b[32m\u001b[1m   Installed\u001b[22m\u001b[39m IntegralArrays ─────────────────── v0.1.5\n",
            "\u001b[32m\u001b[1m   Installed\u001b[22m\u001b[39m ImageShow ──────────────────────── v0.3.8\n",
            "\u001b[32m\u001b[1m   Installed\u001b[22m\u001b[39m LoopVectorization ──────────────── v0.12.165\n",
            "\u001b[32m\u001b[1m   Installed\u001b[22m\u001b[39m MKL_jll ────────────────────────── v2023.1.0+0\n",
            "\u001b[32m\u001b[1m   Installed\u001b[22m\u001b[39m CoordinateTransformations ──────── v0.6.3\n",
            "\u001b[32m\u001b[1m   Installed\u001b[22m\u001b[39m PolyesterWeave ─────────────────── v0.2.1\n",
            "\u001b[32m\u001b[1m   Installed\u001b[22m\u001b[39m ArrayInterface ─────────────────── v7.4.11\n",
            "\u001b[32m\u001b[1m   Installed\u001b[22m\u001b[39m LogExpFunctions ────────────────── v0.3.24\n",
            "\u001b[32m\u001b[1m   Installed\u001b[22m\u001b[39m CloseOpenIntervals ─────────────── v0.1.12\n",
            "\u001b[32m\u001b[1m   Installed\u001b[22m\u001b[39m Quaternions ────────────────────── v0.7.4\n",
            "\u001b[32m\u001b[1m   Installed\u001b[22m\u001b[39m OpenSpecFun_jll ────────────────── v0.5.5+0\n",
            "\u001b[32m\u001b[1m   Installed\u001b[22m\u001b[39m FFTW_jll ───────────────────────── v3.3.10+0\n",
            "\u001b[32m\u001b[1m   Installed\u001b[22m\u001b[39m Rotations ──────────────────────── v1.5.1\n",
            "\u001b[32m\u001b[1m   Installed\u001b[22m\u001b[39m UnPack ─────────────────────────── v1.0.2\n",
            "\u001b[32m\u001b[1m   Installed\u001b[22m\u001b[39m ImageFiltering ─────────────────── v0.7.7\n",
            "\u001b[32m\u001b[1m   Installed\u001b[22m\u001b[39m InverseFunctions ───────────────── v0.1.12\n",
            "\u001b[32m\u001b[1m   Installed\u001b[22m\u001b[39m MakieCore ──────────────────────── v0.6.4\n",
            "\u001b[32m\u001b[1m   Installed\u001b[22m\u001b[39m CPUSummary ─────────────────────── v0.2.3\n",
            "\u001b[32m\u001b[1m   Installed\u001b[22m\u001b[39m VectorizationBase ──────────────── v0.21.64\n",
            "\u001b[32m\u001b[1m   Installed\u001b[22m\u001b[39m ImageDistances ─────────────────── v0.2.17\n",
            "\u001b[32m\u001b[1m   Installed\u001b[22m\u001b[39m SimpleWeightedGraphs ───────────── v1.4.0\n",
            "\u001b[32m\u001b[1m   Installed\u001b[22m\u001b[39m ImageBinarization ──────────────── v0.3.0\n",
            "\u001b[32m\u001b[1m   Installed\u001b[22m\u001b[39m RecipesBase ────────────────────── v1.3.4\n",
            "\u001b[32m\u001b[1m   Installed\u001b[22m\u001b[39m AxisAlgorithms ─────────────────── v1.0.1\n",
            "\u001b[32m\u001b[1m   Installed\u001b[22m\u001b[39m HostCPUFeatures ────────────────── v0.1.15\n",
            "\u001b[32m\u001b[1m   Installed\u001b[22m\u001b[39m FFTViews ───────────────────────── v0.3.2\n",
            "\u001b[32m\u001b[1m   Installed\u001b[22m\u001b[39m ForwardDiff ────────────────────── v0.10.35\n",
            "\u001b[32m\u001b[1m   Installed\u001b[22m\u001b[39m Observables ────────────────────── v0.5.4\n",
            "\u001b[32m\u001b[1m   Installed\u001b[22m\u001b[39m Parameters ─────────────────────── v0.12.3\n",
            "\u001b[32m\u001b[1m   Installed\u001b[22m\u001b[39m WoodburyMatrices ───────────────── v0.5.5\n",
            "\u001b[32m\u001b[1m   Installed\u001b[22m\u001b[39m ChangesOfVariables ─────────────── v0.1.8\n",
            "\u001b[32m\u001b[1m   Installed\u001b[22m\u001b[39m ImageMorphology ────────────────── v0.4.5\n",
            "\u001b[32m\u001b[1m   Installed\u001b[22m\u001b[39m Interpolations ─────────────────── v0.14.7\n",
            "\u001b[32m\u001b[1m    Updating\u001b[22m\u001b[39m `~/.julia/environments/v1.8/Project.toml`\n",
            " \u001b[90m [916415d5] \u001b[39m\u001b[92m+ Images v0.26.0\u001b[39m\n",
            "\u001b[32m\u001b[1m    Updating\u001b[22m\u001b[39m `~/.julia/environments/v1.8/Manifest.toml`\n",
            " \u001b[90m [ec485272] \u001b[39m\u001b[92m+ ArnoldiMethod v0.2.0\u001b[39m\n",
            " \u001b[90m [4fba245c] \u001b[39m\u001b[92m+ ArrayInterface v7.4.11\u001b[39m\n",
            " \u001b[90m [30b0a656] \u001b[39m\u001b[92m+ ArrayInterfaceCore v0.1.29\u001b[39m\n",
            " \u001b[90m [13072b0f] \u001b[39m\u001b[92m+ AxisAlgorithms v1.0.1\u001b[39m\n",
            " \u001b[90m [62783981] \u001b[39m\u001b[92m+ BitTwiddlingConvenienceFunctions v0.1.5\u001b[39m\n",
            " \u001b[90m [2a0fbf3d] \u001b[39m\u001b[92m+ CPUSummary v0.2.3\u001b[39m\n",
            " \u001b[90m [aafaddc9] \u001b[39m\u001b[92m+ CatIndices v0.2.2\u001b[39m\n",
            " \u001b[90m [9e997f8a] \u001b[39m\u001b[92m+ ChangesOfVariables v0.1.8\u001b[39m\n",
            " \u001b[90m [fb6a15b2] \u001b[39m\u001b[92m+ CloseOpenIntervals v0.1.12\u001b[39m\n",
            " \u001b[90m [aaaa29a8] \u001b[39m\u001b[92m+ Clustering v0.15.4\u001b[39m\n",
            " \u001b[90m [35d6a980] \u001b[39m\u001b[92m+ ColorSchemes v3.22.0\u001b[39m\n",
            " \u001b[90m [bbf7d656] \u001b[39m\u001b[92m+ CommonSubexpressions v0.3.0\u001b[39m\n",
            " \u001b[90m [ed09eef8] \u001b[39m\u001b[92m+ ComputationalResources v0.3.2\u001b[39m\n",
            " \u001b[90m [150eb455] \u001b[39m\u001b[92m+ CoordinateTransformations v0.6.3\u001b[39m\n",
            " \u001b[90m [adafc99b] \u001b[39m\u001b[92m+ CpuId v0.3.1\u001b[39m\n",
            " \u001b[90m [dc8bdbbb] \u001b[39m\u001b[92m+ CustomUnitRanges v1.0.2\u001b[39m\n",
            " \u001b[90m [163ba53b] \u001b[39m\u001b[92m+ DiffResults v1.1.0\u001b[39m\n",
            " \u001b[90m [b552c78f] \u001b[39m\u001b[92m+ DiffRules v1.15.1\u001b[39m\n",
            " \u001b[90m [4f61f5a4] \u001b[39m\u001b[92m+ FFTViews v0.3.2\u001b[39m\n",
            " \u001b[90m [7a1cc6ca] \u001b[39m\u001b[92m+ FFTW v1.7.1\u001b[39m\n",
            " \u001b[90m [f6369f11] \u001b[39m\u001b[92m+ ForwardDiff v0.10.35\u001b[39m\n",
            " \u001b[90m [a2bd30eb] \u001b[39m\u001b[92m+ Graphics v1.1.2\u001b[39m\n",
            " \u001b[90m [86223c79] \u001b[39m\u001b[92m+ Graphs v1.8.0\u001b[39m\n",
            " \u001b[90m [2c695a8d] \u001b[39m\u001b[92m+ HistogramThresholding v0.3.1\u001b[39m\n",
            " \u001b[90m [3e5b6fbb] \u001b[39m\u001b[92m+ HostCPUFeatures v0.1.15\u001b[39m\n",
            " \u001b[90m [615f187c] \u001b[39m\u001b[92m+ IfElse v0.1.1\u001b[39m\n",
            " \u001b[90m [cbc4b850] \u001b[39m\u001b[92m+ ImageBinarization v0.3.0\u001b[39m\n",
            " \u001b[90m [f332f351] \u001b[39m\u001b[92m+ ImageContrastAdjustment v0.3.12\u001b[39m\n",
            " \u001b[90m [89d5987c] \u001b[39m\u001b[92m+ ImageCorners v0.1.3\u001b[39m\n",
            " \u001b[90m [51556ac3] \u001b[39m\u001b[92m+ ImageDistances v0.2.17\u001b[39m\n",
            " \u001b[90m [6a3955dd] \u001b[39m\u001b[92m+ ImageFiltering v0.7.7\u001b[39m\n",
            " \u001b[90m [787d08f9] \u001b[39m\u001b[92m+ ImageMorphology v0.4.5\u001b[39m\n",
            " \u001b[90m [2996bd0c] \u001b[39m\u001b[92m+ ImageQualityIndexes v0.3.7\u001b[39m\n",
            " \u001b[90m [80713f31] \u001b[39m\u001b[92m+ ImageSegmentation v1.8.2\u001b[39m\n",
            " \u001b[90m [4e3cecfd] \u001b[39m\u001b[92m+ ImageShow v0.3.8\u001b[39m\n",
            " \u001b[90m [02fcd773] \u001b[39m\u001b[92m+ ImageTransformations v0.10.0\u001b[39m\n",
            " \u001b[90m [916415d5] \u001b[39m\u001b[92m+ Images v0.26.0\u001b[39m\n",
            " \u001b[90m [1d092043] \u001b[39m\u001b[92m+ IntegralArrays v0.1.5\u001b[39m\n",
            " \u001b[90m [a98d9a8b] \u001b[39m\u001b[92m+ Interpolations v0.14.7\u001b[39m\n",
            " \u001b[90m [3587e190] \u001b[39m\u001b[92m+ InverseFunctions v0.1.12\u001b[39m\n",
            " \u001b[90m [92d709cd] \u001b[39m\u001b[92m+ IrrationalConstants v0.2.2\u001b[39m\n",
            " \u001b[90m [033835bb] \u001b[39m\u001b[92m+ JLD2 v0.4.33\u001b[39m\n",
            " \u001b[90m [10f19ff3] \u001b[39m\u001b[92m+ LayoutPointers v0.1.14\u001b[39m\n",
            " \u001b[90m [2ab3a3ac] \u001b[39m\u001b[92m+ LogExpFunctions v0.3.24\u001b[39m\n",
            " \u001b[90m [bdcacae8] \u001b[39m\u001b[92m+ LoopVectorization v0.12.165\u001b[39m\n",
            " \u001b[90m [20f20a25] \u001b[39m\u001b[92m+ MakieCore v0.6.4\u001b[39m\n",
            " \u001b[90m [d125e4d3] \u001b[39m\u001b[92m+ ManualMemory v0.1.8\u001b[39m\n",
            " \u001b[90m [626554b9] \u001b[39m\u001b[92m+ MetaGraphs v0.7.2\u001b[39m\n",
            " \u001b[90m [d8a4904e] \u001b[39m\u001b[92m+ MutableArithmetics v1.3.0\u001b[39m\n",
            " \u001b[90m [77ba4419] \u001b[39m\u001b[92m+ NaNMath v1.0.2\u001b[39m\n",
            " \u001b[90m [b8a86587] \u001b[39m\u001b[92m+ NearestNeighbors v0.4.13\u001b[39m\n",
            " \u001b[90m [510215fc] \u001b[39m\u001b[92m+ Observables v0.5.4\u001b[39m\n",
            " \u001b[90m [d96e819e] \u001b[39m\u001b[92m+ Parameters v0.12.3\u001b[39m\n",
            " \u001b[90m [1d0040c9] \u001b[39m\u001b[92m+ PolyesterWeave v0.2.1\u001b[39m\n",
            " \u001b[90m [f27b6e38] \u001b[39m\u001b[92m+ Polynomials v3.2.13\u001b[39m\n",
            " \u001b[90m [94ee1d12] \u001b[39m\u001b[92m+ Quaternions v0.7.4\u001b[39m\n",
            " \u001b[90m [c84ed2f1] \u001b[39m\u001b[92m+ Ratios v0.4.5\u001b[39m\n",
            " \u001b[90m [c1ae055f] \u001b[39m\u001b[92m+ RealDot v0.1.0\u001b[39m\n",
            " \u001b[90m [3cdcf5f2] \u001b[39m\u001b[92m+ RecipesBase v1.3.4\u001b[39m\n",
            " \u001b[90m [dee08c22] \u001b[39m\u001b[92m+ RegionTrees v0.3.2\u001b[39m\n",
            " \u001b[90m [6038ab10] \u001b[39m\u001b[92m+ Rotations v1.5.1\u001b[39m\n",
            " \u001b[90m [94e857df] \u001b[39m\u001b[92m+ SIMDTypes v0.1.0\u001b[39m\n",
            " \u001b[90m [476501e8] \u001b[39m\u001b[92m+ SLEEFPirates v0.6.39\u001b[39m\n",
            " \u001b[90m [47aef6b3] \u001b[39m\u001b[92m+ SimpleWeightedGraphs v1.4.0\u001b[39m\n",
            " \u001b[90m [66db9d55] \u001b[39m\u001b[92m+ SnoopPrecompile v1.0.3\u001b[39m\n",
            " \u001b[90m [276daf66] \u001b[39m\u001b[92m+ SpecialFunctions v2.3.0\u001b[39m\n",
            " \u001b[90m [aedffcd0] \u001b[39m\u001b[92m+ Static v0.8.8\u001b[39m\n",
            " \u001b[90m [0d7ed370] \u001b[39m\u001b[92m+ StaticArrayInterface v1.4.0\u001b[39m\n",
            " \u001b[90m [90137ffa] \u001b[39m\u001b[92m+ StaticArrays v1.6.2\u001b[39m\n",
            " \u001b[90m [1e83bf80] \u001b[39m\u001b[92m+ StaticArraysCore v1.4.2\u001b[39m\n",
            " \u001b[90m [2913bbd2] \u001b[39m\u001b[92m+ StatsBase v0.34.0\u001b[39m\n",
            " \u001b[90m [8290d209] \u001b[39m\u001b[92m+ ThreadingUtilities v0.5.2\u001b[39m\n",
            " \u001b[90m [06e1c1a7] \u001b[39m\u001b[92m+ TiledIteration v0.5.0\u001b[39m\n",
            " \u001b[90m [3a884ed6] \u001b[39m\u001b[92m+ UnPack v1.0.2\u001b[39m\n",
            " \u001b[90m [3d5dd08c] \u001b[39m\u001b[92m+ VectorizationBase v0.21.64\u001b[39m\n",
            " \u001b[90m [efce3f68] \u001b[39m\u001b[92m+ WoodburyMatrices v0.5.5\u001b[39m\n",
            " \u001b[90m [f5851436] \u001b[39m\u001b[92m+ FFTW_jll v3.3.10+0\u001b[39m\n",
            " \u001b[90m [1d5cc7b8] \u001b[39m\u001b[92m+ IntelOpenMP_jll v2023.1.0+0\u001b[39m\n",
            " \u001b[90m [856f044c] \u001b[39m\u001b[92m+ MKL_jll v2023.1.0+0\u001b[39m\n",
            " \u001b[90m [efe28fd5] \u001b[39m\u001b[92m+ OpenSpecFun_jll v0.5.5+0\u001b[39m\n",
            " \u001b[90m [4af54fe1] \u001b[39m\u001b[92m+ LazyArtifacts\u001b[39m\n",
            " \u001b[90m [1a1011a3] \u001b[39m\u001b[92m+ SharedArrays\u001b[39m\n",
            " \u001b[90m [4607b0f0] \u001b[39m\u001b[92m+ SuiteSparse\u001b[39m\n",
            " \u001b[90m [05823500] \u001b[39m\u001b[92m+ OpenLibm_jll v0.8.1+0\u001b[39m\n",
            "\u001b[32m\u001b[1mPrecompiling\u001b[22m\u001b[39m project...\n",
            "\u001b[32m  ✓ \u001b[39m\u001b[90mOpenLibm_jll\u001b[39m\n",
            "\u001b[32m  ✓ \u001b[39m\u001b[90mUnPack\u001b[39m\n",
            "\u001b[32m  ✓ \u001b[39m\u001b[90mWoodburyMatrices\u001b[39m\n",
            "\u001b[32m  ✓ \u001b[39m\u001b[90mInverseFunctions\u001b[39m\n",
            "\u001b[32m  ✓ \u001b[39m\u001b[90mManualMemory\u001b[39m\n",
            "\u001b[32m  ✓ \u001b[39m\u001b[90mObservables\u001b[39m\n",
            "\u001b[32m  ✓ \u001b[39m\u001b[90mRealDot\u001b[39m\n",
            "\u001b[32m  ✓ \u001b[39m\u001b[90mSIMDTypes\u001b[39m\n",
            "\u001b[32m  ✓ \u001b[39m\u001b[90mCustomUnitRanges\u001b[39m\n",
            "\u001b[32m  ✓ \u001b[39m\u001b[90mIrrationalConstants\u001b[39m\n",
            "\u001b[32m  ✓ \u001b[39m\u001b[90mRatios\u001b[39m\n",
            "\u001b[32m  ✓ \u001b[39m\u001b[90mIfElse\u001b[39m\n",
            "\u001b[32m  ✓ \u001b[39m\u001b[90mCpuId\u001b[39m\n",
            "\u001b[32m  ✓ \u001b[39m\u001b[90mComputationalResources\u001b[39m\n",
            "\u001b[32m  ✓ \u001b[39m\u001b[90mStaticArraysCore\u001b[39m\n",
            "\u001b[32m  ✓ \u001b[39m\u001b[90mSnoopPrecompile\u001b[39m\n",
            "\u001b[32m  ✓ \u001b[39m\u001b[90mCommonSubexpressions\u001b[39m\n",
            "\u001b[32m  ✓ \u001b[39m\u001b[90mArrayInterface\u001b[39m\n",
            "\u001b[32m  ✓ \u001b[39m\u001b[90mIntegralArrays\u001b[39m\n",
            "\u001b[32m  ✓ \u001b[39m\u001b[90mMutableArithmetics\u001b[39m\n",
            "\u001b[32m  ✓ \u001b[39m\u001b[90mIntelOpenMP_jll\u001b[39m\n",
            "\u001b[32m  ✓ \u001b[39m\u001b[90mRecipesBase\u001b[39m\n",
            "\u001b[32m  ✓ \u001b[39m\u001b[90mFFTW_jll\u001b[39m\n",
            "\u001b[32m  ✓ \u001b[39m\u001b[90mOpenSpecFun_jll\u001b[39m\n",
            "\u001b[32m  ✓ \u001b[39m\u001b[90mHistogramThresholding\u001b[39m\n",
            "\u001b[32m  ✓ \u001b[39m\u001b[90mNaNMath\u001b[39m\n",
            "\u001b[32m  ✓ \u001b[39m\u001b[90mParameters\u001b[39m\n",
            "\u001b[32m  ✓ \u001b[39m\u001b[90mAxisAlgorithms\u001b[39m\n",
            "\u001b[32m  ✓ \u001b[39m\u001b[90mChangesOfVariables\u001b[39m\n",
            "\u001b[32m  ✓ \u001b[39m\u001b[90mThreadingUtilities\u001b[39m\n",
            "\u001b[32m  ✓ \u001b[39m\u001b[90mMakieCore\u001b[39m\n",
            "\u001b[32m  ✓ \u001b[39m\u001b[90mQuaternions\u001b[39m\n",
            "\u001b[32m  ✓ \u001b[39m\u001b[90mCatIndices\u001b[39m\n",
            "\u001b[32m  ✓ \u001b[39m\u001b[90mStatic\u001b[39m\n",
            "\u001b[32m  ✓ \u001b[39m\u001b[90mDiffResults\u001b[39m\n",
            "\u001b[32m  ✓ \u001b[39m\u001b[90mColorSchemes\u001b[39m\n",
            "\u001b[32m  ✓ \u001b[39m\u001b[90mArrayInterfaceCore\u001b[39m\n",
            "\u001b[32m  ✓ \u001b[39m\u001b[90mMKL_jll\u001b[39m\n",
            "\u001b[32m  ✓ \u001b[39m\u001b[90mGraphics\u001b[39m\n",
            "\u001b[32m  ✓ \u001b[39m\u001b[90mLogExpFunctions\u001b[39m\n",
            "\u001b[32m  ✓ \u001b[39m\u001b[90mJLD2\u001b[39m\n",
            "\u001b[32m  ✓ \u001b[39m\u001b[90mBitTwiddlingConvenienceFunctions\u001b[39m\n",
            "\u001b[32m  ✓ \u001b[39m\u001b[90mStaticArrays\u001b[39m\n",
            "\u001b[32m  ✓ \u001b[39m\u001b[90mCPUSummary\u001b[39m\n",
            "\u001b[32m  ✓ \u001b[39m\u001b[90mStaticArrayInterface\u001b[39m\n",
            "\u001b[32m  ✓ \u001b[39m\u001b[90mImageShow\u001b[39m\n",
            "\u001b[32m  ✓ \u001b[39m\u001b[90mFFTW\u001b[39m\n",
            "\u001b[32m  ✓ \u001b[39m\u001b[90mStatsBase\u001b[39m\n",
            "\u001b[32m  ✓ \u001b[39m\u001b[90mHostCPUFeatures\u001b[39m\n",
            "\u001b[32m  ✓ \u001b[39m\u001b[90mRotations\u001b[39m\n",
            "\u001b[32m  ✓ \u001b[39m\u001b[90mSpecialFunctions\u001b[39m\n",
            "\u001b[32m  ✓ \u001b[39m\u001b[90mCoordinateTransformations\u001b[39m\n",
            "\u001b[32m  ✓ \u001b[39m\u001b[90mArnoldiMethod\u001b[39m\n",
            "\u001b[32m  ✓ \u001b[39m\u001b[90mRegionTrees\u001b[39m\n",
            "\u001b[32m  ✓ \u001b[39m\u001b[90mNearestNeighbors\u001b[39m\n",
            "\u001b[32m  ✓ \u001b[39m\u001b[90mPolyesterWeave\u001b[39m\n",
            "\u001b[32m  ✓ \u001b[39m\u001b[90mTiledIteration\u001b[39m\n",
            "\u001b[32m  ✓ \u001b[39m\u001b[90mCloseOpenIntervals\u001b[39m\n",
            "\u001b[32m  ✓ \u001b[39m\u001b[90mInterpolations\u001b[39m\n",
            "\u001b[32m  ✓ \u001b[39m\u001b[90mLayoutPointers\u001b[39m\n",
            "\u001b[32m  ✓ \u001b[39m\u001b[90mDiffRules\u001b[39m\n",
            "\u001b[32m  ✓ \u001b[39m\u001b[90mFFTViews\u001b[39m\n",
            "\u001b[32m  ✓ \u001b[39m\u001b[90mPolynomials\u001b[39m\n",
            "\u001b[32m  ✓ \u001b[39m\u001b[90mClustering\u001b[39m\n",
            "\u001b[32m  ✓ \u001b[39m\u001b[90mImageTransformations\u001b[39m\n",
            "\u001b[32m  ✓ \u001b[39m\u001b[90mGraphs\u001b[39m\n",
            "\u001b[32m  ✓ \u001b[39m\u001b[90mForwardDiff\u001b[39m\n",
            "\u001b[32m  ✓ \u001b[39m\u001b[90mImageBinarization\u001b[39m\n",
            "\u001b[32m  ✓ \u001b[39m\u001b[90mVectorizationBase\u001b[39m\n",
            "\u001b[32m  ✓ \u001b[39m\u001b[90mImageContrastAdjustment\u001b[39m\n",
            "\u001b[32m  ✓ \u001b[39m\u001b[90mMetaGraphs\u001b[39m\n",
            "\u001b[32m  ✓ \u001b[39m\u001b[90mSimpleWeightedGraphs\u001b[39m\n",
            "\u001b[32m  ✓ \u001b[39m\u001b[90mSLEEFPirates\u001b[39m\n",
            "\u001b[32m  ✓ \u001b[39m\u001b[90mLoopVectorization\u001b[39m\n",
            "\u001b[32m  ✓ \u001b[39m\u001b[90mImageFiltering\u001b[39m\n",
            "\u001b[32m  ✓ \u001b[39m\u001b[90mImageMorphology\u001b[39m\n",
            "\u001b[32m  ✓ \u001b[39m\u001b[90mImageDistances\u001b[39m\n",
            "\u001b[32m  ✓ \u001b[39m\u001b[90mImageQualityIndexes\u001b[39m\n",
            "\u001b[32m  ✓ \u001b[39m\u001b[90mImageSegmentation\u001b[39m\n",
            "\u001b[32m  ✓ \u001b[39m\u001b[90mImageCorners\u001b[39m\n",
            "\u001b[32m  ✓ \u001b[39mImages\n",
            "  81 dependencies successfully precompiled in 259 seconds. 110 already precompiled.\n",
            "\u001b[32m\u001b[1m   Resolving\u001b[22m\u001b[39m package versions...\n",
            "\u001b[32m\u001b[1m    Updating\u001b[22m\u001b[39m `~/.julia/environments/v1.8/Project.toml`\n",
            " \u001b[90m [5789e2e9] \u001b[39m\u001b[92m+ FileIO v1.16.1\u001b[39m\n",
            "\u001b[32m\u001b[1m  No Changes\u001b[22m\u001b[39m to `~/.julia/environments/v1.8/Manifest.toml`\n",
            "\u001b[32m\u001b[1m   Resolving\u001b[22m\u001b[39m package versions...\n",
            "\u001b[32m\u001b[1m    Updating\u001b[22m\u001b[39m `~/.julia/environments/v1.8/Project.toml`\n",
            " \u001b[90m [5ae59095] \u001b[39m\u001b[92m+ Colors v0.12.10\u001b[39m\n",
            "\u001b[32m\u001b[1m  No Changes\u001b[22m\u001b[39m to `~/.julia/environments/v1.8/Manifest.toml`\n"
          ]
        }
      ]
    },
    {
      "cell_type": "code",
      "source": [
        "using Images, TestImages, Colors\n",
        "img = load(\"r01206.png\")"
      ],
      "metadata": {
        "colab": {
          "base_uri": "https://localhost:8080/",
          "height": 218
        },
        "id": "wOHYetQBIUJu",
        "outputId": "65c88dae-d1c2-4e41-dba0-34ba74d988f4"
      },
      "execution_count": null,
      "outputs": [
        {
          "output_type": "execute_result",
          "data": {
            "text/plain": [
              "197×689 Array{RGB{N0f8},2} with eltype RGB{N0f8}:\n",
              " RGB{N0f8}(1.0,1.0,1.0)  RGB{N0f8}(1.0,1.0,1.0)  …  RGB{N0f8}(1.0,1.0,1.0)\n",
              " RGB{N0f8}(1.0,1.0,1.0)  RGB{N0f8}(1.0,1.0,1.0)     RGB{N0f8}(1.0,1.0,1.0)\n",
              " RGB{N0f8}(1.0,1.0,1.0)  RGB{N0f8}(1.0,1.0,1.0)     RGB{N0f8}(1.0,1.0,1.0)\n",
              " RGB{N0f8}(1.0,1.0,1.0)  RGB{N0f8}(1.0,1.0,1.0)     RGB{N0f8}(1.0,1.0,1.0)\n",
              " RGB{N0f8}(1.0,1.0,1.0)  RGB{N0f8}(1.0,1.0,1.0)     RGB{N0f8}(1.0,1.0,1.0)\n",
              " RGB{N0f8}(1.0,1.0,1.0)  RGB{N0f8}(1.0,1.0,1.0)  …  RGB{N0f8}(1.0,1.0,1.0)\n",
              " RGB{N0f8}(1.0,1.0,1.0)  RGB{N0f8}(1.0,1.0,1.0)     RGB{N0f8}(1.0,1.0,1.0)\n",
              " RGB{N0f8}(1.0,1.0,1.0)  RGB{N0f8}(1.0,1.0,1.0)     RGB{N0f8}(1.0,1.0,1.0)\n",
              " RGB{N0f8}(1.0,1.0,1.0)  RGB{N0f8}(1.0,1.0,1.0)     RGB{N0f8}(1.0,1.0,1.0)\n",
              " RGB{N0f8}(1.0,1.0,1.0)  RGB{N0f8}(1.0,1.0,1.0)     RGB{N0f8}(1.0,1.0,1.0)\n",
              " RGB{N0f8}(1.0,1.0,1.0)  RGB{N0f8}(1.0,1.0,1.0)  …  RGB{N0f8}(1.0,1.0,1.0)\n",
              " RGB{N0f8}(1.0,1.0,1.0)  RGB{N0f8}(1.0,1.0,1.0)     RGB{N0f8}(1.0,1.0,1.0)\n",
              " RGB{N0f8}(1.0,1.0,1.0)  RGB{N0f8}(1.0,1.0,1.0)     RGB{N0f8}(1.0,1.0,1.0)\n",
              " ⋮                                               ⋱  \n",
              " RGB{N0f8}(1.0,1.0,1.0)  RGB{N0f8}(1.0,1.0,1.0)  …  RGB{N0f8}(1.0,1.0,1.0)\n",
              " RGB{N0f8}(1.0,1.0,1.0)  RGB{N0f8}(1.0,1.0,1.0)     RGB{N0f8}(1.0,1.0,1.0)\n",
              " RGB{N0f8}(1.0,1.0,1.0)  RGB{N0f8}(1.0,1.0,1.0)     RGB{N0f8}(1.0,1.0,1.0)\n",
              " RGB{N0f8}(1.0,1.0,1.0)  RGB{N0f8}(1.0,1.0,1.0)     RGB{N0f8}(1.0,1.0,1.0)\n",
              " RGB{N0f8}(1.0,1.0,1.0)  RGB{N0f8}(1.0,1.0,1.0)     RGB{N0f8}(1.0,1.0,1.0)\n",
              " RGB{N0f8}(1.0,1.0,1.0)  RGB{N0f8}(1.0,1.0,1.0)  …  RGB{N0f8}(1.0,1.0,1.0)\n",
              " RGB{N0f8}(1.0,1.0,1.0)  RGB{N0f8}(1.0,1.0,1.0)     RGB{N0f8}(1.0,1.0,1.0)\n",
              " RGB{N0f8}(1.0,1.0,1.0)  RGB{N0f8}(1.0,1.0,1.0)     RGB{N0f8}(1.0,1.0,1.0)\n",
              " RGB{N0f8}(1.0,1.0,1.0)  RGB{N0f8}(1.0,1.0,1.0)     RGB{N0f8}(1.0,1.0,1.0)\n",
              " RGB{N0f8}(1.0,1.0,1.0)  RGB{N0f8}(1.0,1.0,1.0)     RGB{N0f8}(1.0,1.0,1.0)\n",
              " RGB{N0f8}(1.0,1.0,1.0)  RGB{N0f8}(1.0,1.0,1.0)  …  RGB{N0f8}(1.0,1.0,1.0)\n",
              " RGB{N0f8}(1.0,1.0,1.0)  RGB{N0f8}(1.0,1.0,1.0)     RGB{N0f8}(1.0,1.0,1.0)"
            ],
            "image/png": "[encoded data removed]",
            "text/html": [
              "<img src=\"data:image/png;base64,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\">"
            ]
          },
          "metadata": {},
          "execution_count": 10
        }
      ]
    },
    {
      "cell_type": "markdown",
      "source": [
        "### 7. Get Kegg Ortholog group\n",
        "\n",
        "To get the ortholog group use the link function with the string \"ko\" and the reaction number or concatenate string as \"RXXXXX\""
      ],
      "metadata": {
        "id": "scoZ-5Fq_vE1"
      }
    },
    {
      "cell_type": "code",
      "source": [
        "kegg_orthogroup = KEGGAPI.link(\"ko\", \"R01206\")\n",
        "DataFrame(\n",
        "  kegg_orthogroup.data,\n",
        "  kegg_orthogroup.colnames\n",
        ")"
      ],
      "metadata": {
        "colab": {
          "base_uri": "https://localhost:8080/",
          "height": 162
        },
        "id": "MtIV0ogU_E90",
        "outputId": "279e8919-969f-489f-b95e-8104459c66f4"
      },
      "execution_count": 24,
      "outputs": [
        {
          "output_type": "execute_result",
          "data": {
            "text/plain": [
              "\u001b[1m3×2 DataFrame\u001b[0m\n",
              "\u001b[1m Row \u001b[0m│\u001b[1m Target ID \u001b[0m\u001b[1m Source ID \u001b[0m\n",
              "     │\u001b[90m String    \u001b[0m\u001b[90m String    \u001b[0m\n",
              "─────┼──────────────────────\n",
              "   1 │ rn:R01206  ko:K01183\n",
              "   2 │ rn:R01206  ko:K13381\n",
              "   3 │ rn:R01206  ko:K20547"
            ],
            "text/html": [
              "<div><div style = \"float: left;\"><span>3×2 DataFrame</span></div><div style = \"clear: both;\"></div></div><div class = \"data-frame\" style = \"overflow-x: scroll;\"><table class = \"data-frame\" style = \"margin-bottom: 6px;\"><thead><tr class = \"header\"><th class = \"rowNumber\" style = \"font-weight: bold; text-align: right;\">Row</th><th style = \"text-align: left;\">Target ID</th><th style = \"text-align: left;\">Source ID</th></tr><tr class = \"subheader headerLastRow\"><th class = \"rowNumber\" style = \"font-weight: bold; text-align: right;\"></th><th title = \"String\" style = \"text-align: left;\">String</th><th title = \"String\" style = \"text-align: left;\">String</th></tr></thead><tbody><tr><td class = \"rowNumber\" style = \"font-weight: bold; text-align: right;\">1</td><td style = \"text-align: left;\">rn:R01206</td><td style = \"text-align: left;\">ko:K01183</td></tr><tr><td class = \"rowNumber\" style = \"font-weight: bold; text-align: right;\">2</td><td style = \"text-align: left;\">rn:R01206</td><td style = \"text-align: left;\">ko:K13381</td></tr><tr><td class = \"rowNumber\" style = \"font-weight: bold; text-align: right;\">3</td><td style = \"text-align: left;\">rn:R01206</td><td style = \"text-align: left;\">ko:K20547</td></tr></tbody></table></div>"
            ],
            "text/latex": "\\begin{tabular}{r|cc}\n\t& Target ID & Source ID\\\\\n\t\\hline\n\t& String & String\\\\\n\t\\hline\n\t1 & rn:R01206 & ko:K01183 \\\\\n\t2 & rn:R01206 & ko:K13381 \\\\\n\t3 & rn:R01206 & ko:K20547 \\\\\n\\end{tabular}\n"
          },
          "metadata": {},
          "execution_count": 24
        }
      ]
    }
  ]
}